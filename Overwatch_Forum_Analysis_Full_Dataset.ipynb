{
 "cells": [
  {
   "cell_type": "markdown",
   "metadata": {
    "nbpresent": {
     "id": "828b046a-94e2-4c1b-974c-779f7ee8d981"
    }
   },
   "source": [
    "# Analyzing Overwatch Forum Posts"
   ]
  },
  {
   "cell_type": "markdown",
   "metadata": {
    "nbpresent": {
     "id": "c8faf55b-7972-4455-82ec-de8ab9e04d5c"
    }
   },
   "source": [
    "This is an analysis of data I scraped from Blizzard's official Overwatch general discussion <a href=\"https://us.battle.net/forums/en/overwatch/22813879/\">forum</a>. For more information on how scraping was performed or about this project in general, visit my repo <a href=\"https://github.com/dskarbrevik/W266_Project_Skarbrevik\">here</a>."
   ]
  },
  {
   "cell_type": "markdown",
   "metadata": {
    "nbpresent": {
     "id": "94ca5e9a-814a-479f-aa3f-400558a69e1d"
    }
   },
   "source": [
    "<a id=\"toc\"></a>\n",
    "\n",
    "## Table of Contents\n",
    "<ol>\n",
    "    <li>[Setting up the environment](#section1)</li>\n",
    "    <br>\n",
    "    <li>[Preprocessing the data](#section2)</li>\n",
    "    <br>\n",
    "    <li>[Exploratory Data Analysis on whole dataset](#section3)</li>\n",
    "    <br>\n",
    "    <li>[Creating language models by month](#section4)</li>\n",
    "    <br>\n",
    "    <li>[Analyzing user life cycle](#section5)</li>\n",
    "</ol>"
   ]
  },
  {
   "cell_type": "markdown",
   "metadata": {
    "nbpresent": {
     "id": "7d992b0e-bd2d-4723-8437-8f88685b6af7"
    }
   },
   "source": [
    "***"
   ]
  },
  {
   "cell_type": "markdown",
   "metadata": {
    "nbpresent": {
     "id": "95841148-b7bb-4b07-b7dc-c9354715d165"
    }
   },
   "source": [
    "<a id='section1'></a>\n",
    "\n",
    "## 1) Setting up the environment\n",
    "\n"
   ]
  },
  {
   "cell_type": "markdown",
   "metadata": {
    "nbpresent": {
     "id": "286a04c4-7825-4d5a-8a6a-04a08783b514"
    }
   },
   "source": [
    "#### Import libraries"
   ]
  },
  {
   "cell_type": "code",
   "execution_count": 5,
   "metadata": {
    "collapsed": true,
    "nbpresent": {
     "id": "2d90d852-57de-4ea3-89ff-5ef03ba524a2"
    }
   },
   "outputs": [],
   "source": [
    "import pandas as pd\n",
    "import numpy as np\n",
    "import utils # utils.py can be found in repo; contains helper functions used in this notebook\n",
    "import nltk\n",
    "import re\n",
    "import sys\n",
    "import string\n",
    "import random\n",
    "from nltk.corpus import stopwords\n",
    "from nltk import word_tokenize, sent_tokenize\n",
    "from collections import Counter, defaultdict\n",
    "import matplotlib.pyplot as plt\n",
    "%matplotlib inline"
   ]
  },
  {
   "cell_type": "code",
   "execution_count": 63,
   "metadata": {},
   "outputs": [
    {
     "name": "stdout",
     "output_type": "stream",
     "text": [
      "showing info https://raw.githubusercontent.com/nltk/nltk_data/gh-pages/index.xml\n"
     ]
    },
    {
     "data": {
      "text/plain": [
       "True"
      ]
     },
     "execution_count": 63,
     "metadata": {},
     "output_type": "execute_result"
    }
   ],
   "source": [
    "# if you don't have nltk data downloaded, \n",
    "# you will need to do that before being able to execute the later parts of this notebook.\n",
    "# Use the below command to do so:\n",
    "\n",
    "nltk.download()"
   ]
  },
  {
   "cell_type": "code",
   "execution_count": 69,
   "metadata": {},
   "outputs": [
    {
     "data": {
      "text/plain": [
       "<module 'utils' from 'C:\\\\Users\\\\skarb\\\\Documents\\\\GitHub\\\\Forum-User-Lifecycle-Analysis\\\\utils.py'>"
      ]
     },
     "execution_count": 69,
     "metadata": {},
     "output_type": "execute_result"
    }
   ],
   "source": [
    "# in case I need to reload utils after editing it...\n",
    "\n",
    "import importlib\n",
    "importlib.reload(utils)"
   ]
  },
  {
   "cell_type": "markdown",
   "metadata": {
    "nbpresent": {
     "id": "4ea31050-e26d-456e-a9b3-46a502210758"
    }
   },
   "source": [
    "Note: nltk data must be downloaded prior to running cells further in this notebook. Run `nltk.download()` to install necessary data."
   ]
  },
  {
   "cell_type": "markdown",
   "metadata": {},
   "source": [
    "**Import full dataset!! yaaay**"
   ]
  },
  {
   "cell_type": "code",
   "execution_count": 6,
   "metadata": {},
   "outputs": [],
   "source": [
    "master_db = pd.read_csv(\"C:\\\\Users\\\\skarb\\\\Desktop\\\\overwatch_database.csv\", encoding=\"ISO-8859-1\")"
   ]
  },
  {
   "cell_type": "markdown",
   "metadata": {
    "nbpresent": {
     "id": "61332c64-fbef-41db-a8e9-b4097e94d413"
    }
   },
   "source": [
    "***"
   ]
  },
  {
   "cell_type": "markdown",
   "metadata": {
    "nbpresent": {
     "id": "ae7bf158-e52c-4f86-b0a3-b8f663b91b87"
    }
   },
   "source": [
    "<div align=\"right\">\n",
    "    [back to top](#toc)\n",
    "</div>\n",
    "\n",
    "<a id='section2'></a>\n",
    "\n",
    "## 2) Preprocessing the data"
   ]
  },
  {
   "cell_type": "markdown",
   "metadata": {},
   "source": [
    "#### a) Remove duplicate posts: both exact duplicates and situations where a user just reposted the exact same topic text and post text\n",
    "\n",
    "Only after much anguish while troubleshooting the creation of my language models... I realized for some strange reason there are duplicate rows in this dataset. It's probably something you should always check for right away, but in my mind it seemed pretty silly to think that the Blizzard forum would have the exact same post displayed twice on their website... anyway now it's the first step in this notebook... \n",
    "\n",
    "[UPDATE!]\n",
    "\n",
    "After thinking I had solved my issue, it turns out that while the vanilla \"drop_duplicates()\" Pandas function did get rid of all exact copies of posts in the dataset, it didn't get rid of rows where just the \"user\" and \"text\" were identical. After debating whether these rows should be removed, I have decided to remove them as such posts are not in line with the idea of tracking changes in the user over time.\n",
    "\n",
    "[UPDATE... again]\n",
    "\n",
    "I have a function that creates a unified \"all_text\" column in the dataframe that is simply \"topic\" + \" \" + \"text\" OR if \"topic\" doesn't end in punctuation \"topic\" + \". \" + \"text\" (I add a period to separate the topic and text). Ultimately there isn't much reason for me to do it, but it revealed to me that some forum users made a post where the topic ended without punctuation and then made a new post that's exactly the same except now the topic has a \".\" at the end... I'm choosing to label these as duplicate posts as well and delete them but it makes me question how many other \"soft duplicates\" (just made that up) exist in the dataset. Intuitively there probably aren't that many since other users and moderators would certainly discourage such behavior from a given user. Also, the case I described about a user posting once without punctuation and again with punctuation occured only 16 times in over 400,000 posts, so again probably not a huge deal, but an interesting problem to consider.\n",
    "\n",
    "**... tl;dr this step is very important!**"
   ]
  },
  {
   "cell_type": "code",
   "execution_count": 7,
   "metadata": {},
   "outputs": [
    {
     "name": "stdout",
     "output_type": "stream",
     "text": [
      "You dropped 125703 duplicate rows.\n"
     ]
    }
   ],
   "source": [
    "before_size = master_db.shape[0]\n",
    "master_db = master_db.drop_duplicates(subset=[\"topic\",\"text\",\"user\"])\n",
    "after_size = master_db.shape[0]\n",
    "\n",
    "print(\"You dropped {} duplicate rows.\".format(before_size - after_size))"
   ]
  },
  {
   "cell_type": "markdown",
   "metadata": {
    "nbpresent": {
     "id": "a8f2570d-132c-4c55-acdc-8cc1a486c244"
    }
   },
   "source": [
    "#### b) Remove any rows with more than 1 NaN value\n",
    "Setting \"thresh\" the way I do here allows 1 NaN per row of table. This way we can allow forum posts where the user entered a topic line but no body text (as this may still be valuable data)."
   ]
  },
  {
   "cell_type": "code",
   "execution_count": 8,
   "metadata": {
    "collapsed": true,
    "nbpresent": {
     "id": "4c86c9c6-6e38-488c-b15d-32c749f9d7f2"
    }
   },
   "outputs": [],
   "source": [
    "master_db = master_db.dropna(thresh=len(master_db.columns.tolist())-1)"
   ]
  },
  {
   "cell_type": "markdown",
   "metadata": {
    "nbpresent": {
     "id": "6336c526-44a0-4953-a10c-fade69f1fd13"
    }
   },
   "source": [
    "#### c) Remove users that are \"community managers\" (i.e. employees)\n",
    "\n",
    "This will remove all forum posts from users that are employees of Blizzard. Because these posts are not representative of the thoughts/motivation/language of a non-affiliated forum user, I believe removing these posts is a necessary step. I formed the list of employee users by hand so it is possible that it is not complete, but to the best of my knowledge it is. Ultimately, this removes a very small number of rows from the dataset, so not likely consequential either way."
   ]
  },
  {
   "cell_type": "code",
   "execution_count": 9,
   "metadata": {
    "nbpresent": {
     "id": "d58bd987-c871-4ae4-ac37-50b32d5e6395"
    }
   },
   "outputs": [
    {
     "name": "stdout",
     "output_type": "stream",
     "text": [
      "There were admins in the dataframe.\n",
      "Found 8 admins in the dataframe. Removing those users dropped 1316 rows from the dataframe.\n"
     ]
    }
   ],
   "source": [
    "admin_list = [\"Lylirra\", \"Tom Powers\", \"Josh Engen\", \"Jeff Kaplan\", \"Scott Mercer\", \"Michael Chu\", \"Geoff Goodman\", \"Zoevia\"]\n",
    "\n",
    "admins_in_df = utils.check_for_admins(master_db, \"user\", admin_list)\n",
    "\n",
    "master_db = utils.remove_admins(master_db, \"user\", admins_in_df)"
   ]
  },
  {
   "cell_type": "markdown",
   "metadata": {
    "nbpresent": {
     "id": "466a61ad-1f17-403f-8d26-12f79d8fc334"
    }
   },
   "source": [
    "#### d) Convert 'date' and 'time' columns to datetime objects and combine them\n",
    "\n",
    "(This could take a minute)"
   ]
  },
  {
   "cell_type": "code",
   "execution_count": 10,
   "metadata": {
    "collapsed": true,
    "nbpresent": {
     "id": "402c1660-48e9-4eaf-bfdc-8a685a121e4f"
    }
   },
   "outputs": [],
   "source": [
    "master_db['date'] = pd.to_datetime(master_db['date'])\n",
    "master_db['time'] = pd.to_timedelta(master_db['time'] + ':00', unit='h')"
   ]
  },
  {
   "cell_type": "code",
   "execution_count": 11,
   "metadata": {
    "collapsed": true,
    "nbpresent": {
     "id": "7b8a2c89-9a86-49f3-aca7-3f4130a14cd1"
    }
   },
   "outputs": [],
   "source": [
    "master_db['date'] = master_db['date'].add(master_db['time']) # combine features into one date/time feature\n",
    "master_db = master_db.drop(['time'], axis=1)"
   ]
  },
  {
   "cell_type": "markdown",
   "metadata": {
    "nbpresent": {
     "id": "749202c7-46f2-414f-bff4-018711e35397"
    }
   },
   "source": [
    "#### e) Sort dataframe by date"
   ]
  },
  {
   "cell_type": "code",
   "execution_count": 12,
   "metadata": {
    "collapsed": true
   },
   "outputs": [],
   "source": [
    "master_db = master_db.sort_values(by='date')\n",
    "master_db = master_db.reset_index(drop=True)"
   ]
  },
  {
   "cell_type": "markdown",
   "metadata": {},
   "source": [
    "###  [DON'T DO STEPS f or g]\n",
    "This was used when the only text I had were from OP, but now that I have all replies as well, most rows in this database don't have a \"topic\"... it's already combined.\n",
    "\n",
    "#### f) Combine \"topic\" and \"text\" features\n",
    "\n",
    "(This could take a minute)\n",
    "\n",
    "To create one unified chunk of text for each post without sacrificing data, I am going to make a new feature in the dataframe that treats the \"topic\" of a post as the first sentence of a post. From my experience of the significance of topic lines in posts of this forum, this seems like a reasonable assumption."
   ]
  },
  {
   "cell_type": "code",
   "execution_count": 12,
   "metadata": {
    "collapsed": true
   },
   "outputs": [],
   "source": [
    "# DON'T DO THIS\n",
    "#master_db = utils.combine_text_cols(master_db)"
   ]
  },
  {
   "cell_type": "markdown",
   "metadata": {},
   "source": [
    "#### g) Another row drop for \"soft duplicates\" (read blurb above in section 2a. for more info)"
   ]
  },
  {
   "cell_type": "code",
   "execution_count": 13,
   "metadata": {},
   "outputs": [
    {
     "name": "stdout",
     "output_type": "stream",
     "text": [
      "You dropped 16 duplicate rows.\n"
     ]
    }
   ],
   "source": [
    "# DON'T DO THIS\n",
    "# before_size = master_db.shape[0]\n",
    "# master_db = master_db.drop_duplicates(subset=[\"user\", \"all_text\"])\n",
    "# after_size = master_db.shape[0]\n",
    "\n",
    "# print(\"You dropped {} duplicate rows.\".format(before_size - after_size))"
   ]
  },
  {
   "cell_type": "markdown",
   "metadata": {
    "nbpresent": {
     "id": "05b4bb39-02c7-4470-9c33-d3d0bcfed1f8"
    }
   },
   "source": [
    "#### h) Rearrange columns for better viewing"
   ]
  },
  {
   "cell_type": "code",
   "execution_count": 13,
   "metadata": {},
   "outputs": [
    {
     "data": {
      "text/plain": [
       "['date',\n",
       " 'downvotes',\n",
       " 'op?',\n",
       " 'text',\n",
       " 'topic',\n",
       " 'topic_id',\n",
       " 'upvotes',\n",
       " 'user',\n",
       " 'user_posts']"
      ]
     },
     "execution_count": 13,
     "metadata": {},
     "output_type": "execute_result"
    }
   ],
   "source": [
    "master_db.columns.tolist()"
   ]
  },
  {
   "cell_type": "code",
   "execution_count": 14,
   "metadata": {
    "collapsed": true,
    "nbpresent": {
     "id": "b3b7e384-314c-4216-8a39-8ae049f2bf9f"
    }
   },
   "outputs": [],
   "source": [
    "old_cols = master_db.columns.tolist()\n",
    "new_cols = ['topic_id','date', 'user', 'op?','topic','text', 'upvotes', 'downvotes' 'user_posts']\n",
    "\n",
    "if set(old_cols) == set(new_cols):\n",
    "    master_db = master_db[new_cols]\n"
   ]
  },
  {
   "cell_type": "markdown",
   "metadata": {
    "nbpresent": {
     "id": "5f73781e-5bee-4683-914e-c66b46022b63"
    }
   },
   "source": [
    "### What the data looks like AFTER pre-processing:"
   ]
  },
  {
   "cell_type": "code",
   "execution_count": 16,
   "metadata": {
    "nbpresent": {
     "id": "6f8b1009-5e4e-4e1d-ac3b-c2521740b33a"
    }
   },
   "outputs": [
    {
     "data": {
      "text/html": [
       "<div>\n",
       "<style>\n",
       "    .dataframe thead tr:only-child th {\n",
       "        text-align: right;\n",
       "    }\n",
       "\n",
       "    .dataframe thead th {\n",
       "        text-align: left;\n",
       "    }\n",
       "\n",
       "    .dataframe tbody tr th {\n",
       "        vertical-align: top;\n",
       "    }\n",
       "</style>\n",
       "<table border=\"1\" class=\"dataframe\">\n",
       "  <thead>\n",
       "    <tr style=\"text-align: right;\">\n",
       "      <th></th>\n",
       "      <th>date</th>\n",
       "      <th>downvotes</th>\n",
       "      <th>op?</th>\n",
       "      <th>text</th>\n",
       "      <th>topic</th>\n",
       "      <th>topic_id</th>\n",
       "      <th>upvotes</th>\n",
       "      <th>user</th>\n",
       "      <th>user_posts</th>\n",
       "    </tr>\n",
       "  </thead>\n",
       "  <tbody>\n",
       "    <tr>\n",
       "      <th>0</th>\n",
       "      <td>2016-05-23 11:34:00</td>\n",
       "      <td>5</td>\n",
       "      <td>True</td>\n",
       "      <td>A new topic?</td>\n",
       "      <td>Could this be...</td>\n",
       "      <td>20744126275</td>\n",
       "      <td>0</td>\n",
       "      <td>Ralavik</td>\n",
       "      <td>2274 posts</td>\n",
       "    </tr>\n",
       "    <tr>\n",
       "      <th>1</th>\n",
       "      <td>2016-05-23 11:37:00</td>\n",
       "      <td>9</td>\n",
       "      <td>True</td>\n",
       "      <td>I'm curious what kind of exodus Battleborn wil...</td>\n",
       "      <td>Who else dropped Battleborn like a brick</td>\n",
       "      <td>20744265647</td>\n",
       "      <td>26</td>\n",
       "      <td>d3fqon</td>\n",
       "      <td>307 posts</td>\n",
       "    </tr>\n",
       "    <tr>\n",
       "      <th>2</th>\n",
       "      <td>2016-05-23 11:38:00</td>\n",
       "      <td>0</td>\n",
       "      <td>True</td>\n",
       "      <td>Want to find a decent team to hang out and put...</td>\n",
       "      <td>Looking for skilled players</td>\n",
       "      <td>20744155750</td>\n",
       "      <td>0</td>\n",
       "      <td>Bammer</td>\n",
       "      <td>59 posts</td>\n",
       "    </tr>\n",
       "    <tr>\n",
       "      <th>3</th>\n",
       "      <td>2016-05-23 11:40:00</td>\n",
       "      <td>2</td>\n",
       "      <td>True</td>\n",
       "      <td>Best Monday of the year</td>\n",
       "      <td>Game is live...</td>\n",
       "      <td>20744185537</td>\n",
       "      <td>7</td>\n",
       "      <td>Omni</td>\n",
       "      <td>7 posts</td>\n",
       "    </tr>\n",
       "    <tr>\n",
       "      <th>4</th>\n",
       "      <td>2016-05-23 11:41:00</td>\n",
       "      <td>1</td>\n",
       "      <td>True</td>\n",
       "      <td>Apparently all of us were supposed to receive ...</td>\n",
       "      <td>Free Battletag Change?</td>\n",
       "      <td>20744275856</td>\n",
       "      <td>1</td>\n",
       "      <td>LilaSawyer</td>\n",
       "      <td>662 posts</td>\n",
       "    </tr>\n",
       "  </tbody>\n",
       "</table>\n",
       "</div>"
      ],
      "text/plain": [
       "                 date  downvotes   op?  \\\n",
       "0 2016-05-23 11:34:00          5  True   \n",
       "1 2016-05-23 11:37:00          9  True   \n",
       "2 2016-05-23 11:38:00          0  True   \n",
       "3 2016-05-23 11:40:00          2  True   \n",
       "4 2016-05-23 11:41:00          1  True   \n",
       "\n",
       "                                                text  \\\n",
       "0                                       A new topic?   \n",
       "1  I'm curious what kind of exodus Battleborn wil...   \n",
       "2  Want to find a decent team to hang out and put...   \n",
       "3                            Best Monday of the year   \n",
       "4  Apparently all of us were supposed to receive ...   \n",
       "\n",
       "                                      topic     topic_id  upvotes        user  \\\n",
       "0                          Could this be...  20744126275        0     Ralavik   \n",
       "1  Who else dropped Battleborn like a brick  20744265647       26      d3fqon   \n",
       "2               Looking for skilled players  20744155750        0      Bammer   \n",
       "3                           Game is live...  20744185537        7        Omni   \n",
       "4                    Free Battletag Change?  20744275856        1  LilaSawyer   \n",
       "\n",
       "   user_posts  \n",
       "0  2274 posts  \n",
       "1   307 posts  \n",
       "2    59 posts  \n",
       "3     7 posts  \n",
       "4   662 posts  "
      ]
     },
     "execution_count": 16,
     "metadata": {},
     "output_type": "execute_result"
    }
   ],
   "source": [
    "master_db.head()"
   ]
  },
  {
   "cell_type": "code",
   "execution_count": 17,
   "metadata": {},
   "outputs": [
    {
     "data": {
      "text/plain": [
       "(5377317, 9)"
      ]
     },
     "execution_count": 17,
     "metadata": {},
     "output_type": "execute_result"
    }
   ],
   "source": [
    "master_db.shape"
   ]
  },
  {
   "cell_type": "code",
   "execution_count": 56,
   "metadata": {},
   "outputs": [
    {
     "data": {
      "text/html": [
       "<div>\n",
       "<style>\n",
       "    .dataframe thead tr:only-child th {\n",
       "        text-align: right;\n",
       "    }\n",
       "\n",
       "    .dataframe thead th {\n",
       "        text-align: left;\n",
       "    }\n",
       "\n",
       "    .dataframe tbody tr th {\n",
       "        vertical-align: top;\n",
       "    }\n",
       "</style>\n",
       "<table border=\"1\" class=\"dataframe\">\n",
       "  <thead>\n",
       "    <tr style=\"text-align: right;\">\n",
       "      <th></th>\n",
       "      <th>date</th>\n",
       "      <th>downvotes</th>\n",
       "      <th>op?</th>\n",
       "      <th>text</th>\n",
       "      <th>topic</th>\n",
       "      <th>topic_id</th>\n",
       "      <th>upvotes</th>\n",
       "      <th>user</th>\n",
       "      <th>user_posts</th>\n",
       "    </tr>\n",
       "  </thead>\n",
       "  <tbody>\n",
       "    <tr>\n",
       "      <th>4384000</th>\n",
       "      <td>2017-10-18 08:38:00</td>\n",
       "      <td>0</td>\n",
       "      <td>False</td>\n",
       "      <td>Does anyone know if Blizzard punishes this beh...</td>\n",
       "      <td>QP Needs Re-work..</td>\n",
       "      <td>20759209346</td>\n",
       "      <td>0</td>\n",
       "      <td>KiwiRider</td>\n",
       "      <td>4 posts</td>\n",
       "    </tr>\n",
       "  </tbody>\n",
       "</table>\n",
       "</div>"
      ],
      "text/plain": [
       "                       date  downvotes    op?  \\\n",
       "4384000 2017-10-18 08:38:00          0  False   \n",
       "\n",
       "                                                      text  \\\n",
       "4384000  Does anyone know if Blizzard punishes this beh...   \n",
       "\n",
       "                      topic     topic_id  upvotes       user user_posts  \n",
       "4384000  QP Needs Re-work..  20759209346        0  KiwiRider    4 posts  "
      ]
     },
     "execution_count": 56,
     "metadata": {},
     "output_type": "execute_result"
    }
   ],
   "source": [
    "master_db[master_db.user==\"KiwiRider\"]"
   ]
  },
  {
   "cell_type": "code",
   "execution_count": 50,
   "metadata": {},
   "outputs": [
    {
     "name": "stdout",
     "output_type": "stream",
     "text": [
      "So when should we expect a new Hanzo skin? Like next year?\n",
      "\n",
      "\n",
      "04/11/2017 11:24 AMPosted by RusemanWhat does Hanzo has to do with this event? I can't believe you expected him to be on it.When did I say I expected him to get a skin from this event? I am just wondering when he will get a skin. Nice assumption though!\n",
      "\n",
      "\n"
     ]
    }
   ],
   "source": [
    "for text in mitch['text'].tolist():\n",
    "    print(text)\n",
    "    print(\"\\n\")"
   ]
  },
  {
   "cell_type": "markdown",
   "metadata": {},
   "source": [
    "**Note on final features:** Some features (i.e. \"num_replies\" and \"time_last_reply\") will not be used in subsequent analysis and modeling. However, these features are included because they may be useful for future work."
   ]
  },
  {
   "cell_type": "markdown",
   "metadata": {
    "nbpresent": {
     "id": "7be7ce35-ed30-4cb6-9553-8c41535b7817"
    }
   },
   "source": [
    "***"
   ]
  },
  {
   "cell_type": "markdown",
   "metadata": {},
   "source": [
    "## !! UNDER CONSTRUCTION !!\n",
    "\n",
    "** [Ideas for more analysis] **\n",
    "\n",
    "* some visual analysis...\n",
    "    * histogram of number of words per post\n",
    "    * histogram of number of posts per user [DONE]"
   ]
  },
  {
   "cell_type": "markdown",
   "metadata": {
    "nbpresent": {
     "id": "1fb7055f-f43f-4597-a67c-154f7bed2930"
    }
   },
   "source": [
    "<div align=\"right\">\n",
    "    [back to top](#toc)\n",
    "</div>\n",
    "\n",
    "\n",
    "<a id='section3'></a>\n",
    "\n",
    "## 3) Exploratory Data Analysis on whole dataset"
   ]
  },
  {
   "cell_type": "code",
   "execution_count": 16,
   "metadata": {
    "nbpresent": {
     "id": "665a4b84-de1f-44da-9c7d-dad362351850"
    }
   },
   "outputs": [
    {
     "name": "stdout",
     "output_type": "stream",
     "text": [
      "Size of dataset = 638.55 MB\n",
      "Number of forum posts = 426047\n",
      "Number of posts dropped due to NaN or duplicate: 16\n",
      "Feature names: ['date', 'user', 'all_text', 'topic', 'text', 'num_replies', 'time_last_reply']\n",
      "Most replies a post received: 8749\n",
      "Average number of replies per post: 9.97\n",
      "Number of unique users: 85308\n",
      "Number of users with over 50 posts: 1364\n",
      "Average number of posts per user: 4.99\n",
      "Oldest Post in Dataset: 2016-05-23 23:34:00\n",
      "Newest Post in Dataset: 2017-11-18 04:53:00\n"
     ]
    }
   ],
   "source": [
    "total_posts = master_db.shape[0]\n",
    "total_users = len(set(master_db['user']))\n",
    "avg_post = total_posts/total_users\n",
    "#freqdist = utils.count_tokens(master_db[\"all_text\"].tolist())\n",
    "print(\"Size of dataset = {0:.2f} MB\".format(sys.getsizeof(master_db)/1000000))\n",
    "print(\"Number of forum posts = {}\".format(total_posts))\n",
    "print(\"Number of posts dropped due to NaN or duplicate: {}\".format(before_size-master_db.shape[0]))\n",
    "print(\"Feature names: {}\".format(list(master_db)))\n",
    "print(\"Most replies a post received: {}\".format(max(master_db['num_replies'])))\n",
    "print(\"Average number of replies per post: {0:.2f}\".format(np.mean(master_db['num_replies'])))\n",
    "print(\"Number of unique users: {}\".format(len(set(master_db['user']))))\n",
    "print(\"Number of users with over 50 posts: {}\".format(len(utils.users_with_n_posts(master_db, 50))))\n",
    "print(\"Average number of posts per user: {0:.2f}\".format(avg_post))\n",
    "print(\"Oldest Post in Dataset: {}\".format(master_db['date'].tolist()[0]))\n",
    "print(\"Newest Post in Dataset: {}\".format(master_db['date'].tolist()[-1]))\n",
    "#print(\"Some of the most common words/tokens in the dataset:\")\n",
    "#freqdist.most_common(50)"
   ]
  },
  {
   "cell_type": "code",
   "execution_count": 33,
   "metadata": {},
   "outputs": [
    {
     "data": {
      "image/png": "[encoded data removed]",
      "text/plain": [
       "<matplotlib.figure.Figure at 0x1a2f4574a8>"
      ]
     },
     "metadata": {},
     "output_type": "display_data"
    }
   ],
   "source": [
    "utils.plot_user_posts(master_db)"
   ]
  },
  {
   "cell_type": "markdown",
   "metadata": {},
   "source": [
    "Note how the scale changes on the y axis. So, we can see that posts are HEAVILY skewed toward users that have made very few posts. Further, this dataset does not include any users that made 0 posts of their own, but may have written many replies to posts. Intuitively, and as the EDA above shows, there are likely many such users."
   ]
  },
  {
   "cell_type": "markdown",
   "metadata": {
    "nbpresent": {
     "id": "70c1eea4-c26b-4ed0-8568-824e58717255"
    }
   },
   "source": [
    "**Note on quantity of data:** This dataset does not look at the text in replies to forum post, it only looks at the forum post text itself. However because we see an average of about 10 replies per post, if we assume that the replies to a post have about as much text each as the post itself (actually seems possible for this forum) then gathering this data would increase our dataset by an order of magnitude. Something to keep in mind if \"needing more data\" seems like a problem down the line."
   ]
  },
  {
   "cell_type": "markdown",
   "metadata": {
    "nbpresent": {
     "id": "4e79ac1b-d044-4224-a412-cf6a4bd6ad12"
    }
   },
   "source": [
    "***"
   ]
  },
  {
   "cell_type": "markdown",
   "metadata": {
    "nbpresent": {
     "id": "37683bb9-dbc2-4a2e-a1d5-0a8c2c5860ba"
    }
   },
   "source": [
    "<div align=\"right\">\n",
    "    [back to top](#toc)\n",
    "</div>\n",
    "\n",
    "<a id=\"section4\"></a>\n",
    "\n",
    "## 4) Creating language models by month\n",
    "\n",
    "Because dates range from 2016-05-23 to 2017-11-18 we will be able to make 17 \"per month slices\" starting with June 2016 and ending with October 2017.\n",
    "\n",
    "Let's create separate dataframes for each FULL month of posts. This includes the timespan of 06/2016 to 10/2017. A total of 17 months. Just short of a year and a half! Compared to the RateBeer/BeerReview datasets (around 10 years) this will be a very small time frame. However the density of posts in this short time is very high so we're hopeful that something may come of this :)"
   ]
  },
  {
   "cell_type": "markdown",
   "metadata": {},
   "source": [
    "#### a) Creating monthly slices from the dataset"
   ]
  },
  {
   "cell_type": "markdown",
   "metadata": {},
   "source": [
    "First get all months with posts and create labels to make variable naming easier later on..."
   ]
  },
  {
   "cell_type": "code",
   "execution_count": 57,
   "metadata": {},
   "outputs": [
    {
     "data": {
      "text/plain": [
       "defaultdict(<function utils.get_month_labels.<locals>.<lambda>>,\n",
       "            {2016: ['05_2016',\n",
       "              '06_2016',\n",
       "              '07_2016',\n",
       "              '08_2016',\n",
       "              '09_2016',\n",
       "              '10_2016',\n",
       "              '11_2016',\n",
       "              '12_2016'],\n",
       "             2017: ['01_2017',\n",
       "              '02_2017',\n",
       "              '03_2017',\n",
       "              '04_2017',\n",
       "              '05_2017',\n",
       "              '06_2017',\n",
       "              '07_2017',\n",
       "              '08_2017',\n",
       "              '09_2017',\n",
       "              '10_2017',\n",
       "              '11_2017',\n",
       "              '12_2017'],\n",
       "             2018: ['01_2018', '02_2018']})"
      ]
     },
     "execution_count": 57,
     "metadata": {},
     "output_type": "execute_result"
    }
   ],
   "source": [
    "month_labels = utils.get_month_labels(master_db)\n",
    "month_labels"
   ]
  },
  {
   "cell_type": "markdown",
   "metadata": {},
   "source": [
    "Now let's use our list of labels to slice our dataset..."
   ]
  },
  {
   "cell_type": "code",
   "execution_count": 58,
   "metadata": {
    "collapsed": true
   },
   "outputs": [],
   "source": [
    "df_by_month = utils.make_all_months(master_db, month_labels)"
   ]
  },
  {
   "cell_type": "markdown",
   "metadata": {},
   "source": [
    "With all the months separated, let's see how many posts are in each month:"
   ]
  },
  {
   "cell_type": "code",
   "execution_count": 59,
   "metadata": {},
   "outputs": [
    {
     "name": "stdout",
     "output_type": "stream",
     "text": [
      "Average number of posts each month: 244423.50\n",
      "Fewest posts: df_05_2016 with 51876 posts\n",
      "Most posts: df_03_2017 with 332565 posts\n",
      "\n",
      "\n",
      "\u001b[1;31mWARNING: \u001b[0mdf_05_2016 only has 51876 posts!\n"
     ]
    }
   ],
   "source": [
    "utils.eda_on_months(df_by_month)"
   ]
  },
  {
   "cell_type": "markdown",
   "metadata": {},
   "source": [
    "We see that one month has an incredibly small amount of posts but this is to be expected because 05/2016 is the first month of the forum's existence and the forum did not start on 5/1/2016. Although 11/2017 has about as many posts as any other month in our dataset, we will also remove this month because it does not include posts for the full month (scraped on 11/18/2017)."
   ]
  },
  {
   "cell_type": "code",
   "execution_count": 60,
   "metadata": {},
   "outputs": [
    {
     "data": {
      "text/html": [
       "<div>\n",
       "<style>\n",
       "    .dataframe thead tr:only-child th {\n",
       "        text-align: right;\n",
       "    }\n",
       "\n",
       "    .dataframe thead th {\n",
       "        text-align: left;\n",
       "    }\n",
       "\n",
       "    .dataframe tbody tr th {\n",
       "        vertical-align: top;\n",
       "    }\n",
       "</style>\n",
       "<table border=\"1\" class=\"dataframe\">\n",
       "  <thead>\n",
       "    <tr style=\"text-align: right;\">\n",
       "      <th></th>\n",
       "      <th>date</th>\n",
       "      <th>downvotes</th>\n",
       "      <th>op?</th>\n",
       "      <th>text</th>\n",
       "      <th>topic</th>\n",
       "      <th>topic_id</th>\n",
       "      <th>upvotes</th>\n",
       "      <th>user</th>\n",
       "      <th>user_posts</th>\n",
       "    </tr>\n",
       "  </thead>\n",
       "  <tbody>\n",
       "    <tr>\n",
       "      <th>5248773</th>\n",
       "      <td>2018-02-01 01:00:00</td>\n",
       "      <td>5</td>\n",
       "      <td>True</td>\n",
       "      <td>I reported 4 people last week: one person for ...</td>\n",
       "      <td>Report feature is actually working.</td>\n",
       "      <td>20761706073</td>\n",
       "      <td>9</td>\n",
       "      <td>Fiotality</td>\n",
       "      <td>1140 posts</td>\n",
       "    </tr>\n",
       "    <tr>\n",
       "      <th>5248774</th>\n",
       "      <td>2018-02-01 01:00:00</td>\n",
       "      <td>0</td>\n",
       "      <td>False</td>\n",
       "      <td>the link won't work for me what happend plz te...</td>\n",
       "      <td>Making fun of Mercy Mains Now</td>\n",
       "      <td>20761665966</td>\n",
       "      <td>1</td>\n",
       "      <td>Crashplayz</td>\n",
       "      <td>116 posts</td>\n",
       "    </tr>\n",
       "    <tr>\n",
       "      <th>5248775</th>\n",
       "      <td>2018-02-01 01:00:00</td>\n",
       "      <td>0</td>\n",
       "      <td>False</td>\n",
       "      <td>Bump....anyone :-)</td>\n",
       "      <td>Replace Hanzo Scatter NEW ABILITY</td>\n",
       "      <td>20761027778</td>\n",
       "      <td>0</td>\n",
       "      <td>Acrobatlip</td>\n",
       "      <td>3 posts</td>\n",
       "    </tr>\n",
       "    <tr>\n",
       "      <th>5248776</th>\n",
       "      <td>2018-02-01 01:00:00</td>\n",
       "      <td>0</td>\n",
       "      <td>False</td>\n",
       "      <td>02/01/2018 04:57 AMPosted by Kusanagi1Why do p...</td>\n",
       "      <td>Mercy lowest picked healer</td>\n",
       "      <td>20761606078</td>\n",
       "      <td>8</td>\n",
       "      <td>Selling</td>\n",
       "      <td>91 posts</td>\n",
       "    </tr>\n",
       "    <tr>\n",
       "      <th>5248777</th>\n",
       "      <td>2018-02-01 01:00:00</td>\n",
       "      <td>1</td>\n",
       "      <td>False</td>\n",
       "      <td>It was actual cringe lmao how much did they pa...</td>\n",
       "      <td>\"Play nice, Play Fair\" Yeah right</td>\n",
       "      <td>20761636010</td>\n",
       "      <td>22</td>\n",
       "      <td>Darkxsamurai</td>\n",
       "      <td>1322 posts</td>\n",
       "    </tr>\n",
       "    <tr>\n",
       "      <th>5248778</th>\n",
       "      <td>2018-02-01 01:00:00</td>\n",
       "      <td>1</td>\n",
       "      <td>False</td>\n",
       "      <td>01/31/2018 04:52 PMPosted by telepekI'm... I'm...</td>\n",
       "      <td>\"Play nice, Play Fair\" Yeah right</td>\n",
       "      <td>20761636010</td>\n",
       "      <td>23</td>\n",
       "      <td>creek</td>\n",
       "      <td>915 posts</td>\n",
       "    </tr>\n",
       "    <tr>\n",
       "      <th>5248779</th>\n",
       "      <td>2018-02-01 01:00:00</td>\n",
       "      <td>1</td>\n",
       "      <td>False</td>\n",
       "      <td>There is nothing compelling to mercy's game pl...</td>\n",
       "      <td>[Feedback Thread] Mercy Updates - Jan 30, 2018</td>\n",
       "      <td>20761088072</td>\n",
       "      <td>11</td>\n",
       "      <td>LunaPearl</td>\n",
       "      <td>6 posts</td>\n",
       "    </tr>\n",
       "    <tr>\n",
       "      <th>5248780</th>\n",
       "      <td>2018-02-01 01:00:00</td>\n",
       "      <td>1</td>\n",
       "      <td>False</td>\n",
       "      <td>Are you trying to reason with angry people tha...</td>\n",
       "      <td>#MercyIsStillOP</td>\n",
       "      <td>20761646020</td>\n",
       "      <td>0</td>\n",
       "      <td>Sengell</td>\n",
       "      <td>982 posts</td>\n",
       "    </tr>\n",
       "    <tr>\n",
       "      <th>5248781</th>\n",
       "      <td>2018-02-01 01:00:00</td>\n",
       "      <td>1</td>\n",
       "      <td>False</td>\n",
       "      <td>01/31/2018 04:53 PMPosted by dradventure01/31/...</td>\n",
       "      <td>Reaper doesn't need a spread reduction they sa...</td>\n",
       "      <td>20761636018</td>\n",
       "      <td>2</td>\n",
       "      <td>Katuchi</td>\n",
       "      <td>806 posts</td>\n",
       "    </tr>\n",
       "    <tr>\n",
       "      <th>5248782</th>\n",
       "      <td>2018-02-01 01:00:00</td>\n",
       "      <td>0</td>\n",
       "      <td>True</td>\n",
       "      <td>Lets be chill and share some of our favorite ...</td>\n",
       "      <td>Yo do you feel the beat?</td>\n",
       "      <td>20761606026</td>\n",
       "      <td>0</td>\n",
       "      <td>dradventure</td>\n",
       "      <td>1163 posts</td>\n",
       "    </tr>\n",
       "    <tr>\n",
       "      <th>5248783</th>\n",
       "      <td>2018-02-01 01:00:00</td>\n",
       "      <td>1</td>\n",
       "      <td>False</td>\n",
       "      <td>01/31/2018 04:08 PMPosted by HailstormThat OWL...</td>\n",
       "      <td>\"Play nice, Play Fair\" Yeah right</td>\n",
       "      <td>20761636010</td>\n",
       "      <td>23</td>\n",
       "      <td>Companion</td>\n",
       "      <td>1159 posts</td>\n",
       "    </tr>\n",
       "    <tr>\n",
       "      <th>5248784</th>\n",
       "      <td>2018-02-01 01:00:00</td>\n",
       "      <td>0</td>\n",
       "      <td>False</td>\n",
       "      <td>02/01/2018 04:51 AMPosted by djplonker...Half ...</td>\n",
       "      <td>It's not like Mercy is unplayable.</td>\n",
       "      <td>20761038170</td>\n",
       "      <td>1</td>\n",
       "      <td>QuizzyBunny</td>\n",
       "      <td>632 posts</td>\n",
       "    </tr>\n",
       "    <tr>\n",
       "      <th>5248785</th>\n",
       "      <td>2018-02-01 01:00:00</td>\n",
       "      <td>0</td>\n",
       "      <td>False</td>\n",
       "      <td>Thanks, yeah she's definitely the coolest IMHO...</td>\n",
       "      <td>15 months of Sombra</td>\n",
       "      <td>20761606080</td>\n",
       "      <td>6</td>\n",
       "      <td>AAZeroThree4</td>\n",
       "      <td>475 posts</td>\n",
       "    </tr>\n",
       "    <tr>\n",
       "      <th>5248786</th>\n",
       "      <td>2018-02-01 01:00:00</td>\n",
       "      <td>0</td>\n",
       "      <td>False</td>\n",
       "      <td>self damage would put junkrat in f tier for su...</td>\n",
       "      <td>Nerfing</td>\n",
       "      <td>20761796026</td>\n",
       "      <td>1</td>\n",
       "      <td>SPGG</td>\n",
       "      <td>944 posts</td>\n",
       "    </tr>\n",
       "    <tr>\n",
       "      <th>5248787</th>\n",
       "      <td>2018-02-01 01:01:00</td>\n",
       "      <td>0</td>\n",
       "      <td>False</td>\n",
       "      <td>01/31/2018 04:57 PMPosted by HiddenPantsShe's ...</td>\n",
       "      <td>Moira was an amazing idea</td>\n",
       "      <td>20760405916</td>\n",
       "      <td>0</td>\n",
       "      <td>Swampy948</td>\n",
       "      <td>105 posts</td>\n",
       "    </tr>\n",
       "    <tr>\n",
       "      <th>5248788</th>\n",
       "      <td>2018-02-01 01:01:00</td>\n",
       "      <td>0</td>\n",
       "      <td>False</td>\n",
       "      <td>Of course, anything's hard to know without act...</td>\n",
       "      <td>Idea to replace Scatter Arrow.</td>\n",
       "      <td>20761656011</td>\n",
       "      <td>0</td>\n",
       "      <td>linkdude240</td>\n",
       "      <td>1842 posts</td>\n",
       "    </tr>\n",
       "    <tr>\n",
       "      <th>5248789</th>\n",
       "      <td>2018-02-01 01:01:00</td>\n",
       "      <td>0</td>\n",
       "      <td>False</td>\n",
       "      <td>wtf, how did he do that?If that's a bug, needs...</td>\n",
       "      <td>Hanamura exploit</td>\n",
       "      <td>20761826019</td>\n",
       "      <td>5</td>\n",
       "      <td>Dragon</td>\n",
       "      <td>1678 posts</td>\n",
       "    </tr>\n",
       "    <tr>\n",
       "      <th>5248790</th>\n",
       "      <td>2018-02-01 01:01:00</td>\n",
       "      <td>1</td>\n",
       "      <td>False</td>\n",
       "      <td>02/01/2018 01:36 AMPosted by ZeronMercy mains ...</td>\n",
       "      <td>Mercy Mains Forget: Rez is most powerful ability</td>\n",
       "      <td>20761816086</td>\n",
       "      <td>4</td>\n",
       "      <td>Chiana</td>\n",
       "      <td>1373 posts</td>\n",
       "    </tr>\n",
       "    <tr>\n",
       "      <th>5248791</th>\n",
       "      <td>2018-02-01 01:01:00</td>\n",
       "      <td>1</td>\n",
       "      <td>False</td>\n",
       "      <td>Rule #271 of the Overwatch forums:You can neve...</td>\n",
       "      <td>D.Va = OP</td>\n",
       "      <td>20761087875</td>\n",
       "      <td>0</td>\n",
       "      <td>Edsoulman</td>\n",
       "      <td>2384 posts</td>\n",
       "    </tr>\n",
       "    <tr>\n",
       "      <th>5248792</th>\n",
       "      <td>2018-02-01 01:01:00</td>\n",
       "      <td>1</td>\n",
       "      <td>False</td>\n",
       "      <td>DVA doesn't die from her own bomb, so it's Ove...</td>\n",
       "      <td>Killing junk should equal cancelled ult</td>\n",
       "      <td>20761796081</td>\n",
       "      <td>8</td>\n",
       "      <td>Patorikku</td>\n",
       "      <td>4 posts</td>\n",
       "    </tr>\n",
       "    <tr>\n",
       "      <th>5248793</th>\n",
       "      <td>2018-02-01 01:01:00</td>\n",
       "      <td>0</td>\n",
       "      <td>False</td>\n",
       "      <td>This is a copy/paste of many threads before it...</td>\n",
       "      <td>Buff Suggestion for Sombra</td>\n",
       "      <td>20761606020</td>\n",
       "      <td>1</td>\n",
       "      <td>AgtCooper</td>\n",
       "      <td>849 posts</td>\n",
       "    </tr>\n",
       "    <tr>\n",
       "      <th>5248794</th>\n",
       "      <td>2018-02-01 01:01:00</td>\n",
       "      <td>1</td>\n",
       "      <td>False</td>\n",
       "      <td>01/31/2018 04:56 PMPosted by DanolseeCan you m...</td>\n",
       "      <td>[Feedback Thread] Mercy Updates - Jan 30, 2018</td>\n",
       "      <td>20761088072</td>\n",
       "      <td>2</td>\n",
       "      <td>FFirebrandd</td>\n",
       "      <td>1333 posts</td>\n",
       "    </tr>\n",
       "    <tr>\n",
       "      <th>5248795</th>\n",
       "      <td>2018-02-01 01:01:00</td>\n",
       "      <td>13</td>\n",
       "      <td>False</td>\n",
       "      <td>02/01/2018 04:05 AMPosted by Rednaxela3102/01/...</td>\n",
       "      <td>\"D.va was never a StarCraft pro\": the retcon w...</td>\n",
       "      <td>20761806067</td>\n",
       "      <td>5</td>\n",
       "      <td>LemurScream</td>\n",
       "      <td>896 posts</td>\n",
       "    </tr>\n",
       "    <tr>\n",
       "      <th>5248796</th>\n",
       "      <td>2018-02-01 01:01:00</td>\n",
       "      <td>0</td>\n",
       "      <td>False</td>\n",
       "      <td>01/31/2018 04:56 PMPosted by Danolsee Mercy 1....</td>\n",
       "      <td>[Feedback Thread] Mercy Updates - Jan 30, 2018</td>\n",
       "      <td>20761088072</td>\n",
       "      <td>5</td>\n",
       "      <td>Avalon</td>\n",
       "      <td>2 posts</td>\n",
       "    </tr>\n",
       "    <tr>\n",
       "      <th>5248797</th>\n",
       "      <td>2018-02-01 01:01:00</td>\n",
       "      <td>1</td>\n",
       "      <td>False</td>\n",
       "      <td>01/31/2018 04:58 PMPosted by jasonwockyI'm sur...</td>\n",
       "      <td>\"Play nice, Play Fair\" Yeah right</td>\n",
       "      <td>20761636010</td>\n",
       "      <td>19</td>\n",
       "      <td>mishkalantia</td>\n",
       "      <td>306 posts</td>\n",
       "    </tr>\n",
       "    <tr>\n",
       "      <th>5248798</th>\n",
       "      <td>2018-02-01 01:01:00</td>\n",
       "      <td>3</td>\n",
       "      <td>False</td>\n",
       "      <td>She's reliable and has great mobility and surv...</td>\n",
       "      <td>It's not like Mercy is unplayable.</td>\n",
       "      <td>20761038170</td>\n",
       "      <td>1</td>\n",
       "      <td>nattfjaril</td>\n",
       "      <td>79 posts</td>\n",
       "    </tr>\n",
       "    <tr>\n",
       "      <th>5248799</th>\n",
       "      <td>2018-02-01 01:01:00</td>\n",
       "      <td>0</td>\n",
       "      <td>False</td>\n",
       "      <td>02/01/2018 04:45 AMPosted by QuizzyBunny02/01/...</td>\n",
       "      <td>It's not like Mercy is unplayable.</td>\n",
       "      <td>20761038170</td>\n",
       "      <td>1</td>\n",
       "      <td>BenyoBoy</td>\n",
       "      <td>633 posts</td>\n",
       "    </tr>\n",
       "    <tr>\n",
       "      <th>5248800</th>\n",
       "      <td>2018-02-01 01:01:00</td>\n",
       "      <td>2</td>\n",
       "      <td>False</td>\n",
       "      <td>Lothen stil going at it with the holier than t...</td>\n",
       "      <td>OW Team may be Big Brother watching you?</td>\n",
       "      <td>20761097745</td>\n",
       "      <td>0</td>\n",
       "      <td>Cuthalu</td>\n",
       "      <td>127 posts</td>\n",
       "    </tr>\n",
       "    <tr>\n",
       "      <th>5248801</th>\n",
       "      <td>2018-02-01 01:01:00</td>\n",
       "      <td>0</td>\n",
       "      <td>True</td>\n",
       "      <td>Serious question. There are people openly and ...</td>\n",
       "      <td>How can toxicity lower if its being stoked an...</td>\n",
       "      <td>20761716038</td>\n",
       "      <td>2</td>\n",
       "      <td>Kris</td>\n",
       "      <td>2522 posts</td>\n",
       "    </tr>\n",
       "    <tr>\n",
       "      <th>5248802</th>\n",
       "      <td>2018-02-01 01:01:00</td>\n",
       "      <td>0</td>\n",
       "      <td>False</td>\n",
       "      <td>Pulse Bomb needs to be at least B tier.It char...</td>\n",
       "      <td>Ultimates Tier List</td>\n",
       "      <td>20760947645</td>\n",
       "      <td>0</td>\n",
       "      <td>Profane</td>\n",
       "      <td>886 posts</td>\n",
       "    </tr>\n",
       "    <tr>\n",
       "      <th>...</th>\n",
       "      <td>...</td>\n",
       "      <td>...</td>\n",
       "      <td>...</td>\n",
       "      <td>...</td>\n",
       "      <td>...</td>\n",
       "      <td>...</td>\n",
       "      <td>...</td>\n",
       "      <td>...</td>\n",
       "      <td>...</td>\n",
       "    </tr>\n",
       "    <tr>\n",
       "      <th>5377287</th>\n",
       "      <td>2018-02-18 10:39:00</td>\n",
       "      <td>0</td>\n",
       "      <td>False</td>\n",
       "      <td>02/18/2018 02:35 PMPosted by Reazen02/18/2018 ...</td>\n",
       "      <td>[MEGATHREAD] Fix deflect! 3 testing videos, 41...</td>\n",
       "      <td>20759150839</td>\n",
       "      <td>6</td>\n",
       "      <td>Tenor</td>\n",
       "      <td>902 posts</td>\n",
       "    </tr>\n",
       "    <tr>\n",
       "      <th>5377288</th>\n",
       "      <td>2018-02-18 10:39:00</td>\n",
       "      <td>0</td>\n",
       "      <td>False</td>\n",
       "      <td>02/18/2018 02:32 PMPosted by Tenorhttps://www....</td>\n",
       "      <td>[MEGATHREAD] Fix deflect! 3 testing videos, 41...</td>\n",
       "      <td>20759150839</td>\n",
       "      <td>2</td>\n",
       "      <td>Nere</td>\n",
       "      <td>2040 posts</td>\n",
       "    </tr>\n",
       "    <tr>\n",
       "      <th>5377289</th>\n",
       "      <td>2018-02-18 10:42:00</td>\n",
       "      <td>0</td>\n",
       "      <td>False</td>\n",
       "      <td>02/18/2018 02:32 PMPosted by Tenorhttps://www....</td>\n",
       "      <td>[MEGATHREAD] Fix deflect! 3 testing videos, 41...</td>\n",
       "      <td>20759150839</td>\n",
       "      <td>5</td>\n",
       "      <td>Variann</td>\n",
       "      <td>895 posts</td>\n",
       "    </tr>\n",
       "    <tr>\n",
       "      <th>5377290</th>\n",
       "      <td>2018-02-18 12:25:00</td>\n",
       "      <td>0</td>\n",
       "      <td>False</td>\n",
       "      <td>Added: 16.5</td>\n",
       "      <td>There are  A-LOT of Bugs Plaguing Doomfist</td>\n",
       "      <td>20760618494</td>\n",
       "      <td>0</td>\n",
       "      <td>iSinner</td>\n",
       "      <td>4477 posts</td>\n",
       "    </tr>\n",
       "    <tr>\n",
       "      <th>5377291</th>\n",
       "      <td>2018-02-18 12:27:00</td>\n",
       "      <td>0</td>\n",
       "      <td>False</td>\n",
       "      <td>02/16/2018 01:18 PMPosted by AngPx11Also, you ...</td>\n",
       "      <td>There are  A-LOT of Bugs Plaguing Doomfist</td>\n",
       "      <td>20760618494</td>\n",
       "      <td>0</td>\n",
       "      <td>iSinner</td>\n",
       "      <td>4477 posts</td>\n",
       "    </tr>\n",
       "    <tr>\n",
       "      <th>5377292</th>\n",
       "      <td>2018-02-18 12:29:00</td>\n",
       "      <td>0</td>\n",
       "      <td>False</td>\n",
       "      <td>02/13/2018 06:23 AMPosted by TacticalPNUTIn re...</td>\n",
       "      <td>There are  A-LOT of Bugs Plaguing Doomfist</td>\n",
       "      <td>20760618494</td>\n",
       "      <td>0</td>\n",
       "      <td>iSinner</td>\n",
       "      <td>4477 posts</td>\n",
       "    </tr>\n",
       "    <tr>\n",
       "      <th>5377293</th>\n",
       "      <td>2018-02-19 01:27:00</td>\n",
       "      <td>0</td>\n",
       "      <td>False</td>\n",
       "      <td>yeah I agree I have drop 2 ranks already I sta...</td>\n",
       "      <td>Why should I lose rank when someone on my team...</td>\n",
       "      <td>20745766460</td>\n",
       "      <td>0</td>\n",
       "      <td>David</td>\n",
       "      <td>1 posts</td>\n",
       "    </tr>\n",
       "    <tr>\n",
       "      <th>5377294</th>\n",
       "      <td>2018-02-19 01:36:00</td>\n",
       "      <td>0</td>\n",
       "      <td>False</td>\n",
       "      <td>07/06/2016 07:02 PMPosted by VreivaiThey need ...</td>\n",
       "      <td>Why should I lose rank when someone on my team...</td>\n",
       "      <td>20745766460</td>\n",
       "      <td>0</td>\n",
       "      <td>HotBBQ88</td>\n",
       "      <td>279 posts</td>\n",
       "    </tr>\n",
       "    <tr>\n",
       "      <th>5377295</th>\n",
       "      <td>2018-02-19 01:45:00</td>\n",
       "      <td>1</td>\n",
       "      <td>False</td>\n",
       "      <td>03/11/2017 01:33 PMPosted by agent320Simple ab...</td>\n",
       "      <td>Why should I lose rank when someone on my team...</td>\n",
       "      <td>20745766460</td>\n",
       "      <td>0</td>\n",
       "      <td>HotBBQ88</td>\n",
       "      <td>279 posts</td>\n",
       "    </tr>\n",
       "    <tr>\n",
       "      <th>5377296</th>\n",
       "      <td>2018-02-19 01:52:00</td>\n",
       "      <td>0</td>\n",
       "      <td>False</td>\n",
       "      <td>02/18/2018 02:39 PMPosted by Nere02/18/2018 02...</td>\n",
       "      <td>[MEGATHREAD] Fix deflect! 3 testing videos, 41...</td>\n",
       "      <td>20759150839</td>\n",
       "      <td>0</td>\n",
       "      <td>Attlus</td>\n",
       "      <td>1983 posts</td>\n",
       "    </tr>\n",
       "    <tr>\n",
       "      <th>5377297</th>\n",
       "      <td>2018-02-19 05:17:00</td>\n",
       "      <td>0</td>\n",
       "      <td>False</td>\n",
       "      <td>Turn Shadow, Lighting, Dynamic Reflections, Fo...</td>\n",
       "      <td>What settings and GPU do you use to get 144FPS?</td>\n",
       "      <td>20745054315</td>\n",
       "      <td>0</td>\n",
       "      <td>Naramie</td>\n",
       "      <td>214 posts</td>\n",
       "    </tr>\n",
       "    <tr>\n",
       "      <th>5377298</th>\n",
       "      <td>2018-02-19 07:16:00</td>\n",
       "      <td>0</td>\n",
       "      <td>False</td>\n",
       "      <td>02/18/2018 02:42 PMPosted by Variann02/18/2018...</td>\n",
       "      <td>[MEGATHREAD] Fix deflect! 3 testing videos, 41...</td>\n",
       "      <td>20759150839</td>\n",
       "      <td>0</td>\n",
       "      <td>Attlus</td>\n",
       "      <td>1983 posts</td>\n",
       "    </tr>\n",
       "    <tr>\n",
       "      <th>5377299</th>\n",
       "      <td>2018-02-19 07:42:00</td>\n",
       "      <td>0</td>\n",
       "      <td>False</td>\n",
       "      <td>Fps averages:300 (Solo vs Bots)230 (all team i...</td>\n",
       "      <td>What settings and GPU do you use to get 144FPS?</td>\n",
       "      <td>20745054315</td>\n",
       "      <td>0</td>\n",
       "      <td>Zerosix</td>\n",
       "      <td>1138 posts</td>\n",
       "    </tr>\n",
       "    <tr>\n",
       "      <th>5377300</th>\n",
       "      <td>2018-02-19 12:33:00</td>\n",
       "      <td>0</td>\n",
       "      <td>False</td>\n",
       "      <td>2000 likes and no response by Blizzard. They r...</td>\n",
       "      <td>[MEGATHREAD] Fix deflect! 3 testing videos, 41...</td>\n",
       "      <td>20759150839</td>\n",
       "      <td>4</td>\n",
       "      <td>Campari</td>\n",
       "      <td>75 posts</td>\n",
       "    </tr>\n",
       "    <tr>\n",
       "      <th>5377301</th>\n",
       "      <td>2018-02-19 12:50:00</td>\n",
       "      <td>0</td>\n",
       "      <td>False</td>\n",
       "      <td>I have an r9 290x @60fps 1tb ssd and 16g ram. ...</td>\n",
       "      <td>What settings and GPU do you use to get 144FPS?</td>\n",
       "      <td>20745054315</td>\n",
       "      <td>0</td>\n",
       "      <td>Mortollo</td>\n",
       "      <td>270 posts</td>\n",
       "    </tr>\n",
       "    <tr>\n",
       "      <th>5377302</th>\n",
       "      <td>2018-02-20 01:02:00</td>\n",
       "      <td>0</td>\n",
       "      <td>False</td>\n",
       "      <td>Save the OP post everyone! Forum changes are t...</td>\n",
       "      <td>[MEGATHREAD] Fix deflect! 3 testing videos, 41...</td>\n",
       "      <td>20759150839</td>\n",
       "      <td>5</td>\n",
       "      <td>BlyZeraz</td>\n",
       "      <td>517 posts</td>\n",
       "    </tr>\n",
       "    <tr>\n",
       "      <th>5377303</th>\n",
       "      <td>2018-02-20 01:15:00</td>\n",
       "      <td>0</td>\n",
       "      <td>False</td>\n",
       "      <td>11/08/2017 06:30 AMPosted by creedI know it's ...</td>\n",
       "      <td>Moira :(</td>\n",
       "      <td>20759341641</td>\n",
       "      <td>0</td>\n",
       "      <td>Ivan</td>\n",
       "      <td>93 posts</td>\n",
       "    </tr>\n",
       "    <tr>\n",
       "      <th>5377304</th>\n",
       "      <td>2018-02-20 01:23:00</td>\n",
       "      <td>0</td>\n",
       "      <td>False</td>\n",
       "      <td>i live in kuwait too and the lowest ping ive e...</td>\n",
       "      <td>Middle Eastern Players' Ping is Too High!</td>\n",
       "      <td>20752795753</td>\n",
       "      <td>0</td>\n",
       "      <td>BIGDADDYHANZ</td>\n",
       "      <td>3 posts</td>\n",
       "    </tr>\n",
       "    <tr>\n",
       "      <th>5377305</th>\n",
       "      <td>2018-02-20 02:35:00</td>\n",
       "      <td>0</td>\n",
       "      <td>False</td>\n",
       "      <td>Copy and paste the original post for tomorrow...</td>\n",
       "      <td>[MEGATHREAD] Fix deflect! 3 testing videos, 41...</td>\n",
       "      <td>20759150839</td>\n",
       "      <td>5</td>\n",
       "      <td>iNeedHugsNow</td>\n",
       "      <td>808 posts</td>\n",
       "    </tr>\n",
       "    <tr>\n",
       "      <th>5377306</th>\n",
       "      <td>2018-02-20 04:57:00</td>\n",
       "      <td>0</td>\n",
       "      <td>False</td>\n",
       "      <td>Happens to me all the time on XB1 and PC....</td>\n",
       "      <td>ERROR removed from voice chat</td>\n",
       "      <td>20758827892</td>\n",
       "      <td>0</td>\n",
       "      <td>FutileTears</td>\n",
       "      <td>138 posts</td>\n",
       "    </tr>\n",
       "    <tr>\n",
       "      <th>5377307</th>\n",
       "      <td>2018-02-20 06:29:00</td>\n",
       "      <td>0</td>\n",
       "      <td>False</td>\n",
       "      <td>Good night sweet prince. 1700+ likes, no reply...</td>\n",
       "      <td>[MEGATHREAD] Fix deflect! 3 testing videos, 41...</td>\n",
       "      <td>20759150839</td>\n",
       "      <td>0</td>\n",
       "      <td>Nasibihc</td>\n",
       "      <td>461 posts</td>\n",
       "    </tr>\n",
       "    <tr>\n",
       "      <th>5377308</th>\n",
       "      <td>2018-02-20 08:58:00</td>\n",
       "      <td>0</td>\n",
       "      <td>False</td>\n",
       "      <td>Wow...I can't believe Blizzard would rather de...</td>\n",
       "      <td>[MEGATHREAD] Fix deflect! 3 testing videos, 41...</td>\n",
       "      <td>20759150839</td>\n",
       "      <td>7</td>\n",
       "      <td>Pupsik</td>\n",
       "      <td>73 posts</td>\n",
       "    </tr>\n",
       "    <tr>\n",
       "      <th>5377309</th>\n",
       "      <td>2018-02-20 09:05:00</td>\n",
       "      <td>5</td>\n",
       "      <td>False</td>\n",
       "      <td>02/20/2018 12:58 AMPosted by PupsikWow...I can...</td>\n",
       "      <td>[MEGATHREAD] Fix deflect! 3 testing videos, 41...</td>\n",
       "      <td>20759150839</td>\n",
       "      <td>0</td>\n",
       "      <td>fenix</td>\n",
       "      <td>229 posts</td>\n",
       "    </tr>\n",
       "    <tr>\n",
       "      <th>5377310</th>\n",
       "      <td>2018-02-20 09:45:00</td>\n",
       "      <td>0</td>\n",
       "      <td>False</td>\n",
       "      <td>How does a post get to 1700 upvotes with no bl...</td>\n",
       "      <td>[MEGATHREAD] Fix deflect! 3 testing videos, 41...</td>\n",
       "      <td>20759150839</td>\n",
       "      <td>2</td>\n",
       "      <td>Sandity</td>\n",
       "      <td>2297 posts</td>\n",
       "    </tr>\n",
       "    <tr>\n",
       "      <th>5377311</th>\n",
       "      <td>2018-02-20 09:52:00</td>\n",
       "      <td>4</td>\n",
       "      <td>False</td>\n",
       "      <td>02/19/2018 04:59 PMPosted by Brickleberry1700+...</td>\n",
       "      <td>[MEGATHREAD] Fix deflect! 3 testing videos, 41...</td>\n",
       "      <td>20759150839</td>\n",
       "      <td>0</td>\n",
       "      <td>onetrick</td>\n",
       "      <td>384 posts</td>\n",
       "    </tr>\n",
       "    <tr>\n",
       "      <th>5377312</th>\n",
       "      <td>2018-02-20 10:37:00</td>\n",
       "      <td>0</td>\n",
       "      <td>False</td>\n",
       "      <td>02/20/2018 01:05 AMPosted by fenix02/20/2018 1...</td>\n",
       "      <td>[MEGATHREAD] Fix deflect! 3 testing videos, 41...</td>\n",
       "      <td>20759150839</td>\n",
       "      <td>2</td>\n",
       "      <td>Pupsik</td>\n",
       "      <td>73 posts</td>\n",
       "    </tr>\n",
       "    <tr>\n",
       "      <th>5377313</th>\n",
       "      <td>2018-02-20 12:48:00</td>\n",
       "      <td>0</td>\n",
       "      <td>False</td>\n",
       "      <td>Forum nuke incoming.....</td>\n",
       "      <td>[MEGATHREAD] Fix deflect! 3 testing videos, 41...</td>\n",
       "      <td>20759150839</td>\n",
       "      <td>2</td>\n",
       "      <td>aieeegrunt</td>\n",
       "      <td>268 posts</td>\n",
       "    </tr>\n",
       "    <tr>\n",
       "      <th>5377314</th>\n",
       "      <td>2018-02-20 12:50:00</td>\n",
       "      <td>0</td>\n",
       "      <td>False</td>\n",
       "      <td>His strike hitbox is also broken.</td>\n",
       "      <td>[MEGATHREAD] Fix deflect! 3 testing videos, 41...</td>\n",
       "      <td>20759150839</td>\n",
       "      <td>3</td>\n",
       "      <td>iNeedHugsNow</td>\n",
       "      <td>808 posts</td>\n",
       "    </tr>\n",
       "    <tr>\n",
       "      <th>5377315</th>\n",
       "      <td>2018-02-20 12:54:00</td>\n",
       "      <td>0</td>\n",
       "      <td>False</td>\n",
       "      <td>FINAL REMINDERS!1) OP, remember to copy and pa...</td>\n",
       "      <td>[MEGATHREAD] Fix deflect! 3 testing videos, 41...</td>\n",
       "      <td>20759150839</td>\n",
       "      <td>4</td>\n",
       "      <td>LockerNo2</td>\n",
       "      <td>585 posts</td>\n",
       "    </tr>\n",
       "    <tr>\n",
       "      <th>5377316</th>\n",
       "      <td>2018-02-20 12:59:00</td>\n",
       "      <td>0</td>\n",
       "      <td>False</td>\n",
       "      <td>1700+ Likes later, tons of evidence, Jeff be l...</td>\n",
       "      <td>[MEGATHREAD] Fix deflect! 3 testing videos, 41...</td>\n",
       "      <td>20759150839</td>\n",
       "      <td>2</td>\n",
       "      <td>Brickleberry</td>\n",
       "      <td>79 posts</td>\n",
       "    </tr>\n",
       "  </tbody>\n",
       "</table>\n",
       "<p>128544 rows × 9 columns</p>\n",
       "</div>"
      ],
      "text/plain": [
       "                       date  downvotes    op?  \\\n",
       "5248773 2018-02-01 01:00:00          5   True   \n",
       "5248774 2018-02-01 01:00:00          0  False   \n",
       "5248775 2018-02-01 01:00:00          0  False   \n",
       "5248776 2018-02-01 01:00:00          0  False   \n",
       "5248777 2018-02-01 01:00:00          1  False   \n",
       "5248778 2018-02-01 01:00:00          1  False   \n",
       "5248779 2018-02-01 01:00:00          1  False   \n",
       "5248780 2018-02-01 01:00:00          1  False   \n",
       "5248781 2018-02-01 01:00:00          1  False   \n",
       "5248782 2018-02-01 01:00:00          0   True   \n",
       "5248783 2018-02-01 01:00:00          1  False   \n",
       "5248784 2018-02-01 01:00:00          0  False   \n",
       "5248785 2018-02-01 01:00:00          0  False   \n",
       "5248786 2018-02-01 01:00:00          0  False   \n",
       "5248787 2018-02-01 01:01:00          0  False   \n",
       "5248788 2018-02-01 01:01:00          0  False   \n",
       "5248789 2018-02-01 01:01:00          0  False   \n",
       "5248790 2018-02-01 01:01:00          1  False   \n",
       "5248791 2018-02-01 01:01:00          1  False   \n",
       "5248792 2018-02-01 01:01:00          1  False   \n",
       "5248793 2018-02-01 01:01:00          0  False   \n",
       "5248794 2018-02-01 01:01:00          1  False   \n",
       "5248795 2018-02-01 01:01:00         13  False   \n",
       "5248796 2018-02-01 01:01:00          0  False   \n",
       "5248797 2018-02-01 01:01:00          1  False   \n",
       "5248798 2018-02-01 01:01:00          3  False   \n",
       "5248799 2018-02-01 01:01:00          0  False   \n",
       "5248800 2018-02-01 01:01:00          2  False   \n",
       "5248801 2018-02-01 01:01:00          0   True   \n",
       "5248802 2018-02-01 01:01:00          0  False   \n",
       "...                     ...        ...    ...   \n",
       "5377287 2018-02-18 10:39:00          0  False   \n",
       "5377288 2018-02-18 10:39:00          0  False   \n",
       "5377289 2018-02-18 10:42:00          0  False   \n",
       "5377290 2018-02-18 12:25:00          0  False   \n",
       "5377291 2018-02-18 12:27:00          0  False   \n",
       "5377292 2018-02-18 12:29:00          0  False   \n",
       "5377293 2018-02-19 01:27:00          0  False   \n",
       "5377294 2018-02-19 01:36:00          0  False   \n",
       "5377295 2018-02-19 01:45:00          1  False   \n",
       "5377296 2018-02-19 01:52:00          0  False   \n",
       "5377297 2018-02-19 05:17:00          0  False   \n",
       "5377298 2018-02-19 07:16:00          0  False   \n",
       "5377299 2018-02-19 07:42:00          0  False   \n",
       "5377300 2018-02-19 12:33:00          0  False   \n",
       "5377301 2018-02-19 12:50:00          0  False   \n",
       "5377302 2018-02-20 01:02:00          0  False   \n",
       "5377303 2018-02-20 01:15:00          0  False   \n",
       "5377304 2018-02-20 01:23:00          0  False   \n",
       "5377305 2018-02-20 02:35:00          0  False   \n",
       "5377306 2018-02-20 04:57:00          0  False   \n",
       "5377307 2018-02-20 06:29:00          0  False   \n",
       "5377308 2018-02-20 08:58:00          0  False   \n",
       "5377309 2018-02-20 09:05:00          5  False   \n",
       "5377310 2018-02-20 09:45:00          0  False   \n",
       "5377311 2018-02-20 09:52:00          4  False   \n",
       "5377312 2018-02-20 10:37:00          0  False   \n",
       "5377313 2018-02-20 12:48:00          0  False   \n",
       "5377314 2018-02-20 12:50:00          0  False   \n",
       "5377315 2018-02-20 12:54:00          0  False   \n",
       "5377316 2018-02-20 12:59:00          0  False   \n",
       "\n",
       "                                                      text  \\\n",
       "5248773  I reported 4 people last week: one person for ...   \n",
       "5248774  the link won't work for me what happend plz te...   \n",
       "5248775                                 Bump....anyone :-)   \n",
       "5248776  02/01/2018 04:57 AMPosted by Kusanagi1Why do p...   \n",
       "5248777  It was actual cringe lmao how much did they pa...   \n",
       "5248778  01/31/2018 04:52 PMPosted by telepekI'm... I'm...   \n",
       "5248779  There is nothing compelling to mercy's game pl...   \n",
       "5248780  Are you trying to reason with angry people tha...   \n",
       "5248781  01/31/2018 04:53 PMPosted by dradventure01/31/...   \n",
       "5248782  Lets be chill and share some of our favorite ...   \n",
       "5248783  01/31/2018 04:08 PMPosted by HailstormThat OWL...   \n",
       "5248784  02/01/2018 04:51 AMPosted by djplonker...Half ...   \n",
       "5248785  Thanks, yeah she's definitely the coolest IMHO...   \n",
       "5248786  self damage would put junkrat in f tier for su...   \n",
       "5248787  01/31/2018 04:57 PMPosted by HiddenPantsShe's ...   \n",
       "5248788  Of course, anything's hard to know without act...   \n",
       "5248789  wtf, how did he do that?If that's a bug, needs...   \n",
       "5248790  02/01/2018 01:36 AMPosted by ZeronMercy mains ...   \n",
       "5248791  Rule #271 of the Overwatch forums:You can neve...   \n",
       "5248792  DVA doesn't die from her own bomb, so it's Ove...   \n",
       "5248793  This is a copy/paste of many threads before it...   \n",
       "5248794  01/31/2018 04:56 PMPosted by DanolseeCan you m...   \n",
       "5248795  02/01/2018 04:05 AMPosted by Rednaxela3102/01/...   \n",
       "5248796  01/31/2018 04:56 PMPosted by Danolsee Mercy 1....   \n",
       "5248797  01/31/2018 04:58 PMPosted by jasonwockyI'm sur...   \n",
       "5248798  She's reliable and has great mobility and surv...   \n",
       "5248799  02/01/2018 04:45 AMPosted by QuizzyBunny02/01/...   \n",
       "5248800  Lothen stil going at it with the holier than t...   \n",
       "5248801  Serious question. There are people openly and ...   \n",
       "5248802  Pulse Bomb needs to be at least B tier.It char...   \n",
       "...                                                    ...   \n",
       "5377287  02/18/2018 02:35 PMPosted by Reazen02/18/2018 ...   \n",
       "5377288  02/18/2018 02:32 PMPosted by Tenorhttps://www....   \n",
       "5377289  02/18/2018 02:32 PMPosted by Tenorhttps://www....   \n",
       "5377290                                        Added: 16.5   \n",
       "5377291  02/16/2018 01:18 PMPosted by AngPx11Also, you ...   \n",
       "5377292  02/13/2018 06:23 AMPosted by TacticalPNUTIn re...   \n",
       "5377293  yeah I agree I have drop 2 ranks already I sta...   \n",
       "5377294  07/06/2016 07:02 PMPosted by VreivaiThey need ...   \n",
       "5377295  03/11/2017 01:33 PMPosted by agent320Simple ab...   \n",
       "5377296  02/18/2018 02:39 PMPosted by Nere02/18/2018 02...   \n",
       "5377297  Turn Shadow, Lighting, Dynamic Reflections, Fo...   \n",
       "5377298  02/18/2018 02:42 PMPosted by Variann02/18/2018...   \n",
       "5377299  Fps averages:300 (Solo vs Bots)230 (all team i...   \n",
       "5377300  2000 likes and no response by Blizzard. They r...   \n",
       "5377301  I have an r9 290x @60fps 1tb ssd and 16g ram. ...   \n",
       "5377302  Save the OP post everyone! Forum changes are t...   \n",
       "5377303  11/08/2017 06:30 AMPosted by creedI know it's ...   \n",
       "5377304  i live in kuwait too and the lowest ping ive e...   \n",
       "5377305  Copy and paste the original post for tomorrow...   \n",
       "5377306       Happens to me all the time on XB1 and PC....   \n",
       "5377307  Good night sweet prince. 1700+ likes, no reply...   \n",
       "5377308  Wow...I can't believe Blizzard would rather de...   \n",
       "5377309  02/20/2018 12:58 AMPosted by PupsikWow...I can...   \n",
       "5377310  How does a post get to 1700 upvotes with no bl...   \n",
       "5377311  02/19/2018 04:59 PMPosted by Brickleberry1700+...   \n",
       "5377312  02/20/2018 01:05 AMPosted by fenix02/20/2018 1...   \n",
       "5377313                           Forum nuke incoming.....   \n",
       "5377314                  His strike hitbox is also broken.   \n",
       "5377315  FINAL REMINDERS!1) OP, remember to copy and pa...   \n",
       "5377316  1700+ Likes later, tons of evidence, Jeff be l...   \n",
       "\n",
       "                                                     topic     topic_id  \\\n",
       "5248773               Report feature is actually working.   20761706073   \n",
       "5248774                      Making fun of Mercy Mains Now  20761665966   \n",
       "5248775                  Replace Hanzo Scatter NEW ABILITY  20761027778   \n",
       "5248776                         Mercy lowest picked healer  20761606078   \n",
       "5248777                  \"Play nice, Play Fair\" Yeah right  20761636010   \n",
       "5248778                  \"Play nice, Play Fair\" Yeah right  20761636010   \n",
       "5248779     [Feedback Thread] Mercy Updates - Jan 30, 2018  20761088072   \n",
       "5248780                                    #MercyIsStillOP  20761646020   \n",
       "5248781  Reaper doesn't need a spread reduction they sa...  20761636018   \n",
       "5248782                           Yo do you feel the beat?  20761606026   \n",
       "5248783                  \"Play nice, Play Fair\" Yeah right  20761636010   \n",
       "5248784                 It's not like Mercy is unplayable.  20761038170   \n",
       "5248785                                15 months of Sombra  20761606080   \n",
       "5248786                                            Nerfing  20761796026   \n",
       "5248787                          Moira was an amazing idea  20760405916   \n",
       "5248788                     Idea to replace Scatter Arrow.  20761656011   \n",
       "5248789                                   Hanamura exploit  20761826019   \n",
       "5248790   Mercy Mains Forget: Rez is most powerful ability  20761816086   \n",
       "5248791                                          D.Va = OP  20761087875   \n",
       "5248792           Killing junk should equal cancelled ult   20761796081   \n",
       "5248793                         Buff Suggestion for Sombra  20761606020   \n",
       "5248794     [Feedback Thread] Mercy Updates - Jan 30, 2018  20761088072   \n",
       "5248795  \"D.va was never a StarCraft pro\": the retcon w...  20761806067   \n",
       "5248796     [Feedback Thread] Mercy Updates - Jan 30, 2018  20761088072   \n",
       "5248797                  \"Play nice, Play Fair\" Yeah right  20761636010   \n",
       "5248798                 It's not like Mercy is unplayable.  20761038170   \n",
       "5248799                 It's not like Mercy is unplayable.  20761038170   \n",
       "5248800           OW Team may be Big Brother watching you?  20761097745   \n",
       "5248801  How can toxicity lower if its being stoked an...  20761716038   \n",
       "5248802                                Ultimates Tier List  20760947645   \n",
       "...                                                    ...          ...   \n",
       "5377287  [MEGATHREAD] Fix deflect! 3 testing videos, 41...  20759150839   \n",
       "5377288  [MEGATHREAD] Fix deflect! 3 testing videos, 41...  20759150839   \n",
       "5377289  [MEGATHREAD] Fix deflect! 3 testing videos, 41...  20759150839   \n",
       "5377290         There are  A-LOT of Bugs Plaguing Doomfist  20760618494   \n",
       "5377291         There are  A-LOT of Bugs Plaguing Doomfist  20760618494   \n",
       "5377292         There are  A-LOT of Bugs Plaguing Doomfist  20760618494   \n",
       "5377293  Why should I lose rank when someone on my team...  20745766460   \n",
       "5377294  Why should I lose rank when someone on my team...  20745766460   \n",
       "5377295  Why should I lose rank when someone on my team...  20745766460   \n",
       "5377296  [MEGATHREAD] Fix deflect! 3 testing videos, 41...  20759150839   \n",
       "5377297    What settings and GPU do you use to get 144FPS?  20745054315   \n",
       "5377298  [MEGATHREAD] Fix deflect! 3 testing videos, 41...  20759150839   \n",
       "5377299    What settings and GPU do you use to get 144FPS?  20745054315   \n",
       "5377300  [MEGATHREAD] Fix deflect! 3 testing videos, 41...  20759150839   \n",
       "5377301    What settings and GPU do you use to get 144FPS?  20745054315   \n",
       "5377302  [MEGATHREAD] Fix deflect! 3 testing videos, 41...  20759150839   \n",
       "5377303                                           Moira :(  20759341641   \n",
       "5377304          Middle Eastern Players' Ping is Too High!  20752795753   \n",
       "5377305  [MEGATHREAD] Fix deflect! 3 testing videos, 41...  20759150839   \n",
       "5377306                      ERROR removed from voice chat  20758827892   \n",
       "5377307  [MEGATHREAD] Fix deflect! 3 testing videos, 41...  20759150839   \n",
       "5377308  [MEGATHREAD] Fix deflect! 3 testing videos, 41...  20759150839   \n",
       "5377309  [MEGATHREAD] Fix deflect! 3 testing videos, 41...  20759150839   \n",
       "5377310  [MEGATHREAD] Fix deflect! 3 testing videos, 41...  20759150839   \n",
       "5377311  [MEGATHREAD] Fix deflect! 3 testing videos, 41...  20759150839   \n",
       "5377312  [MEGATHREAD] Fix deflect! 3 testing videos, 41...  20759150839   \n",
       "5377313  [MEGATHREAD] Fix deflect! 3 testing videos, 41...  20759150839   \n",
       "5377314  [MEGATHREAD] Fix deflect! 3 testing videos, 41...  20759150839   \n",
       "5377315  [MEGATHREAD] Fix deflect! 3 testing videos, 41...  20759150839   \n",
       "5377316  [MEGATHREAD] Fix deflect! 3 testing videos, 41...  20759150839   \n",
       "\n",
       "         upvotes          user  user_posts  \n",
       "5248773        9     Fiotality  1140 posts  \n",
       "5248774        1    Crashplayz   116 posts  \n",
       "5248775        0    Acrobatlip     3 posts  \n",
       "5248776        8       Selling    91 posts  \n",
       "5248777       22  Darkxsamurai  1322 posts  \n",
       "5248778       23         creek   915 posts  \n",
       "5248779       11     LunaPearl     6 posts  \n",
       "5248780        0       Sengell   982 posts  \n",
       "5248781        2       Katuchi   806 posts  \n",
       "5248782        0   dradventure  1163 posts  \n",
       "5248783       23     Companion  1159 posts  \n",
       "5248784        1   QuizzyBunny   632 posts  \n",
       "5248785        6  AAZeroThree4   475 posts  \n",
       "5248786        1          SPGG   944 posts  \n",
       "5248787        0     Swampy948   105 posts  \n",
       "5248788        0   linkdude240  1842 posts  \n",
       "5248789        5        Dragon  1678 posts  \n",
       "5248790        4        Chiana  1373 posts  \n",
       "5248791        0     Edsoulman  2384 posts  \n",
       "5248792        8     Patorikku     4 posts  \n",
       "5248793        1     AgtCooper   849 posts  \n",
       "5248794        2   FFirebrandd  1333 posts  \n",
       "5248795        5   LemurScream   896 posts  \n",
       "5248796        5        Avalon     2 posts  \n",
       "5248797       19  mishkalantia   306 posts  \n",
       "5248798        1    nattfjaril    79 posts  \n",
       "5248799        1      BenyoBoy   633 posts  \n",
       "5248800        0       Cuthalu   127 posts  \n",
       "5248801        2          Kris  2522 posts  \n",
       "5248802        0       Profane   886 posts  \n",
       "...          ...           ...         ...  \n",
       "5377287        6         Tenor   902 posts  \n",
       "5377288        2          Nere  2040 posts  \n",
       "5377289        5       Variann   895 posts  \n",
       "5377290        0       iSinner  4477 posts  \n",
       "5377291        0       iSinner  4477 posts  \n",
       "5377292        0       iSinner  4477 posts  \n",
       "5377293        0         David     1 posts  \n",
       "5377294        0      HotBBQ88   279 posts  \n",
       "5377295        0      HotBBQ88   279 posts  \n",
       "5377296        0        Attlus  1983 posts  \n",
       "5377297        0       Naramie   214 posts  \n",
       "5377298        0        Attlus  1983 posts  \n",
       "5377299        0       Zerosix  1138 posts  \n",
       "5377300        4       Campari    75 posts  \n",
       "5377301        0      Mortollo   270 posts  \n",
       "5377302        5      BlyZeraz   517 posts  \n",
       "5377303        0          Ivan    93 posts  \n",
       "5377304        0  BIGDADDYHANZ     3 posts  \n",
       "5377305        5  iNeedHugsNow   808 posts  \n",
       "5377306        0   FutileTears   138 posts  \n",
       "5377307        0      Nasibihc   461 posts  \n",
       "5377308        7        Pupsik    73 posts  \n",
       "5377309        0         fenix   229 posts  \n",
       "5377310        2       Sandity  2297 posts  \n",
       "5377311        0      onetrick   384 posts  \n",
       "5377312        2        Pupsik    73 posts  \n",
       "5377313        2    aieeegrunt   268 posts  \n",
       "5377314        3  iNeedHugsNow   808 posts  \n",
       "5377315        4     LockerNo2   585 posts  \n",
       "5377316        2  Brickleberry    79 posts  \n",
       "\n",
       "[128544 rows x 9 columns]"
      ]
     },
     "execution_count": 60,
     "metadata": {},
     "output_type": "execute_result"
    }
   ],
   "source": [
    "# removing the beginning and most current month of the forum to avoid incomplete months\n",
    "df_by_month.pop('df_05_2016')\n",
    "df_by_month.pop('df_02_2018')"
   ]
  },
  {
   "cell_type": "markdown",
   "metadata": {},
   "source": [
    "With the ends trimmed we are confident that every dataframe in our `df_by_month` contains a full month of posts."
   ]
  },
  {
   "cell_type": "markdown",
   "metadata": {},
   "source": [
    "#### b) creating language models for each month"
   ]
  },
  {
   "cell_type": "markdown",
   "metadata": {},
   "source": [
    "All language models will be trigrams for now. Scoring ultimately will use add-k smoothing, but I will improve this in the future with some form of back-off smoothing.\n",
    "\n",
    "We will save a version of the snapshot model that does not have any of the users that were used in making the trigram language model. This version will be used to subsequently analyze the language model. \n",
    "\n",
    "**[Note to myself]**\n",
    "It may be a bit harsh to remove all of a user's posts instead of just the posts that were used to make the training data... I should try it both ways and think more about it.\n",
    "\n",
    "**[Another note to myself]** .. OK I thought about it and decided it's too harsh to throw out a user from analysis just because some of their posts are in the training data, because A) I'm still removing the posts that user contributed to training the LMs and B) I'm only letting a user contribute 2 posts to any given LM (0.2% of training data)."
   ]
  },
  {
   "cell_type": "markdown",
   "metadata": {},
   "source": [
    "(This could take a minute)"
   ]
  },
  {
   "cell_type": "code",
   "execution_count": 64,
   "metadata": {},
   "outputs": [
    {
     "name": "stdout",
     "output_type": "stream",
     "text": [
      "Model for df_06_2016 built successfully\n",
      "Model for df_07_2016 built successfully\n",
      "Model for df_08_2016 built successfully\n",
      "Model for df_09_2016 built successfully\n",
      "Model for df_10_2016 built successfully\n",
      "Model for df_11_2016 built successfully\n",
      "Model for df_12_2016 built successfully\n",
      "Model for df_01_2017 built successfully\n",
      "Model for df_02_2017 built successfully\n",
      "Model for df_03_2017 built successfully\n",
      "Model for df_04_2017 built successfully\n",
      "Model for df_05_2017 built successfully\n",
      "Model for df_06_2017 built successfully\n",
      "Model for df_07_2017 built successfully\n",
      "Model for df_08_2017 built successfully\n",
      "Model for df_09_2017 built successfully\n",
      "Model for df_10_2017 built successfully\n",
      "Model for df_11_2017 built successfully\n",
      "Model for df_12_2017 built successfully\n",
      "Model for df_01_2018 built successfully\n",
      "DONE BUILDING MODELS\n"
     ]
    }
   ],
   "source": [
    "df_no_train, trigram_counts, trigram_context_totals = utils.trigram_models_by_month(df_by_month)"
   ]
  },
  {
   "cell_type": "markdown",
   "metadata": {},
   "source": [
    "#### c) Testing out our new language models (generating sentences for fun)"
   ]
  },
  {
   "cell_type": "code",
   "execution_count": 65,
   "metadata": {},
   "outputs": [
    {
     "name": "stdout",
     "output_type": "stream",
     "text": [
      "Snapshot model from 06/2016\n",
      "Fake/generated sentence:\n",
      "\u001b[1;32mSoldier:76 McCree ruin Pharah 's day\u001b[0m\n",
      "cross-entropy = 46.17\n",
      "\n",
      "\n",
      "Snapshot model from 07/2016\n",
      "Fake/generated sentence:\n",
      "\u001b[1;32mIf anything 've made Zenyatta even unplayable\u001b[0m\n",
      "cross-entropy = 57.64\n",
      "\n",
      "\n",
      "Snapshot model from 08/2016\n",
      "Fake/generated sentence:\n",
      "\u001b[1;32mOnly one option Git gud\u001b[0m\n",
      "cross-entropy = 34.58\n",
      "\n",
      "\n",
      "Snapshot model from 09/2016\n",
      "Fake/generated sentence:\n",
      "\u001b[1;32mNot much mute report move on.As started I n't feel ready\u001b[0m\n",
      "cross-entropy = 102.34\n",
      "\n",
      "\n",
      "Snapshot model from 10/2016\n",
      "Fake/generated sentence:\n",
      "\u001b[1;32mBut agreed 're bit putting.I like new coloring armor\u001b[0m\n",
      "cross-entropy = 80.57\n",
      "\n",
      "\n",
      "Snapshot model from 11/2016\n",
      "Fake/generated sentence:\n",
      "\u001b[1;32m11/17/2016 09:10 PMPosted BonesIt 's going changes internally feels solid etc\u001b[0m\n",
      "cross-entropy = 103.50\n",
      "\n",
      "\n",
      "Snapshot model from 12/2016\n",
      "Fake/generated sentence:\n",
      "\u001b[1;32mJudging topic evidently\u001b[0m\n",
      "cross-entropy = 11.52\n",
      "\n",
      "\n",
      "Snapshot model from 01/2017\n",
      "Fake/generated sentence:\n",
      "\u001b[1;32mYou give lil kids least one leaver whether side enemy 's\u001b[0m\n",
      "cross-entropy = 103.43\n",
      "\n",
      "\n",
      "Snapshot model from 02/2017\n",
      "Fake/generated sentence:\n",
      "\u001b[1;32mscatter arrow thing 'd great see ability create maps use\u001b[0m\n",
      "cross-entropy = 92.33\n",
      "\n",
      "\n",
      "Snapshot model from 03/2017\n",
      "Fake/generated sentence:\n",
      "\u001b[1;32mca n't rename customs games console would easier find things right 's 'gamertag 's custom game\u001b[0m\n",
      "cross-entropy = 160.97\n",
      "\n",
      "\n",
      "Snapshot model from 04/2017\n",
      "Fake/generated sentence:\n",
      "\u001b[1;32m04/19/2017 03:03 PMPosted skabudaI 'm sorry miss able everything.I mean remember s2\u001b[0m\n",
      "cross-entropy = 115.18\n",
      "\n",
      "\n",
      "Snapshot model from 05/2017\n",
      "Fake/generated sentence:\n",
      "\u001b[1;32m`` great moment OW history '' autism cringe\u001b[0m\n",
      "cross-entropy = 67.84\n",
      "\n",
      "\n",
      "Snapshot model from 06/2017\n",
      "Fake/generated sentence:\n",
      "\u001b[1;32mI hear Gold alot Widows Hanzluls Pru Genji 's swift\u001b[0m\n",
      "cross-entropy = 92.09\n",
      "\n",
      "\n",
      "Snapshot model from 07/2017\n",
      "Fake/generated sentence:\n",
      "\u001b[1;32mTerry crews voice\u001b[0m\n",
      "cross-entropy = 11.53\n",
      "\n",
      "\n",
      "Snapshot model from 08/2017\n",
      "Fake/generated sentence:\n",
      "\u001b[1;32mend section 13 E I noticed included list things could delay\u001b[0m\n",
      "cross-entropy = 103.00\n",
      "\n",
      "\n",
      "Snapshot model from 09/2017\n",
      "Fake/generated sentence:\n",
      "\u001b[1;32m-Having good aim\u001b[0m\n",
      "cross-entropy = 11.52\n",
      "\n",
      "\n",
      "Snapshot model from 10/2017\n",
      "Fake/generated sentence:\n",
      "\u001b[1;32mEDIT I posted hours ago 's showing\u001b[0m\n",
      "cross-entropy = 57.59\n",
      "\n",
      "\n",
      "Snapshot model from 11/2017\n",
      "Fake/generated sentence:\n",
      "\u001b[1;32mSo Blizzard swapped beloved game mode one likes xQc.He 's one answer problem.Git gud\u001b[0m\n",
      "cross-entropy = 137.93\n",
      "\n",
      "\n",
      "Snapshot model from 12/2017\n",
      "Fake/generated sentence:\n",
      "\u001b[1;32mever voted post I find quite funny\u001b[0m\n",
      "cross-entropy = 57.22\n",
      "\n",
      "\n",
      "Snapshot model from 01/2018\n",
      "Fake/generated sentence:\n",
      "\u001b[1;32mPlaying hanzo 2CP\u001b[0m\n",
      "cross-entropy = 11.47\n",
      "\n",
      "\n"
     ]
    }
   ],
   "source": [
    "for key in df_by_month.keys():\n",
    "    print(\"Snapshot model from {}/{}\".format(key[3:5], key[6:]))\n",
    "    print(\"Fake/generated sentence:\")\n",
    "    utils.print_fake_sentences(trigram_counts[key], trigram_context_totals[key], n=1)"
   ]
  },
  {
   "cell_type": "markdown",
   "metadata": {},
   "source": [
    "The sentences don't make a ton of sense, but they're only using add-k smoothing and the language models have nltk.stop_words filtered out so the language would be somewhat \"caveman\" like.\n",
    "\n",
    "Also, notice that as a sentence becomes longer it naturally has higher cross-entropy. This is a problem with measuring cross-entropy in language models and is why I limited posts to a maximum of 30 words when building language models."
   ]
  },
  {
   "cell_type": "markdown",
   "metadata": {},
   "source": [
    "***"
   ]
  },
  {
   "cell_type": "markdown",
   "metadata": {},
   "source": [
    "<div align=\"right\">\n",
    "    [back to top](#toc)\n",
    "</div>\n",
    "\n",
    "<a id=\"section5\"></a>\n",
    "\n",
    "## 5) Analyzing user life cycle\n"
   ]
  },
  {
   "cell_type": "markdown",
   "metadata": {},
   "source": [
    "#### a) find some candidate users to analyze"
   ]
  },
  {
   "cell_type": "code",
   "execution_count": 66,
   "metadata": {},
   "outputs": [
    {
     "name": "stdout",
     "output_type": "stream",
     "text": [
      "[('Bastion', 20), ('Cosmic', 20), ('Mel', 20), ('Raven', 20), ('Rezbit', 20)]\n"
     ]
    }
   ],
   "source": [
    "user_count = Counter()\n",
    "for key in list(df_no_train.keys()):\n",
    "    user_list = Counter(list(set(df_no_train[key]['user'].tolist())))\n",
    "    user_count += user_list\n",
    "    \n",
    "users = user_count.most_common(5)\n",
    "print(users)\n",
    "active_user_list = []\n",
    "for user in users:\n",
    "    active_user_list.append(user[0])"
   ]
  },
  {
   "cell_type": "markdown",
   "metadata": {},
   "source": [
    "Any users we see above with the value '17' have posted at least once every month from 06/2016 - 10/2017. We'll dive into 5 of the most active users (users that posted consistently)."
   ]
  },
  {
   "cell_type": "code",
   "execution_count": 67,
   "metadata": {},
   "outputs": [
    {
     "name": "stdout",
     "output_type": "stream",
     "text": [
      "Number of Posts by Bastion\n",
      "df_06_2016: 58 posts\n",
      "df_07_2016: 3 posts\n",
      "df_08_2016: 3 posts\n",
      "df_09_2016: 148 posts\n",
      "df_10_2016: 145 posts\n",
      "df_11_2016: 49 posts\n",
      "df_12_2016: 43 posts\n",
      "df_01_2017: 14 posts\n",
      "df_02_2017: 207 posts\n",
      "df_03_2017: 231 posts\n",
      "df_04_2017: 28 posts\n",
      "df_05_2017: 7 posts\n",
      "df_06_2017: 38 posts\n",
      "df_07_2017: 95 posts\n",
      "df_08_2017: 1 posts\n",
      "df_09_2017: 16 posts\n",
      "df_10_2017: 53 posts\n",
      "df_11_2017: 28 posts\n",
      "df_12_2017: 93 posts\n",
      "df_01_2018: 38 posts\n",
      "\n",
      "\n",
      "Number of Posts by Cosmic\n",
      "df_06_2016: 25 posts\n",
      "df_07_2016: 7 posts\n",
      "df_08_2016: 23 posts\n",
      "df_09_2016: 1 posts\n",
      "df_10_2016: 1 posts\n",
      "df_11_2016: 5 posts\n",
      "df_12_2016: 14 posts\n",
      "df_01_2017: 7 posts\n",
      "df_02_2017: 21 posts\n",
      "df_03_2017: 20 posts\n",
      "df_04_2017: 4 posts\n",
      "df_05_2017: 20 posts\n",
      "df_06_2017: 34 posts\n",
      "df_07_2017: 3 posts\n",
      "df_08_2017: 3 posts\n",
      "df_09_2017: 7 posts\n",
      "df_10_2017: 21 posts\n",
      "df_11_2017: 11 posts\n",
      "df_12_2017: 9 posts\n",
      "df_01_2018: 34 posts\n",
      "\n",
      "\n",
      "Number of Posts by Mel\n",
      "df_06_2016: 24 posts\n",
      "df_07_2016: 13 posts\n",
      "df_08_2016: 1 posts\n",
      "df_09_2016: 13 posts\n",
      "df_10_2016: 23 posts\n",
      "df_11_2016: 82 posts\n",
      "df_12_2016: 112 posts\n",
      "df_01_2017: 215 posts\n",
      "df_02_2017: 169 posts\n",
      "df_03_2017: 87 posts\n",
      "df_04_2017: 68 posts\n",
      "df_05_2017: 96 posts\n",
      "df_06_2017: 56 posts\n",
      "df_07_2017: 99 posts\n",
      "df_08_2017: 102 posts\n",
      "df_09_2017: 20 posts\n",
      "df_10_2017: 25 posts\n",
      "df_11_2017: 57 posts\n",
      "df_12_2017: 28 posts\n",
      "df_01_2018: 22 posts\n",
      "\n",
      "\n",
      "Number of Posts by Raven\n",
      "df_06_2016: 300 posts\n",
      "df_07_2016: 471 posts\n",
      "df_08_2016: 281 posts\n",
      "df_09_2016: 89 posts\n",
      "df_10_2016: 61 posts\n",
      "df_11_2016: 41 posts\n",
      "df_12_2016: 30 posts\n",
      "df_01_2017: 75 posts\n",
      "df_02_2017: 28 posts\n",
      "df_03_2017: 32 posts\n",
      "df_04_2017: 121 posts\n",
      "df_05_2017: 175 posts\n",
      "df_06_2017: 29 posts\n",
      "df_07_2017: 66 posts\n",
      "df_08_2017: 90 posts\n",
      "df_09_2017: 46 posts\n",
      "df_10_2017: 56 posts\n",
      "df_11_2017: 60 posts\n",
      "df_12_2017: 95 posts\n",
      "df_01_2018: 223 posts\n",
      "\n",
      "\n",
      "Number of Posts by Rezbit\n",
      "df_06_2016: 58 posts\n",
      "df_07_2016: 107 posts\n",
      "df_08_2016: 58 posts\n",
      "df_09_2016: 21 posts\n",
      "df_10_2016: 5 posts\n",
      "df_11_2016: 42 posts\n",
      "df_12_2016: 42 posts\n",
      "df_01_2017: 45 posts\n",
      "df_02_2017: 30 posts\n",
      "df_03_2017: 50 posts\n",
      "df_04_2017: 102 posts\n",
      "df_05_2017: 80 posts\n",
      "df_06_2017: 38 posts\n",
      "df_07_2017: 31 posts\n",
      "df_08_2017: 52 posts\n",
      "df_09_2017: 103 posts\n",
      "df_10_2017: 27 posts\n",
      "df_11_2017: 35 posts\n",
      "df_12_2017: 69 posts\n",
      "df_01_2018: 105 posts\n",
      "\n",
      "\n"
     ]
    }
   ],
   "source": [
    "for user in active_user_list:\n",
    "    print(\"Number of Posts by {}\".format(user))\n",
    "    for key in list(df_no_train.keys()):\n",
    "        df = df_no_train[key]\n",
    "        rows = df[df['user'] == user].shape[0]\n",
    "        print(\"{0}: {1} posts\".format(key, rows)) \n",
    "    print(\"\\n\")"
   ]
  },
  {
   "cell_type": "markdown",
   "metadata": {},
   "source": [
    "Because the training of the LMs randomly picks which posts to take, the \"top 5\" users may differ from time to time as this notebook is rerun.\n",
    "\n",
    "In this iteration, we see that user 'Alpha' has posted in every month and has many posts in every month. Let's use him as a test case for now."
   ]
  },
  {
   "cell_type": "markdown",
   "metadata": {},
   "source": [
    "#### b) Analyzing change in language over time for candidate users"
   ]
  },
  {
   "cell_type": "code",
   "execution_count": 70,
   "metadata": {
    "scrolled": false
   },
   "outputs": [
    {
     "data": {
      "image/png": "[encoded data removed]",
      "text/plain": [
       "<matplotlib.figure.Figure at 0x2957fa1c5c0>"
      ]
     },
     "metadata": {},
     "output_type": "display_data"
    },
    {
     "data": {
      "image/png": "[encoded data removed]",
      "text/plain": [
       "<matplotlib.figure.Figure at 0x29594769f28>"
      ]
     },
     "metadata": {},
     "output_type": "display_data"
    },
    {
     "data": {
      "image/png": "[encoded data removed]",
      "text/plain": [
       "<matplotlib.figure.Figure at 0x29594819d68>"
      ]
     },
     "metadata": {},
     "output_type": "display_data"
    },
    {
     "data": {
      "image/png": "[encoded data removed]",
      "text/plain": [
       "<matplotlib.figure.Figure at 0x29596aa8d68>"
      ]
     },
     "metadata": {},
     "output_type": "display_data"
    },
    {
     "data": {
      "image/png": "[encoded data removed]",
      "text/plain": [
       "<matplotlib.figure.Figure at 0x29596b351d0>"
      ]
     },
     "metadata": {},
     "output_type": "display_data"
    }
   ],
   "source": [
    "for user in active_user_list:\n",
    "    cross_entropy = utils.score_user(user, df_no_train, trigram_counts, trigram_context_totals)\n",
    "    utils.plot_entropy(user, cross_entropy, month_labels)"
   ]
  },
  {
   "cell_type": "markdown",
   "metadata": {},
   "source": [
    "I want to add error bars to the points on these plots so we can better understand how seriously to take these results (basically how many posts the user had each month).\n",
    "\n",
    "Ideally we'd like to see the cross-entropy of the user decrease over time. Or see it decrease, stabalize at some low value, and then start to rise back up. Either trend would suggest that the user is adopting more of the language of the forum as time goes on (evidence in support of the original work by Danescu et al. 2013). Because these are users that have remained active throught the lifespan of the forum we cannot visualize their full user life cycle (i.e. entry to forum -> linguistic maturity -> user churn)."
   ]
  },
  {
   "cell_type": "markdown",
   "metadata": {},
   "source": [
    "#### !! UNDER CONSTRUCTION !!\n",
    "\n",
    "#### c) find users that were initially very active and dropped off toward the end of 2016 or early 2017\n",
    "\n",
    "If we define a time frame of inactivity to declare a user has churned, we can look for candidate users that may display a full life cycle."
   ]
  },
  {
   "cell_type": "code",
   "execution_count": 73,
   "metadata": {
    "collapsed": true
   },
   "outputs": [],
   "source": [
    "# INCOMPLETE!!\n",
    "\n",
    "# code to find users here\n",
    "candidate_users = []"
   ]
  },
  {
   "cell_type": "markdown",
   "metadata": {},
   "source": [
    "#### d) analyze these users to see if they display a full life cycle"
   ]
  },
  {
   "cell_type": "code",
   "execution_count": null,
   "metadata": {
    "collapsed": true
   },
   "outputs": [],
   "source": [
    "for user in candidate_users:\n",
    "    cross_entropy = utils.score_user(user, df_no_train, trigram_counts, trigram_context_totals)\n",
    "    utils.plot_entropy(user, cross_entropy, month_labels)"
   ]
  },
  {
   "cell_type": "markdown",
   "metadata": {},
   "source": [
    "***"
   ]
  },
  {
   "cell_type": "markdown",
   "metadata": {},
   "source": [
    "## !! UNDER CONSTRUCTION!!\n",
    "\n",
    "## Don't go past this point! Dead end!"
   ]
  },
  {
   "cell_type": "markdown",
   "metadata": {
    "nbpresent": {
     "id": "88658b03-2185-4d67-b892-b4442fafc164"
    }
   },
   "source": [
    "<div align=right>\n",
    "    [back to top](#toc)\n",
    "</div>\n",
    "\n",
    "<a id=\"section6\"></a>\n",
    "\n",
    "### Step 6) Creating a classifier for user churn prediction"
   ]
  },
  {
   "cell_type": "code",
   "execution_count": 196,
   "metadata": {
    "collapsed": true
   },
   "outputs": [],
   "source": [
    "# where to start..."
   ]
  },
  {
   "cell_type": "markdown",
   "metadata": {
    "nbpresent": {
     "id": "6a7e11fe-8a10-4b33-9e0b-2d217aee9ef8"
    }
   },
   "source": [
    "***"
   ]
  },
  {
   "cell_type": "markdown",
   "metadata": {},
   "source": [
    "### That's the end!... what more were you hoping to find down here! :("
   ]
  }
 ],
 "metadata": {
  "anaconda-cloud": {},
  "kernelspec": {
   "display_name": "Python 3",
   "language": "python",
   "name": "python3"
  },
  "language_info": {
   "codemirror_mode": {
    "name": "ipython",
    "version": 3
   },
   "file_extension": ".py",
   "mimetype": "text/x-python",
   "name": "python",
   "nbconvert_exporter": "python",
   "pygments_lexer": "ipython3",
   "version": "3.6.3"
  },
  "nbpresent": {
   "slides": {},
   "themes": {
    "default": "0c4c23af-d300-48dd-b943-217cb1bff0da",
    "theme": {}
   }
  }
 },
 "nbformat": 4,
 "nbformat_minor": 2
}
