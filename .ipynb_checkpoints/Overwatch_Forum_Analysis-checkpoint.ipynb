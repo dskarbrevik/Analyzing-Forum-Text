{
 "cells": [
  {
   "cell_type": "markdown",
   "metadata": {
    "nbpresent": {
     "id": "828b046a-94e2-4c1b-974c-779f7ee8d981"
    }
   },
   "source": [
    "# Analyzing Overwatch Forum Posts"
   ]
  },
  {
   "cell_type": "markdown",
   "metadata": {
    "nbpresent": {
     "id": "c8faf55b-7972-4455-82ec-de8ab9e04d5c"
    }
   },
   "source": [
    "This is an analysis of data I scraped from Blizzard's official Overwatch general discussion <a href=\"https://us.battle.net/forums/en/overwatch/22813879/\">forum</a>. For more information on how scraping was performed or about this project in general, visit my repo <a href=\"https://github.com/dskarbrevik/W266_Project_Skarbrevik\">here</a>."
   ]
  },
  {
   "cell_type": "markdown",
   "metadata": {
    "nbpresent": {
     "id": "94ca5e9a-814a-479f-aa3f-400558a69e1d"
    }
   },
   "source": [
    "<a id=\"toc\"></a>\n",
    "\n",
    "## Table of Contents\n",
    "<ol>\n",
    "    <li>[Setting up the environment](#section1)</li>\n",
    "    <br>\n",
    "    <li>[Preprocessing the data](#section2)</li>\n",
    "    <br>\n",
    "    <li>[Exploratory Data Analysis on whole dataset](#section3)</li>\n",
    "    <br>\n",
    "    <li>[Creating language models by month](#section4)</li>\n",
    "    <br>\n",
    "    <li>[Analyzing user life cycle](#section5)</li>\n",
    "</ol>"
   ]
  },
  {
   "cell_type": "markdown",
   "metadata": {
    "nbpresent": {
     "id": "7d992b0e-bd2d-4723-8437-8f88685b6af7"
    }
   },
   "source": [
    "***"
   ]
  },
  {
   "cell_type": "markdown",
   "metadata": {
    "nbpresent": {
     "id": "95841148-b7bb-4b07-b7dc-c9354715d165"
    }
   },
   "source": [
    "<a id='section1'></a>\n",
    "\n",
    "## 1) Setting up the environment\n",
    "\n"
   ]
  },
  {
   "cell_type": "markdown",
   "metadata": {
    "nbpresent": {
     "id": "286a04c4-7825-4d5a-8a6a-04a08783b514"
    }
   },
   "source": [
    "#### Import libraries"
   ]
  },
  {
   "cell_type": "code",
   "execution_count": 1,
   "metadata": {
    "collapsed": true,
    "nbpresent": {
     "id": "2d90d852-57de-4ea3-89ff-5ef03ba524a2"
    }
   },
   "outputs": [],
   "source": [
    "import pandas as pd\n",
    "import numpy as np\n",
    "import utils # utils.py can be found in repo; contains helper functions used in this notebook\n",
    "import nltk\n",
    "import re\n",
    "import sys\n",
    "import string\n",
    "import random\n",
    "from nltk.corpus import stopwords\n",
    "from nltk import word_tokenize, sent_tokenize\n",
    "from collections import Counter, defaultdict\n",
    "import matplotlib.pyplot as plt\n",
    "%matplotlib inline"
   ]
  },
  {
   "cell_type": "code",
   "execution_count": 32,
   "metadata": {},
   "outputs": [
    {
     "name": "stdout",
     "output_type": "stream",
     "text": [
      "showing info https://raw.githubusercontent.com/nltk/nltk_data/gh-pages/index.xml\n"
     ]
    },
    {
     "data": {
      "text/plain": [
       "True"
      ]
     },
     "execution_count": 32,
     "metadata": {},
     "output_type": "execute_result"
    }
   ],
   "source": [
    "# if you don't have nltk data downloaded, \n",
    "# you will need to do that before being able to execute the later parts of this notebook.\n",
    "# Use the below command to do so:\n",
    "\n",
    "#nltk.download()"
   ]
  },
  {
   "cell_type": "code",
   "execution_count": 26,
   "metadata": {},
   "outputs": [
    {
     "data": {
      "text/plain": [
       "<module 'utils' from '/Users/Scout/Documents/GitHub/Forum-User-Lifecycle-Analysis/utils.py'>"
      ]
     },
     "execution_count": 26,
     "metadata": {},
     "output_type": "execute_result"
    }
   ],
   "source": [
    "# in case I need to reload utils after editing it...\n",
    "\n",
    "import importlib\n",
    "importlib.reload(utils)"
   ]
  },
  {
   "cell_type": "markdown",
   "metadata": {
    "nbpresent": {
     "id": "4ea31050-e26d-456e-a9b3-46a502210758"
    }
   },
   "source": [
    "Note: nltk data must be downloaded prior to running cells further in this notebook. Run `nltk.download()` to install necessary data."
   ]
  },
  {
   "cell_type": "markdown",
   "metadata": {
    "nbpresent": {
     "id": "2c590bb8-e974-4ba9-bce1-947cf4c16b8e"
    }
   },
   "source": [
    "#### Import data"
   ]
  },
  {
   "cell_type": "code",
   "execution_count": 3,
   "metadata": {
    "collapsed": true,
    "nbpresent": {
     "id": "e9d0ac73-b857-47b9-a481-890870197764"
    }
   },
   "outputs": [],
   "source": [
    "#ow_db1 = pd.read_csv(\"E:\\\\Data Science Playgrounds\\\\Blizzard Forums Project\\\\Web Scrapes\\\\11-18-17\\\\overwatch_database_1_5248.csv\", encoding = \"ISO-8859-1\")\n",
    "#ow_db2 = pd.read_csv(\"E:\\\\Data Science Playgrounds\\\\Blizzard Forums Project\\\\Web Scrapes\\\\11-18-17\\\\overwatch_database_5249_7691.csv\", encoding = \"ISO-8859-1\")\n",
    "#ow_db3 = pd.read_csv(\"E:\\\\Data Science Playgrounds\\\\Blizzard Forums Project\\\\Web Scrapes\\\\11-18-17\\\\overwatch_database_7692_8655.csv\", encoding = \"ISO-8859-1\")\n",
    "\n",
    "####################################################################\n",
    "# I may consider putting the data in an s3 bucket at some point... #\n",
    "####################################################################\n",
    "\n",
    "ow_db1 = pd.read_csv(\"/Users/Scout/Documents/DataDump/OverwatchForumR1/overwatch_database_1_5248.csv\", encoding = \"ISO-8859-1\")\n",
    "ow_db2 = pd.read_csv(\"/Users/Scout/Documents/DataDump/OverwatchForumR1/overwatch_database_5249_7691.csv\", encoding = \"ISO-8859-1\")\n",
    "ow_db3 = pd.read_csv(\"/Users/Scout/Documents/DataDump/OverwatchForumR1/overwatch_database_7692_8655.csv\", encoding = \"ISO-8859-1\")"
   ]
  },
  {
   "cell_type": "markdown",
   "metadata": {
    "nbpresent": {
     "id": "882cf1bc-cfaf-4942-9e2e-a2b29ad42261"
    }
   },
   "source": [
    "#### Concatenate data files"
   ]
  },
  {
   "cell_type": "code",
   "execution_count": 4,
   "metadata": {
    "collapsed": true,
    "nbpresent": {
     "id": "dc2d4af4-58ec-4996-919f-ea8f34b716b4"
    }
   },
   "outputs": [],
   "source": [
    "all_db = [ow_db1, ow_db2, ow_db3]\n",
    "master_db = pd.concat(all_db)\n",
    "before_preprocess = master_db.head() # save to compare later for fun"
   ]
  },
  {
   "cell_type": "markdown",
   "metadata": {
    "nbpresent": {
     "id": "61332c64-fbef-41db-a8e9-b4097e94d413"
    }
   },
   "source": [
    "***"
   ]
  },
  {
   "cell_type": "markdown",
   "metadata": {
    "nbpresent": {
     "id": "ae7bf158-e52c-4f86-b0a3-b8f663b91b87"
    }
   },
   "source": [
    "<div align=\"right\">\n",
    "    [back to top](#toc)\n",
    "</div>\n",
    "\n",
    "<a id='section2'></a>\n",
    "\n",
    "## 2) Preprocessing the data"
   ]
  },
  {
   "cell_type": "markdown",
   "metadata": {},
   "source": [
    "#### a) Remove duplicate posts: both exact duplicates and situations where a user just reposted the exact same topic text and post text\n",
    "\n",
    "Only after much anguish while troubleshooting the creation of my language models... I realized for some strange reason there are duplicate rows in this dataset. It's probably something you should always check for right away, but in my mind it seemed pretty silly to think that the Blizzard forum would have the exact same post displayed twice on their website... anyway now it's the first step in this notebook... \n",
    "\n",
    "[UPDATE!]\n",
    "\n",
    "After thinking I had solved my issue, it turns out that while the vanilla \"drop_duplicates()\" Pandas function did get rid of all exact copies of posts in the dataset, it didn't get rid of rows where just the \"user\" and \"text\" were identical. After debating whether these rows should be removed, I have decided to remove them as such posts are not in line with the idea of tracking changes in the user over time.\n",
    "\n",
    "[UPDATE... again]\n",
    "\n",
    "I have a function that creates a unified \"all_text\" column in the dataframe that is simply \"topic\" + \" \" + \"text\" OR if \"topic\" doesn't end in punctuation \"topic\" + \". \" + \"text\" (I add a period to separate the topic and text). Ultimately there isn't much reason for me to do it, but it revealed to me that some forum users made a post where the topic ended without punctuation and then made a new post that's exactly the same except now the topic has a \".\" at the end... I'm choosing to label these as duplicate posts as well and delete them but it makes me question how many other \"soft duplicates\" (just made that up) exist in the dataset. Intuitively there probably aren't that many since other users and moderators would certainly discourage such behavior from a given user. Also, the case I described about a user posting once without punctuation and again with punctuation occured only 16 times in over 400,000 posts, so again probably not a huge deal, but an interesting problem to consider.\n",
    "\n",
    "**... tl;dr this step is very important!**"
   ]
  },
  {
   "cell_type": "code",
   "execution_count": 5,
   "metadata": {},
   "outputs": [
    {
     "name": "stdout",
     "output_type": "stream",
     "text": [
      "You dropped 2029 duplicate rows.\n"
     ]
    }
   ],
   "source": [
    "before_size = master_db.shape[0]\n",
    "master_db = master_db.drop_duplicates(subset=[\"topic\",\"text\",\"user\"])\n",
    "after_size = master_db.shape[0]\n",
    "\n",
    "print(\"You dropped {} duplicate rows.\".format(before_size - after_size))"
   ]
  },
  {
   "cell_type": "markdown",
   "metadata": {
    "nbpresent": {
     "id": "a8f2570d-132c-4c55-acdc-8cc1a486c244"
    }
   },
   "source": [
    "#### b) Remove any rows with more than 1 NaN value\n",
    "Setting \"thresh\" the way I do here allows 1 NaN per row of table. This way we can allow forum posts where the user entered a topic line but no body text (as this may still be valuable data)."
   ]
  },
  {
   "cell_type": "code",
   "execution_count": 6,
   "metadata": {
    "collapsed": true,
    "nbpresent": {
     "id": "4c86c9c6-6e38-488c-b15d-32c749f9d7f2"
    }
   },
   "outputs": [],
   "source": [
    "master_db = master_db.dropna(thresh=len(master_db.columns.tolist())-1)"
   ]
  },
  {
   "cell_type": "markdown",
   "metadata": {
    "nbpresent": {
     "id": "6336c526-44a0-4953-a10c-fade69f1fd13"
    }
   },
   "source": [
    "#### c) Remove users that are \"community managers\" (i.e. employees)\n",
    "\n",
    "This will remove all forum posts from users that are employees of Blizzard. Because these posts are not representative of the thoughts/motivation/language of a non-affiliated forum user, I believe removing these posts is a necessary step. I formed the list of employee users by hand so it is possible that it is not complete, but to the best of my knowledge it is. Ultimately, this removes a very small number of rows from the dataset, so not likely consequential either way."
   ]
  },
  {
   "cell_type": "code",
   "execution_count": 7,
   "metadata": {
    "nbpresent": {
     "id": "d58bd987-c871-4ae4-ac37-50b32d5e6395"
    }
   },
   "outputs": [
    {
     "name": "stdout",
     "output_type": "stream",
     "text": [
      "There were admins in the dataframe.\n",
      "Found 5 admins in the dataframe. Removing those users dropped 59 rows from the dataframe.\n"
     ]
    }
   ],
   "source": [
    "admin_list = [\"Lylirra\", \"Tom Powers\", \"Josh Engen\", \"Jeff Kaplan\", \"Scott Mercer\", \"Michael Chu\", \"Geoff Goodman\", \"Zoevia\"]\n",
    "\n",
    "admins_in_df = utils.check_for_admins(master_db, \"user\", admin_list)\n",
    "\n",
    "master_db = utils.remove_admins(master_db, \"user\", admins_in_df)"
   ]
  },
  {
   "cell_type": "markdown",
   "metadata": {
    "nbpresent": {
     "id": "466a61ad-1f17-403f-8d26-12f79d8fc334"
    }
   },
   "source": [
    "#### d) Convert 'date' and 'time' columns to datetime objects and combine them\n",
    "\n",
    "(This could take a minute)"
   ]
  },
  {
   "cell_type": "code",
   "execution_count": 8,
   "metadata": {
    "collapsed": true,
    "nbpresent": {
     "id": "402c1660-48e9-4eaf-bfdc-8a685a121e4f"
    }
   },
   "outputs": [],
   "source": [
    "master_db['date'] = pd.to_datetime(master_db['date'])\n",
    "master_db['time'] = pd.to_timedelta(master_db['time'] + ':00', unit='h')"
   ]
  },
  {
   "cell_type": "code",
   "execution_count": 9,
   "metadata": {
    "collapsed": true,
    "nbpresent": {
     "id": "7b8a2c89-9a86-49f3-aca7-3f4130a14cd1"
    }
   },
   "outputs": [],
   "source": [
    "master_db['date'] = master_db['date'].add(master_db['time']) # combine features into one date/time feature\n",
    "master_db = master_db.drop(['time'], axis=1)"
   ]
  },
  {
   "cell_type": "markdown",
   "metadata": {
    "nbpresent": {
     "id": "749202c7-46f2-414f-bff4-018711e35397"
    }
   },
   "source": [
    "#### e) Sort dataframe by date"
   ]
  },
  {
   "cell_type": "code",
   "execution_count": 10,
   "metadata": {
    "collapsed": true
   },
   "outputs": [],
   "source": [
    "master_db = master_db.sort_values(by='date')\n",
    "master_db = master_db.reset_index(drop=True)"
   ]
  },
  {
   "cell_type": "markdown",
   "metadata": {},
   "source": [
    "#### f) Combine \"topic\" and \"text\" features\n",
    "\n",
    "(This could take a minute)\n",
    "\n",
    "To create one unified chunk of text for each post without sacrificing data, I am going to make a new feature in the dataframe that treats the \"topic\" of a post as the first sentence of a post. From my experience of the significance of topic lines in posts of this forum, this seems like a reasonable assumption."
   ]
  },
  {
   "cell_type": "code",
   "execution_count": 11,
   "metadata": {
    "collapsed": true
   },
   "outputs": [],
   "source": [
    "master_db = utils.combine_text_cols(master_db)"
   ]
  },
  {
   "cell_type": "markdown",
   "metadata": {},
   "source": [
    "#### g) Another row drop for \"soft duplicates\" (read blurb above in section 2a. for more info)"
   ]
  },
  {
   "cell_type": "code",
   "execution_count": 12,
   "metadata": {},
   "outputs": [
    {
     "name": "stdout",
     "output_type": "stream",
     "text": [
      "You dropped 16 duplicate rows.\n"
     ]
    }
   ],
   "source": [
    "before_size = master_db.shape[0]\n",
    "master_db = master_db.drop_duplicates(subset=[\"user\", \"all_text\"])\n",
    "after_size = master_db.shape[0]\n",
    "\n",
    "print(\"You dropped {} duplicate rows.\".format(before_size - after_size))"
   ]
  },
  {
   "cell_type": "markdown",
   "metadata": {
    "nbpresent": {
     "id": "05b4bb39-02c7-4470-9c33-d3d0bcfed1f8"
    }
   },
   "source": [
    "#### h) Rearrange columns for better viewing"
   ]
  },
  {
   "cell_type": "code",
   "execution_count": 13,
   "metadata": {
    "collapsed": true,
    "nbpresent": {
     "id": "b3b7e384-314c-4216-8a39-8ae049f2bf9f"
    }
   },
   "outputs": [],
   "source": [
    "old_cols = master_db.columns.tolist()\n",
    "new_cols = ['date', 'user', 'all_text', 'topic', 'text', 'num_replies', 'time_last_reply']\n",
    "\n",
    "if set(old_cols) == set(new_cols):\n",
    "    master_db = master_db[new_cols]\n"
   ]
  },
  {
   "cell_type": "markdown",
   "metadata": {
    "nbpresent": {
     "id": "d009243d-f116-4995-a702-ba23ad90b5b6"
    }
   },
   "source": [
    "### What the data looked like BEFORE pre-processing:"
   ]
  },
  {
   "cell_type": "code",
   "execution_count": 14,
   "metadata": {
    "nbpresent": {
     "id": "498e4844-73db-4f79-ab13-ae6d9817d95e"
    }
   },
   "outputs": [
    {
     "data": {
      "text/html": [
       "<div>\n",
       "<style>\n",
       "    .dataframe thead tr:only-child th {\n",
       "        text-align: right;\n",
       "    }\n",
       "\n",
       "    .dataframe thead th {\n",
       "        text-align: left;\n",
       "    }\n",
       "\n",
       "    .dataframe tbody tr th {\n",
       "        vertical-align: top;\n",
       "    }\n",
       "</style>\n",
       "<table border=\"1\" class=\"dataframe\">\n",
       "  <thead>\n",
       "    <tr style=\"text-align: right;\">\n",
       "      <th></th>\n",
       "      <th>date</th>\n",
       "      <th>num_replies</th>\n",
       "      <th>text</th>\n",
       "      <th>time</th>\n",
       "      <th>time_last_reply</th>\n",
       "      <th>topic</th>\n",
       "      <th>user</th>\n",
       "    </tr>\n",
       "  </thead>\n",
       "  <tbody>\n",
       "    <tr>\n",
       "      <th>0</th>\n",
       "      <td>5/23/16</td>\n",
       "      <td>1</td>\n",
       "      <td>Welcome to the General Discussion forum! We en...</td>\n",
       "      <td>21:32</td>\n",
       "      <td>May 23, 2016</td>\n",
       "      <td>Welcome to General Discussion - Please Read!</td>\n",
       "      <td>Lylirra</td>\n",
       "    </tr>\n",
       "    <tr>\n",
       "      <th>1</th>\n",
       "      <td>5/23/16</td>\n",
       "      <td>0</td>\n",
       "      <td>To help us get the most of out of your feedbac...</td>\n",
       "      <td>21:36</td>\n",
       "      <td>May 23, 2016</td>\n",
       "      <td>Bug Report and Technical Support Forums</td>\n",
       "      <td>Lylirra</td>\n",
       "    </tr>\n",
       "    <tr>\n",
       "      <th>2</th>\n",
       "      <td>11/16/17</td>\n",
       "      <td>817</td>\n",
       "      <td>Hi everyone, We've seen a heavy influx of conv...</td>\n",
       "      <td>22:34</td>\n",
       "      <td>5m</td>\n",
       "      <td>[Feedback Thread] Mercy Updates - Nov 16, 2017</td>\n",
       "      <td>Tom Powers</td>\n",
       "    </tr>\n",
       "    <tr>\n",
       "      <th>3</th>\n",
       "      <td>11/18/17</td>\n",
       "      <td>22</td>\n",
       "      <td>Why 3 days? Wouldn't 1 day be enough?</td>\n",
       "      <td>04:20</td>\n",
       "      <td>1m</td>\n",
       "      <td>My issue with the XQC ban</td>\n",
       "      <td>Aldwyn</td>\n",
       "    </tr>\n",
       "    <tr>\n",
       "      <th>4</th>\n",
       "      <td>11/18/17</td>\n",
       "      <td>25</td>\n",
       "      <td>You should not leave voice chat just cause 1 g...</td>\n",
       "      <td>03:04</td>\n",
       "      <td>1m</td>\n",
       "      <td>I will report if you leave voice chat</td>\n",
       "      <td>Budda?</td>\n",
       "    </tr>\n",
       "  </tbody>\n",
       "</table>\n",
       "</div>"
      ],
      "text/plain": [
       "       date  num_replies                                               text  \\\n",
       "0   5/23/16            1  Welcome to the General Discussion forum! We en...   \n",
       "1   5/23/16            0  To help us get the most of out of your feedbac...   \n",
       "2  11/16/17          817  Hi everyone, We've seen a heavy influx of conv...   \n",
       "3  11/18/17           22              Why 3 days? Wouldn't 1 day be enough?   \n",
       "4  11/18/17           25  You should not leave voice chat just cause 1 g...   \n",
       "\n",
       "    time time_last_reply                                           topic  \\\n",
       "0  21:32    May 23, 2016    Welcome to General Discussion - Please Read!   \n",
       "1  21:36    May 23, 2016         Bug Report and Technical Support Forums   \n",
       "2  22:34              5m  [Feedback Thread] Mercy Updates - Nov 16, 2017   \n",
       "3  04:20              1m                       My issue with the XQC ban   \n",
       "4  03:04              1m           I will report if you leave voice chat   \n",
       "\n",
       "         user  \n",
       "0     Lylirra  \n",
       "1     Lylirra  \n",
       "2  Tom Powers  \n",
       "3      Aldwyn  \n",
       "4      Budda?  "
      ]
     },
     "execution_count": 14,
     "metadata": {},
     "output_type": "execute_result"
    }
   ],
   "source": [
    "before_preprocess"
   ]
  },
  {
   "cell_type": "markdown",
   "metadata": {
    "nbpresent": {
     "id": "5f73781e-5bee-4683-914e-c66b46022b63"
    }
   },
   "source": [
    "### What the data looks like AFTER pre-processing:"
   ]
  },
  {
   "cell_type": "code",
   "execution_count": 15,
   "metadata": {
    "nbpresent": {
     "id": "6f8b1009-5e4e-4e1d-ac3b-c2521740b33a"
    }
   },
   "outputs": [
    {
     "data": {
      "text/html": [
       "<div>\n",
       "<style>\n",
       "    .dataframe thead tr:only-child th {\n",
       "        text-align: right;\n",
       "    }\n",
       "\n",
       "    .dataframe thead th {\n",
       "        text-align: left;\n",
       "    }\n",
       "\n",
       "    .dataframe tbody tr th {\n",
       "        vertical-align: top;\n",
       "    }\n",
       "</style>\n",
       "<table border=\"1\" class=\"dataframe\">\n",
       "  <thead>\n",
       "    <tr style=\"text-align: right;\">\n",
       "      <th></th>\n",
       "      <th>date</th>\n",
       "      <th>user</th>\n",
       "      <th>all_text</th>\n",
       "      <th>topic</th>\n",
       "      <th>text</th>\n",
       "      <th>num_replies</th>\n",
       "      <th>time_last_reply</th>\n",
       "    </tr>\n",
       "  </thead>\n",
       "  <tbody>\n",
       "    <tr>\n",
       "      <th>0</th>\n",
       "      <td>2016-05-23 23:34:00</td>\n",
       "      <td>Ralavik</td>\n",
       "      <td>Could this be... A new topic?</td>\n",
       "      <td>Could this be...</td>\n",
       "      <td>A new topic?</td>\n",
       "      <td>1</td>\n",
       "      <td>Jun 19, 2016</td>\n",
       "    </tr>\n",
       "    <tr>\n",
       "      <th>1</th>\n",
       "      <td>2016-05-23 23:37:00</td>\n",
       "      <td>umadbro</td>\n",
       "      <td>Who else dropped Battleborn like a brick. I'm ...</td>\n",
       "      <td>Who else dropped Battleborn like a brick</td>\n",
       "      <td>I'm curious what kind of exodus Battleborn wil...</td>\n",
       "      <td>48</td>\n",
       "      <td>Sep 10, 2016</td>\n",
       "    </tr>\n",
       "    <tr>\n",
       "      <th>2</th>\n",
       "      <td>2016-05-23 23:38:00</td>\n",
       "      <td>Bammer</td>\n",
       "      <td>Looking for skilled players. Want to find a de...</td>\n",
       "      <td>Looking for skilled players</td>\n",
       "      <td>Want to find a decent team to hang out and put...</td>\n",
       "      <td>1</td>\n",
       "      <td>May 27, 2016</td>\n",
       "    </tr>\n",
       "    <tr>\n",
       "      <th>3</th>\n",
       "      <td>2016-05-23 23:40:00</td>\n",
       "      <td>Omni</td>\n",
       "      <td>Game is live... Best Monday of the year</td>\n",
       "      <td>Game is live...</td>\n",
       "      <td>Best Monday of the year</td>\n",
       "      <td>4</td>\n",
       "      <td>Aug 15, 2016</td>\n",
       "    </tr>\n",
       "    <tr>\n",
       "      <th>4</th>\n",
       "      <td>2016-05-23 23:41:00</td>\n",
       "      <td>SandyCheeks</td>\n",
       "      <td>Free Battletag Change? Apparently all of us we...</td>\n",
       "      <td>Free Battletag Change?</td>\n",
       "      <td>Apparently all of us were supposed to receive ...</td>\n",
       "      <td>3</td>\n",
       "      <td>Dec 11</td>\n",
       "    </tr>\n",
       "  </tbody>\n",
       "</table>\n",
       "</div>"
      ],
      "text/plain": [
       "                 date         user  \\\n",
       "0 2016-05-23 23:34:00      Ralavik   \n",
       "1 2016-05-23 23:37:00      umadbro   \n",
       "2 2016-05-23 23:38:00       Bammer   \n",
       "3 2016-05-23 23:40:00         Omni   \n",
       "4 2016-05-23 23:41:00  SandyCheeks   \n",
       "\n",
       "                                            all_text  \\\n",
       "0                      Could this be... A new topic?   \n",
       "1  Who else dropped Battleborn like a brick. I'm ...   \n",
       "2  Looking for skilled players. Want to find a de...   \n",
       "3            Game is live... Best Monday of the year   \n",
       "4  Free Battletag Change? Apparently all of us we...   \n",
       "\n",
       "                                      topic  \\\n",
       "0                          Could this be...   \n",
       "1  Who else dropped Battleborn like a brick   \n",
       "2               Looking for skilled players   \n",
       "3                           Game is live...   \n",
       "4                    Free Battletag Change?   \n",
       "\n",
       "                                                text  num_replies  \\\n",
       "0                                       A new topic?            1   \n",
       "1  I'm curious what kind of exodus Battleborn wil...           48   \n",
       "2  Want to find a decent team to hang out and put...            1   \n",
       "3                            Best Monday of the year            4   \n",
       "4  Apparently all of us were supposed to receive ...            3   \n",
       "\n",
       "  time_last_reply  \n",
       "0    Jun 19, 2016  \n",
       "1    Sep 10, 2016  \n",
       "2    May 27, 2016  \n",
       "3    Aug 15, 2016  \n",
       "4          Dec 11  "
      ]
     },
     "execution_count": 15,
     "metadata": {},
     "output_type": "execute_result"
    }
   ],
   "source": [
    "master_db.head()"
   ]
  },
  {
   "cell_type": "markdown",
   "metadata": {},
   "source": [
    "**Note on final features:** Some features (i.e. \"num_replies\" and \"time_last_reply\") will not be used in subsequent analysis and modeling. However, these features are included because they may be useful for future work."
   ]
  },
  {
   "cell_type": "markdown",
   "metadata": {
    "nbpresent": {
     "id": "7be7ce35-ed30-4cb6-9553-8c41535b7817"
    }
   },
   "source": [
    "***"
   ]
  },
  {
   "cell_type": "markdown",
   "metadata": {},
   "source": [
    "## !! UNDER CONSTRUCTION !!\n",
    "\n",
    "** [Ideas for more analysis] **\n",
    "\n",
    "* some visual analysis...\n",
    "    * histogram of number of words per post\n",
    "    * histogram of number of posts per user [DONE]"
   ]
  },
  {
   "cell_type": "markdown",
   "metadata": {
    "nbpresent": {
     "id": "1fb7055f-f43f-4597-a67c-154f7bed2930"
    }
   },
   "source": [
    "<div align=\"right\">\n",
    "    [back to top](#toc)\n",
    "</div>\n",
    "\n",
    "\n",
    "<a id='section3'></a>\n",
    "\n",
    "## 3) Exploratory Data Analysis on whole dataset"
   ]
  },
  {
   "cell_type": "code",
   "execution_count": 16,
   "metadata": {
    "nbpresent": {
     "id": "665a4b84-de1f-44da-9c7d-dad362351850"
    }
   },
   "outputs": [
    {
     "name": "stdout",
     "output_type": "stream",
     "text": [
      "Size of dataset = 638.55 MB\n",
      "Number of forum posts = 426047\n",
      "Number of posts dropped due to NaN or duplicate: 16\n",
      "Feature names: ['date', 'user', 'all_text', 'topic', 'text', 'num_replies', 'time_last_reply']\n",
      "Most replies a post received: 8749\n",
      "Average number of replies per post: 9.97\n",
      "Number of unique users: 85308\n",
      "Number of users with over 50 posts: 1364\n",
      "Average number of posts per user: 4.99\n",
      "Oldest Post in Dataset: 2016-05-23 23:34:00\n",
      "Newest Post in Dataset: 2017-11-18 04:53:00\n"
     ]
    }
   ],
   "source": [
    "total_posts = master_db.shape[0]\n",
    "total_users = len(set(master_db['user']))\n",
    "avg_post = total_posts/total_users\n",
    "#freqdist = utils.count_tokens(master_db[\"all_text\"].tolist())\n",
    "print(\"Size of dataset = {0:.2f} MB\".format(sys.getsizeof(master_db)/1000000))\n",
    "print(\"Number of forum posts = {}\".format(total_posts))\n",
    "print(\"Number of posts dropped due to NaN or duplicate: {}\".format(before_size-master_db.shape[0]))\n",
    "print(\"Feature names: {}\".format(list(master_db)))\n",
    "print(\"Most replies a post received: {}\".format(max(master_db['num_replies'])))\n",
    "print(\"Average number of replies per post: {0:.2f}\".format(np.mean(master_db['num_replies'])))\n",
    "print(\"Number of unique users: {}\".format(len(set(master_db['user']))))\n",
    "print(\"Number of users with over 50 posts: {}\".format(len(utils.users_with_n_posts(master_db, 50))))\n",
    "print(\"Average number of posts per user: {0:.2f}\".format(avg_post))\n",
    "print(\"Oldest Post in Dataset: {}\".format(master_db['date'].tolist()[0]))\n",
    "print(\"Newest Post in Dataset: {}\".format(master_db['date'].tolist()[-1]))\n",
    "#print(\"Some of the most common words/tokens in the dataset:\")\n",
    "#freqdist.most_common(50)"
   ]
  },
  {
   "cell_type": "code",
   "execution_count": 33,
   "metadata": {},
   "outputs": [
    {
     "data": {
      "image/png": "[encoded data removed]",
      "text/plain": [
       "<matplotlib.figure.Figure at 0x1a2f4574a8>"
      ]
     },
     "metadata": {},
     "output_type": "display_data"
    }
   ],
   "source": [
    "utils.plot_user_posts(master_db)"
   ]
  },
  {
   "cell_type": "markdown",
   "metadata": {},
   "source": [
    "Note how the scale changes on the y axis. So, we can see that posts are HEAVILY skewed toward users that have made very few posts. Further, this dataset does not include any users that made 0 posts of their own, but may have written many replies to posts. Intuitively, and as the EDA above shows, there are likely many such users."
   ]
  },
  {
   "cell_type": "markdown",
   "metadata": {
    "nbpresent": {
     "id": "70c1eea4-c26b-4ed0-8568-824e58717255"
    }
   },
   "source": [
    "**Note on quantity of data:** This dataset does not look at the text in replies to forum post, it only looks at the forum post text itself. However because we see an average of about 10 replies per post, if we assume that the replies to a post have about as much text each as the post itself (actually seems possible for this forum) then gathering this data would increase our dataset by an order of magnitude. Something to keep in mind if \"needing more data\" seems like a problem down the line."
   ]
  },
  {
   "cell_type": "markdown",
   "metadata": {
    "nbpresent": {
     "id": "4e79ac1b-d044-4224-a412-cf6a4bd6ad12"
    }
   },
   "source": [
    "***"
   ]
  },
  {
   "cell_type": "markdown",
   "metadata": {
    "nbpresent": {
     "id": "37683bb9-dbc2-4a2e-a1d5-0a8c2c5860ba"
    }
   },
   "source": [
    "<div align=\"right\">\n",
    "    [back to top](#toc)\n",
    "</div>\n",
    "\n",
    "<a id=\"section4\"></a>\n",
    "\n",
    "## 4) Creating language models by month\n",
    "\n",
    "Because dates range from 2016-05-23 to 2017-11-18 we will be able to make 17 \"per month slices\" starting with June 2016 and ending with October 2017.\n",
    "\n",
    "Let's create separate dataframes for each FULL month of posts. This includes the timespan of 06/2016 to 10/2017. A total of 17 months. Just short of a year and a half! Compared to the RateBeer/BeerReview datasets (around 10 years) this will be a very small time frame. However the density of posts in this short time is very high so we're hopeful that something may come of this :)"
   ]
  },
  {
   "cell_type": "markdown",
   "metadata": {},
   "source": [
    "#### a) Creating monthly slices from the dataset"
   ]
  },
  {
   "cell_type": "markdown",
   "metadata": {},
   "source": [
    "First get all months with posts and create labels to make variable naming easier later on..."
   ]
  },
  {
   "cell_type": "code",
   "execution_count": 27,
   "metadata": {},
   "outputs": [
    {
     "data": {
      "text/plain": [
       "defaultdict(<function utils.get_month_labels.<locals>.<lambda>>,\n",
       "            {2016: ['05_2016',\n",
       "              '06_2016',\n",
       "              '07_2016',\n",
       "              '08_2016',\n",
       "              '09_2016',\n",
       "              '10_2016',\n",
       "              '11_2016',\n",
       "              '12_2016'],\n",
       "             2017: ['01_2017',\n",
       "              '02_2017',\n",
       "              '03_2017',\n",
       "              '04_2017',\n",
       "              '05_2017',\n",
       "              '06_2017',\n",
       "              '07_2017',\n",
       "              '08_2017',\n",
       "              '09_2017',\n",
       "              '10_2017',\n",
       "              '11_2017']})"
      ]
     },
     "execution_count": 27,
     "metadata": {},
     "output_type": "execute_result"
    }
   ],
   "source": [
    "month_labels = utils.get_month_labels(master_db)\n",
    "month_labels"
   ]
  },
  {
   "cell_type": "markdown",
   "metadata": {},
   "source": [
    "Now let's use our list of labels to slice our dataset..."
   ]
  },
  {
   "cell_type": "code",
   "execution_count": 28,
   "metadata": {
    "collapsed": true
   },
   "outputs": [],
   "source": [
    "df_by_month = utils.make_all_months(master_db, month_labels)"
   ]
  },
  {
   "cell_type": "markdown",
   "metadata": {},
   "source": [
    "With all the months separated, let's see how many posts are in each month:"
   ]
  },
  {
   "cell_type": "code",
   "execution_count": 29,
   "metadata": {},
   "outputs": [
    {
     "name": "stdout",
     "output_type": "stream",
     "text": [
      "Average number of posts each month: 22423.53\n",
      "Fewest posts: df_05_2016 with 4146 posts\n",
      "Most posts: df_08_2017 with 34964 posts\n",
      "\n",
      "\n",
      "\u001b[1;31mWARNING: \u001b[0mdf_05_2016 only has 4146 posts!\n"
     ]
    }
   ],
   "source": [
    "utils.eda_on_months(df_by_month)"
   ]
  },
  {
   "cell_type": "markdown",
   "metadata": {},
   "source": [
    "We see that one month has an incredibly small amount of posts but this is to be expected because 05/2016 is the first month of the forum's existence and the forum did not start on 5/1/2016. Although 11/2017 has about as many posts as any other month in our dataset, we will also remove this month because it does not include posts for the full month (scraped on 11/18/2017)."
   ]
  },
  {
   "cell_type": "code",
   "execution_count": 30,
   "metadata": {
    "collapsed": true
   },
   "outputs": [
    {
     "data": {
      "text/html": [
       "<div>\n",
       "<style>\n",
       "    .dataframe thead tr:only-child th {\n",
       "        text-align: right;\n",
       "    }\n",
       "\n",
       "    .dataframe thead th {\n",
       "        text-align: left;\n",
       "    }\n",
       "\n",
       "    .dataframe tbody tr th {\n",
       "        vertical-align: top;\n",
       "    }\n",
       "</style>\n",
       "<table border=\"1\" class=\"dataframe\">\n",
       "  <thead>\n",
       "    <tr style=\"text-align: right;\">\n",
       "      <th></th>\n",
       "      <th>date</th>\n",
       "      <th>user</th>\n",
       "      <th>all_text</th>\n",
       "      <th>topic</th>\n",
       "      <th>text</th>\n",
       "      <th>num_replies</th>\n",
       "      <th>time_last_reply</th>\n",
       "    </tr>\n",
       "  </thead>\n",
       "  <tbody>\n",
       "    <tr>\n",
       "      <th>410701</th>\n",
       "      <td>2017-11-01 00:00:00</td>\n",
       "      <td>Lanre</td>\n",
       "      <td>Ana mains private party. Welcome fellow Anas, ...</td>\n",
       "      <td>Ana mains private party</td>\n",
       "      <td>Welcome fellow Anas, grab your rifles and get ...</td>\n",
       "      <td>78</td>\n",
       "      <td>Nov 1</td>\n",
       "    </tr>\n",
       "    <tr>\n",
       "      <th>410702</th>\n",
       "      <td>2017-11-01 00:00:00</td>\n",
       "      <td>EvilOfMan</td>\n",
       "      <td>I've predicted almost every nerf and buff in t...</td>\n",
       "      <td>I've predicted almost every nerf and buff in t...</td>\n",
       "      <td>P.S Steam Punk Tank Girl Zarya Skin</td>\n",
       "      <td>8</td>\n",
       "      <td>Nov 1</td>\n",
       "    </tr>\n",
       "    <tr>\n",
       "      <th>410703</th>\n",
       "      <td>2017-11-01 00:00:00</td>\n",
       "      <td>StormiNormin</td>\n",
       "      <td>Give the gift of overwatch. Will there be a re...</td>\n",
       "      <td>Give the gift of overwatch</td>\n",
       "      <td>Will there be a reduced price for gifting over...</td>\n",
       "      <td>1</td>\n",
       "      <td>Nov 1</td>\n",
       "    </tr>\n",
       "    <tr>\n",
       "      <th>410704</th>\n",
       "      <td>2017-11-01 00:01:00</td>\n",
       "      <td>PoisonToad</td>\n",
       "      <td>WINSTON PANDA SKIN FOR CHINESE NEW YEAR!!! Jus...</td>\n",
       "      <td>WINSTON PANDA SKIN FOR CHINESE NEW YEAR!!!</td>\n",
       "      <td>Just do it plz. Pandas can't jump but tbh neit...</td>\n",
       "      <td>22</td>\n",
       "      <td>Nov 1</td>\n",
       "    </tr>\n",
       "    <tr>\n",
       "      <th>410705</th>\n",
       "      <td>2017-11-01 00:02:00</td>\n",
       "      <td>Agent797sboy</td>\n",
       "      <td>BUILD-A-WATCH WORKSHOP!!! The Ultimate Bear Sh...</td>\n",
       "      <td>BUILD-A-WATCH WORKSHOP!!!</td>\n",
       "      <td>The Ultimate Bear Shop featuring all of your f...</td>\n",
       "      <td>9</td>\n",
       "      <td>Nov 1</td>\n",
       "    </tr>\n",
       "    <tr>\n",
       "      <th>410706</th>\n",
       "      <td>2017-11-01 00:03:00</td>\n",
       "      <td>ViiruzZ</td>\n",
       "      <td>New idea for the Icons for Career Profile! Hi ...</td>\n",
       "      <td>New idea for the Icons for Career Profile!</td>\n",
       "      <td>Hi Overwatch players, I have an idea to career...</td>\n",
       "      <td>1</td>\n",
       "      <td>Nov 3</td>\n",
       "    </tr>\n",
       "    <tr>\n",
       "      <th>410707</th>\n",
       "      <td>2017-11-01 00:04:00</td>\n",
       "      <td>Suff</td>\n",
       "      <td>Sombra Tips? How do I effectively use my hack?</td>\n",
       "      <td>Sombra Tips?</td>\n",
       "      <td>How do I effectively use my hack?</td>\n",
       "      <td>8</td>\n",
       "      <td>Nov 1</td>\n",
       "    </tr>\n",
       "    <tr>\n",
       "      <th>410708</th>\n",
       "      <td>2017-11-01 00:05:00</td>\n",
       "      <td>Spikà</td>\n",
       "      <td>Remove Enemy Health Bars for Damage Numbers? I...</td>\n",
       "      <td>Remove Enemy Health Bars for Damage Numbers?</td>\n",
       "      <td>I have never enjoyed the idea of being able to...</td>\n",
       "      <td>11</td>\n",
       "      <td>Nov 1</td>\n",
       "    </tr>\n",
       "    <tr>\n",
       "      <th>410709</th>\n",
       "      <td>2017-11-01 00:08:00</td>\n",
       "      <td>QuirkyTurtle</td>\n",
       "      <td>Teamwork. makes the dream work, what happened ...</td>\n",
       "      <td>Teamwork</td>\n",
       "      <td>makes the dream work, what happened to people ...</td>\n",
       "      <td>3</td>\n",
       "      <td>Nov 1</td>\n",
       "    </tr>\n",
       "    <tr>\n",
       "      <th>410710</th>\n",
       "      <td>2017-11-01 00:09:00</td>\n",
       "      <td>Kmach</td>\n",
       "      <td>Mei primary fire needs help! Please just make ...</td>\n",
       "      <td>Mei primary fire needs help!</td>\n",
       "      <td>Please just make it a hit scan so I can freeze...</td>\n",
       "      <td>4</td>\n",
       "      <td>Nov 1</td>\n",
       "    </tr>\n",
       "    <tr>\n",
       "      <th>410711</th>\n",
       "      <td>2017-11-01 00:10:00</td>\n",
       "      <td>DreadedGhoul</td>\n",
       "      <td>Update? Anyone know what the update is?</td>\n",
       "      <td>Update?</td>\n",
       "      <td>Anyone know what the update is?</td>\n",
       "      <td>2</td>\n",
       "      <td>Nov 1</td>\n",
       "    </tr>\n",
       "    <tr>\n",
       "      <th>410712</th>\n",
       "      <td>2017-11-01 00:13:00</td>\n",
       "      <td>IceCube</td>\n",
       "      <td>No Spray, no portrait in Season 7? I just star...</td>\n",
       "      <td>No Spray, no portrait in Season 7?</td>\n",
       "      <td>I just started my placement matches and the we...</td>\n",
       "      <td>6</td>\n",
       "      <td>Nov 1</td>\n",
       "    </tr>\n",
       "    <tr>\n",
       "      <th>410713</th>\n",
       "      <td>2017-11-01 00:15:00</td>\n",
       "      <td>jbnaples</td>\n",
       "      <td>My first game of season 7 :( I joined a game t...</td>\n",
       "      <td>My first game of season 7 :(</td>\n",
       "      <td>I joined a game the SECOND the season started....</td>\n",
       "      <td>4</td>\n",
       "      <td>Nov 1</td>\n",
       "    </tr>\n",
       "    <tr>\n",
       "      <th>410714</th>\n",
       "      <td>2017-11-01 00:18:00</td>\n",
       "      <td>DillonX3</td>\n",
       "      <td>Please fix D.va. Blizzard please make her a ta...</td>\n",
       "      <td>Please fix D.va</td>\n",
       "      <td>Blizzard please make her a tank again, and not...</td>\n",
       "      <td>23</td>\n",
       "      <td>Nov 1</td>\n",
       "    </tr>\n",
       "    <tr>\n",
       "      <th>410715</th>\n",
       "      <td>2017-11-01 00:21:00</td>\n",
       "      <td>FrostCo</td>\n",
       "      <td>Season 7 Rewards? Is there no plan to add a sp...</td>\n",
       "      <td>Season 7 Rewards?</td>\n",
       "      <td>Is there no plan to add a spray or icon for se...</td>\n",
       "      <td>0</td>\n",
       "      <td>Nov 1</td>\n",
       "    </tr>\n",
       "    <tr>\n",
       "      <th>410716</th>\n",
       "      <td>2017-11-01 00:23:00</td>\n",
       "      <td>CptCog</td>\n",
       "      <td>Idea One million and 1 for Resurrect. TL;DR: M...</td>\n",
       "      <td>Idea One million and 1 for Resurrect</td>\n",
       "      <td>TL;DR: Make Mercy's Resurrect a Channeled Abil...</td>\n",
       "      <td>10</td>\n",
       "      <td>Nov 1</td>\n",
       "    </tr>\n",
       "    <tr>\n",
       "      <th>410717</th>\n",
       "      <td>2017-11-01 00:24:00</td>\n",
       "      <td>Camellias</td>\n",
       "      <td>Mercy's Ressurect. Hey, so I was looking throu...</td>\n",
       "      <td>Mercy's Ressurect</td>\n",
       "      <td>Hey, so I was looking through everything about...</td>\n",
       "      <td>0</td>\n",
       "      <td>Nov 1</td>\n",
       "    </tr>\n",
       "    <tr>\n",
       "      <th>410718</th>\n",
       "      <td>2017-11-01 00:25:00</td>\n",
       "      <td>Bloggerman</td>\n",
       "      <td>A small question. What's Mei's role in Overwat...</td>\n",
       "      <td>A small question. What's Mei's role in Overwatch?</td>\n",
       "      <td>Anti-flanker? Anti-mobility? Tank? Tank buste...</td>\n",
       "      <td>20</td>\n",
       "      <td>Nov 1</td>\n",
       "    </tr>\n",
       "    <tr>\n",
       "      <th>410719</th>\n",
       "      <td>2017-11-01 00:25:00</td>\n",
       "      <td>Teegy</td>\n",
       "      <td>Doomfist, an idea for more combos. My hope is ...</td>\n",
       "      <td>Doomfist, an idea for more combos</td>\n",
       "      <td>My hope is to give Doomfist players more combo...</td>\n",
       "      <td>5</td>\n",
       "      <td>2d</td>\n",
       "    </tr>\n",
       "    <tr>\n",
       "      <th>410720</th>\n",
       "      <td>2017-11-01 00:27:00</td>\n",
       "      <td>Jetfire</td>\n",
       "      <td>Suggestion for upcoming Mercy balance changes....</td>\n",
       "      <td>Suggestion for upcoming Mercy balance changes</td>\n",
       "      <td>Hello all Mercy's been in a tough spot recentl...</td>\n",
       "      <td>0</td>\n",
       "      <td>Nov 1</td>\n",
       "    </tr>\n",
       "    <tr>\n",
       "      <th>410721</th>\n",
       "      <td>2017-11-01 00:29:00</td>\n",
       "      <td>NERFTHIS</td>\n",
       "      <td>Ask Amazon Alexa what her favorite Overwatch C...</td>\n",
       "      <td>Ask Amazon Alexa what her favorite Overwatch C...</td>\n",
       "      <td>0_o Edit: She says; Its all about Zenyatta.....</td>\n",
       "      <td>26</td>\n",
       "      <td>Nov 1</td>\n",
       "    </tr>\n",
       "    <tr>\n",
       "      <th>410722</th>\n",
       "      <td>2017-11-01 00:33:00</td>\n",
       "      <td>getzel</td>\n",
       "      <td>My thoughts on weak characters. Here are some ...</td>\n",
       "      <td>My thoughts on weak characters</td>\n",
       "      <td>Here are some characters that are seldom taken...</td>\n",
       "      <td>1</td>\n",
       "      <td>Nov 1</td>\n",
       "    </tr>\n",
       "    <tr>\n",
       "      <th>410723</th>\n",
       "      <td>2017-11-01 00:33:00</td>\n",
       "      <td>QuirkyOrc</td>\n",
       "      <td>Doomfist rundown (balance post) This post is g...</td>\n",
       "      <td>Doomfist rundown (balance post)</td>\n",
       "      <td>This post is going to rundown his movelist and...</td>\n",
       "      <td>0</td>\n",
       "      <td>Nov 1</td>\n",
       "    </tr>\n",
       "    <tr>\n",
       "      <th>410724</th>\n",
       "      <td>2017-11-01 00:34:00</td>\n",
       "      <td>Ryzo</td>\n",
       "      <td>Current feelings regarding Doomfist. Hey, seei...</td>\n",
       "      <td>Current feelings regarding Doomfist</td>\n",
       "      <td>Hey, seeing the large thread earlier I wanted ...</td>\n",
       "      <td>1</td>\n",
       "      <td>Nov 1</td>\n",
       "    </tr>\n",
       "    <tr>\n",
       "      <th>410725</th>\n",
       "      <td>2017-11-01 00:35:00</td>\n",
       "      <td>Amaterasu</td>\n",
       "      <td>Mercy's res idea. What if Mercy's res outside ...</td>\n",
       "      <td>Mercy's res idea</td>\n",
       "      <td>What if Mercy's res outside of Valkyrie put pe...</td>\n",
       "      <td>3</td>\n",
       "      <td>Nov 1</td>\n",
       "    </tr>\n",
       "    <tr>\n",
       "      <th>410726</th>\n",
       "      <td>2017-11-01 00:36:00</td>\n",
       "      <td>Zenith</td>\n",
       "      <td>Question to Widow players. What's the kind of ...</td>\n",
       "      <td>Question to Widow players</td>\n",
       "      <td>What's the kind of stuff that makes you annoye...</td>\n",
       "      <td>1</td>\n",
       "      <td>Nov 1</td>\n",
       "    </tr>\n",
       "    <tr>\n",
       "      <th>410727</th>\n",
       "      <td>2017-11-01 00:41:00</td>\n",
       "      <td>Honchkrow</td>\n",
       "      <td>Doomfist Tips Please. I consider myself a Doom...</td>\n",
       "      <td>Doomfist Tips Please</td>\n",
       "      <td>I consider myself a Doomfist enthusiast (I'm n...</td>\n",
       "      <td>4</td>\n",
       "      <td>Nov 1</td>\n",
       "    </tr>\n",
       "    <tr>\n",
       "      <th>410728</th>\n",
       "      <td>2017-11-01 00:44:00</td>\n",
       "      <td>MasatoshiOno</td>\n",
       "      <td>does anyone think reworked Bastion is worse th...</td>\n",
       "      <td>does anyone think reworked Bastion is worse th...</td>\n",
       "      <td>I don't see the point of keep balancing Mercy,...</td>\n",
       "      <td>14</td>\n",
       "      <td>Nov 1</td>\n",
       "    </tr>\n",
       "    <tr>\n",
       "      <th>410729</th>\n",
       "      <td>2017-11-01 00:46:00</td>\n",
       "      <td>?iamat</td>\n",
       "      <td>Long Queue Times For Every Mode. Is there a sp...</td>\n",
       "      <td>Long Queue Times For Every Mode</td>\n",
       "      <td>Is there a specific reason behind this at the ...</td>\n",
       "      <td>3</td>\n",
       "      <td>Nov 1</td>\n",
       "    </tr>\n",
       "    <tr>\n",
       "      <th>410730</th>\n",
       "      <td>2017-11-01 00:46:00</td>\n",
       "      <td>DSPMankey</td>\n",
       "      <td>There are other games. I just tried to do my p...</td>\n",
       "      <td>There are other games</td>\n",
       "      <td>I just tried to do my placements for the new s...</td>\n",
       "      <td>4</td>\n",
       "      <td>Nov 1</td>\n",
       "    </tr>\n",
       "    <tr>\n",
       "      <th>...</th>\n",
       "      <td>...</td>\n",
       "      <td>...</td>\n",
       "      <td>...</td>\n",
       "      <td>...</td>\n",
       "      <td>...</td>\n",
       "      <td>...</td>\n",
       "      <td>...</td>\n",
       "    </tr>\n",
       "    <tr>\n",
       "      <th>426033</th>\n",
       "      <td>2017-11-18 04:12:00</td>\n",
       "      <td>FurryTrash</td>\n",
       "      <td>Moira is what Symmetra should've been. Someone...</td>\n",
       "      <td>Moira is what Symmetra should've been</td>\n",
       "      <td>Someone who could pester close range enemies w...</td>\n",
       "      <td>4</td>\n",
       "      <td>12m</td>\n",
       "    </tr>\n",
       "    <tr>\n",
       "      <th>426034</th>\n",
       "      <td>2017-11-18 04:14:00</td>\n",
       "      <td>go123452</td>\n",
       "      <td>Auriel VS Mercy. Interesting tidbit of knowled...</td>\n",
       "      <td>Auriel VS Mercy</td>\n",
       "      <td>Interesting tidbit of knowledge. Auriel, our r...</td>\n",
       "      <td>4</td>\n",
       "      <td>18m</td>\n",
       "    </tr>\n",
       "    <tr>\n",
       "      <th>426035</th>\n",
       "      <td>2017-11-18 04:15:00</td>\n",
       "      <td>DarkKnight</td>\n",
       "      <td>Stop it with the complaining, Jeez it's annoyi...</td>\n",
       "      <td>Stop it with the complaining, Jeez it's annoying</td>\n",
       "      <td>Do you know what I hate the most on the forums...</td>\n",
       "      <td>4</td>\n",
       "      <td>36m</td>\n",
       "    </tr>\n",
       "    <tr>\n",
       "      <th>426036</th>\n",
       "      <td>2017-11-18 04:15:00</td>\n",
       "      <td>Benzene</td>\n",
       "      <td>School girl DVA. I think it could be a nice sk...</td>\n",
       "      <td>School girl DVA</td>\n",
       "      <td>I think it could be a nice skin. Blizzard usua...</td>\n",
       "      <td>33</td>\n",
       "      <td>5m</td>\n",
       "    </tr>\n",
       "    <tr>\n",
       "      <th>426037</th>\n",
       "      <td>2017-11-18 04:18:00</td>\n",
       "      <td>TRICAD</td>\n",
       "      <td>Blizz stay quiet pls. Blizz, please to do not ...</td>\n",
       "      <td>Blizz stay quiet pls.</td>\n",
       "      <td>Blizz, please to do not take a stance on the r...</td>\n",
       "      <td>7</td>\n",
       "      <td>1m</td>\n",
       "    </tr>\n",
       "    <tr>\n",
       "      <th>426038</th>\n",
       "      <td>2017-11-18 04:19:00</td>\n",
       "      <td>J4CK</td>\n",
       "      <td>separate yourself from the rest of the communi...</td>\n",
       "      <td>separate yourself from the rest of the communi...</td>\n",
       "      <td>the thing i loved about pc is that every tom @...</td>\n",
       "      <td>0</td>\n",
       "      <td>35m</td>\n",
       "    </tr>\n",
       "    <tr>\n",
       "      <th>426039</th>\n",
       "      <td>2017-11-18 04:20:00</td>\n",
       "      <td>Aldwyn</td>\n",
       "      <td>My issue with the XQC ban. Why 3 days? Wouldn'...</td>\n",
       "      <td>My issue with the XQC ban</td>\n",
       "      <td>Why 3 days? Wouldn't 1 day be enough?</td>\n",
       "      <td>22</td>\n",
       "      <td>1m</td>\n",
       "    </tr>\n",
       "    <tr>\n",
       "      <th>426040</th>\n",
       "      <td>2017-11-18 04:20:00</td>\n",
       "      <td>KagamineLen</td>\n",
       "      <td>Future Hero Thought. So...we have lots of ethn...</td>\n",
       "      <td>Future Hero Thought</td>\n",
       "      <td>So...we have lots of ethnicities in Overwatch....</td>\n",
       "      <td>3</td>\n",
       "      <td>20m</td>\n",
       "    </tr>\n",
       "    <tr>\n",
       "      <th>426041</th>\n",
       "      <td>2017-11-18 04:22:00</td>\n",
       "      <td>Benzene</td>\n",
       "      <td>Mei and Bastion feel outdated. They feel like ...</td>\n",
       "      <td>Mei and Bastion feel outdated.</td>\n",
       "      <td>They feel like that old rug that you had to re...</td>\n",
       "      <td>3</td>\n",
       "      <td>20m</td>\n",
       "    </tr>\n",
       "    <tr>\n",
       "      <th>426042</th>\n",
       "      <td>2017-11-18 04:22:00</td>\n",
       "      <td>illmatic</td>\n",
       "      <td>There is far too much visual clutter in this g...</td>\n",
       "      <td>There is far too much visual clutter in this g...</td>\n",
       "      <td>The game is becoming more visually cluttered b...</td>\n",
       "      <td>1</td>\n",
       "      <td>32m</td>\n",
       "    </tr>\n",
       "    <tr>\n",
       "      <th>426043</th>\n",
       "      <td>2017-11-18 04:22:00</td>\n",
       "      <td>ReesePlayzz</td>\n",
       "      <td>CHRISTMAS SKIN FOR MOIRA. If Moira doesn't get...</td>\n",
       "      <td>CHRISTMAS SKIN FOR MOIRA</td>\n",
       "      <td>If Moira doesn't get a grinch skin who throws ...</td>\n",
       "      <td>1</td>\n",
       "      <td>31m</td>\n",
       "    </tr>\n",
       "    <tr>\n",
       "      <th>426044</th>\n",
       "      <td>2017-11-18 04:23:00</td>\n",
       "      <td>Swaggy</td>\n",
       "      <td>[xQc] \"He shouldn't have done that, the ban is...</td>\n",
       "      <td>[xQc] \"He shouldn't have done that, the ban is...</td>\n",
       "      <td>I think xQc's ban is not right. It is very eas...</td>\n",
       "      <td>6</td>\n",
       "      <td>1m</td>\n",
       "    </tr>\n",
       "    <tr>\n",
       "      <th>426045</th>\n",
       "      <td>2017-11-18 04:25:00</td>\n",
       "      <td>FurryTrash</td>\n",
       "      <td>new mercy is fine. The ability to just walk by...</td>\n",
       "      <td>new mercy is fine</td>\n",
       "      <td>The ability to just walk by and revive someone...</td>\n",
       "      <td>3</td>\n",
       "      <td>17m</td>\n",
       "    </tr>\n",
       "    <tr>\n",
       "      <th>426046</th>\n",
       "      <td>2017-11-18 04:28:00</td>\n",
       "      <td>ruatxnjr06</td>\n",
       "      <td>Moira, another stupid character from Blizzard....</td>\n",
       "      <td>Moira, another stupid character from Blizzard.</td>\n",
       "      <td>What the hell is up with that stupid new chara...</td>\n",
       "      <td>9</td>\n",
       "      <td>12m</td>\n",
       "    </tr>\n",
       "    <tr>\n",
       "      <th>426047</th>\n",
       "      <td>2017-11-18 04:31:00</td>\n",
       "      <td>Neon</td>\n",
       "      <td>2 Possible Chinese New Year Skins? Good Aftern...</td>\n",
       "      <td>2 Possible Chinese New Year Skins?</td>\n",
       "      <td>Good Afternoon fourms These are 2 skins that I...</td>\n",
       "      <td>0</td>\n",
       "      <td>23m</td>\n",
       "    </tr>\n",
       "    <tr>\n",
       "      <th>426048</th>\n",
       "      <td>2017-11-18 04:32:00</td>\n",
       "      <td>Holybreaker</td>\n",
       "      <td>Balancing support heros :D. STOP BALANCING THE...</td>\n",
       "      <td>Balancing support heros :D</td>\n",
       "      <td>STOP BALANCING THEM BASED OFF OF WHAT DPS MAIN...</td>\n",
       "      <td>3</td>\n",
       "      <td>10m</td>\n",
       "    </tr>\n",
       "    <tr>\n",
       "      <th>426049</th>\n",
       "      <td>2017-11-18 04:32:00</td>\n",
       "      <td>Stimpak</td>\n",
       "      <td>Expand Overwatch into other gamemodes. Honestl...</td>\n",
       "      <td>Expand Overwatch into other gamemodes.</td>\n",
       "      <td>Honestly, after awhile I'm burnt out of Overwa...</td>\n",
       "      <td>0</td>\n",
       "      <td>23m</td>\n",
       "    </tr>\n",
       "    <tr>\n",
       "      <th>426050</th>\n",
       "      <td>2017-11-18 04:33:00</td>\n",
       "      <td>abombnd</td>\n",
       "      <td>Horrid Server Errors. My ping just had a massi...</td>\n",
       "      <td>Horrid Server Errors</td>\n",
       "      <td>My ping just had a massive increase from 60ish...</td>\n",
       "      <td>2</td>\n",
       "      <td>17m</td>\n",
       "    </tr>\n",
       "    <tr>\n",
       "      <th>426051</th>\n",
       "      <td>2017-11-18 04:34:00</td>\n",
       "      <td>SunsetHippo</td>\n",
       "      <td>Question on Streaming. If, i were to stream, o...</td>\n",
       "      <td>Question on Streaming</td>\n",
       "      <td>If, i were to stream, on xbox mixer, would..an...</td>\n",
       "      <td>10</td>\n",
       "      <td>3m</td>\n",
       "    </tr>\n",
       "    <tr>\n",
       "      <th>426052</th>\n",
       "      <td>2017-11-18 04:35:00</td>\n",
       "      <td>Benzene</td>\n",
       "      <td>Hire me. I can fix this game. Genji: Reduce th...</td>\n",
       "      <td>Hire me. I can fix this game.</td>\n",
       "      <td>Genji: Reduce the forward range of the deflect...</td>\n",
       "      <td>7</td>\n",
       "      <td>13m</td>\n",
       "    </tr>\n",
       "    <tr>\n",
       "      <th>426053</th>\n",
       "      <td>2017-11-18 04:38:00</td>\n",
       "      <td>Gravity</td>\n",
       "      <td>Forum Rehaul. The forums, need to be redesigne...</td>\n",
       "      <td>Forum Rehaul</td>\n",
       "      <td>The forums, need to be redesigned in order to ...</td>\n",
       "      <td>3</td>\n",
       "      <td>8m</td>\n",
       "    </tr>\n",
       "    <tr>\n",
       "      <th>426054</th>\n",
       "      <td>2017-11-18 04:40:00</td>\n",
       "      <td>RvolverJesus</td>\n",
       "      <td>So xQc went and evaded his ban. Isn't that lik...</td>\n",
       "      <td>So xQc went and evaded his ban</td>\n",
       "      <td>Isn't that like, a KOS level of rulebreaking?</td>\n",
       "      <td>8</td>\n",
       "      <td>1m</td>\n",
       "    </tr>\n",
       "    <tr>\n",
       "      <th>426055</th>\n",
       "      <td>2017-11-18 04:42:00</td>\n",
       "      <td>Trixx</td>\n",
       "      <td>Reporting literally does nothing. Reported a m...</td>\n",
       "      <td>Reporting literally does nothing</td>\n",
       "      <td>Reported a million people for racial slurs in ...</td>\n",
       "      <td>2</td>\n",
       "      <td>6m</td>\n",
       "    </tr>\n",
       "    <tr>\n",
       "      <th>426056</th>\n",
       "      <td>2017-11-18 04:42:00</td>\n",
       "      <td>Bnetter</td>\n",
       "      <td>xQcs ban vs other bans. Would we have known x...</td>\n",
       "      <td>xQcs ban vs other bans</td>\n",
       "      <td>Would we have known xQc got banned if he wasn...</td>\n",
       "      <td>4</td>\n",
       "      <td>8m</td>\n",
       "    </tr>\n",
       "    <tr>\n",
       "      <th>426057</th>\n",
       "      <td>2017-11-18 04:46:00</td>\n",
       "      <td>Malware</td>\n",
       "      <td>Moira This, Genji that... Bikini Torb this, wi...</td>\n",
       "      <td>Moira This, Genji that...</td>\n",
       "      <td>Bikini Torb this, will you people ever learn! ...</td>\n",
       "      <td>0</td>\n",
       "      <td>8m</td>\n",
       "    </tr>\n",
       "    <tr>\n",
       "      <th>426058</th>\n",
       "      <td>2017-11-18 04:48:00</td>\n",
       "      <td>DrScaphandre</td>\n",
       "      <td>The Pro scene is a joke. Over the past two wee...</td>\n",
       "      <td>The Pro scene is a joke</td>\n",
       "      <td>Over the past two weeks, I have never seen pro...</td>\n",
       "      <td>5</td>\n",
       "      <td>2m</td>\n",
       "    </tr>\n",
       "    <tr>\n",
       "      <th>426059</th>\n",
       "      <td>2017-11-18 04:48:00</td>\n",
       "      <td>MiniArcham</td>\n",
       "      <td>Why Do We Have To Build Around One-Tricks? ESP...</td>\n",
       "      <td>Why Do We Have To Build Around One-Tricks?</td>\n",
       "      <td>ESPECIALLY, the off-meta ones, like Sym and To...</td>\n",
       "      <td>0</td>\n",
       "      <td>7m</td>\n",
       "    </tr>\n",
       "    <tr>\n",
       "      <th>426060</th>\n",
       "      <td>2017-11-18 04:52:00</td>\n",
       "      <td>goliathfasa</td>\n",
       "      <td>Thank you CASUALS for your services (and money...</td>\n",
       "      <td>Thank you CASUALS for your services (and money...</td>\n",
       "      <td>We needed you. The developers needed you. THE ...</td>\n",
       "      <td>0</td>\n",
       "      <td>2m</td>\n",
       "    </tr>\n",
       "    <tr>\n",
       "      <th>426061</th>\n",
       "      <td>2017-11-18 04:52:00</td>\n",
       "      <td>Morningstar</td>\n",
       "      <td>Doomfist rework idea. Probabbly one of DF's wo...</td>\n",
       "      <td>Doomfist rework idea.</td>\n",
       "      <td>Probabbly one of DF's worst downfall is that h...</td>\n",
       "      <td>0</td>\n",
       "      <td>2m</td>\n",
       "    </tr>\n",
       "    <tr>\n",
       "      <th>426062</th>\n",
       "      <td>2017-11-18 04:53:00</td>\n",
       "      <td>QuirkyTurtle</td>\n",
       "      <td>Moira feels amazing. ;3</td>\n",
       "      <td>Moira feels amazing</td>\n",
       "      <td>;3</td>\n",
       "      <td>0</td>\n",
       "      <td>1m</td>\n",
       "    </tr>\n",
       "  </tbody>\n",
       "</table>\n",
       "<p>15361 rows × 7 columns</p>\n",
       "</div>"
      ],
      "text/plain": [
       "                      date          user  \\\n",
       "410701 2017-11-01 00:00:00         Lanre   \n",
       "410702 2017-11-01 00:00:00     EvilOfMan   \n",
       "410703 2017-11-01 00:00:00  StormiNormin   \n",
       "410704 2017-11-01 00:01:00    PoisonToad   \n",
       "410705 2017-11-01 00:02:00  Agent797sboy   \n",
       "410706 2017-11-01 00:03:00       ViiruzZ   \n",
       "410707 2017-11-01 00:04:00          Suff   \n",
       "410708 2017-11-01 00:05:00         Spikà   \n",
       "410709 2017-11-01 00:08:00  QuirkyTurtle   \n",
       "410710 2017-11-01 00:09:00         Kmach   \n",
       "410711 2017-11-01 00:10:00  DreadedGhoul   \n",
       "410712 2017-11-01 00:13:00       IceCube   \n",
       "410713 2017-11-01 00:15:00      jbnaples   \n",
       "410714 2017-11-01 00:18:00      DillonX3   \n",
       "410715 2017-11-01 00:21:00       FrostCo   \n",
       "410716 2017-11-01 00:23:00        CptCog   \n",
       "410717 2017-11-01 00:24:00     Camellias   \n",
       "410718 2017-11-01 00:25:00    Bloggerman   \n",
       "410719 2017-11-01 00:25:00         Teegy   \n",
       "410720 2017-11-01 00:27:00       Jetfire   \n",
       "410721 2017-11-01 00:29:00      NERFTHIS   \n",
       "410722 2017-11-01 00:33:00        getzel   \n",
       "410723 2017-11-01 00:33:00     QuirkyOrc   \n",
       "410724 2017-11-01 00:34:00          Ryzo   \n",
       "410725 2017-11-01 00:35:00     Amaterasu   \n",
       "410726 2017-11-01 00:36:00        Zenith   \n",
       "410727 2017-11-01 00:41:00     Honchkrow   \n",
       "410728 2017-11-01 00:44:00  MasatoshiOno   \n",
       "410729 2017-11-01 00:46:00        ?iamat   \n",
       "410730 2017-11-01 00:46:00     DSPMankey   \n",
       "...                    ...           ...   \n",
       "426033 2017-11-18 04:12:00    FurryTrash   \n",
       "426034 2017-11-18 04:14:00      go123452   \n",
       "426035 2017-11-18 04:15:00    DarkKnight   \n",
       "426036 2017-11-18 04:15:00       Benzene   \n",
       "426037 2017-11-18 04:18:00        TRICAD   \n",
       "426038 2017-11-18 04:19:00          J4CK   \n",
       "426039 2017-11-18 04:20:00        Aldwyn   \n",
       "426040 2017-11-18 04:20:00   KagamineLen   \n",
       "426041 2017-11-18 04:22:00       Benzene   \n",
       "426042 2017-11-18 04:22:00      illmatic   \n",
       "426043 2017-11-18 04:22:00   ReesePlayzz   \n",
       "426044 2017-11-18 04:23:00        Swaggy   \n",
       "426045 2017-11-18 04:25:00    FurryTrash   \n",
       "426046 2017-11-18 04:28:00    ruatxnjr06   \n",
       "426047 2017-11-18 04:31:00          Neon   \n",
       "426048 2017-11-18 04:32:00   Holybreaker   \n",
       "426049 2017-11-18 04:32:00       Stimpak   \n",
       "426050 2017-11-18 04:33:00       abombnd   \n",
       "426051 2017-11-18 04:34:00   SunsetHippo   \n",
       "426052 2017-11-18 04:35:00       Benzene   \n",
       "426053 2017-11-18 04:38:00       Gravity   \n",
       "426054 2017-11-18 04:40:00  RvolverJesus   \n",
       "426055 2017-11-18 04:42:00         Trixx   \n",
       "426056 2017-11-18 04:42:00       Bnetter   \n",
       "426057 2017-11-18 04:46:00       Malware   \n",
       "426058 2017-11-18 04:48:00  DrScaphandre   \n",
       "426059 2017-11-18 04:48:00    MiniArcham   \n",
       "426060 2017-11-18 04:52:00   goliathfasa   \n",
       "426061 2017-11-18 04:52:00   Morningstar   \n",
       "426062 2017-11-18 04:53:00  QuirkyTurtle   \n",
       "\n",
       "                                                 all_text  \\\n",
       "410701  Ana mains private party. Welcome fellow Anas, ...   \n",
       "410702  I've predicted almost every nerf and buff in t...   \n",
       "410703  Give the gift of overwatch. Will there be a re...   \n",
       "410704  WINSTON PANDA SKIN FOR CHINESE NEW YEAR!!! Jus...   \n",
       "410705  BUILD-A-WATCH WORKSHOP!!! The Ultimate Bear Sh...   \n",
       "410706  New idea for the Icons for Career Profile! Hi ...   \n",
       "410707     Sombra Tips? How do I effectively use my hack?   \n",
       "410708  Remove Enemy Health Bars for Damage Numbers? I...   \n",
       "410709  Teamwork. makes the dream work, what happened ...   \n",
       "410710  Mei primary fire needs help! Please just make ...   \n",
       "410711            Update? Anyone know what the update is?   \n",
       "410712  No Spray, no portrait in Season 7? I just star...   \n",
       "410713  My first game of season 7 :( I joined a game t...   \n",
       "410714  Please fix D.va. Blizzard please make her a ta...   \n",
       "410715  Season 7 Rewards? Is there no plan to add a sp...   \n",
       "410716  Idea One million and 1 for Resurrect. TL;DR: M...   \n",
       "410717  Mercy's Ressurect. Hey, so I was looking throu...   \n",
       "410718  A small question. What's Mei's role in Overwat...   \n",
       "410719  Doomfist, an idea for more combos. My hope is ...   \n",
       "410720  Suggestion for upcoming Mercy balance changes....   \n",
       "410721  Ask Amazon Alexa what her favorite Overwatch C...   \n",
       "410722  My thoughts on weak characters. Here are some ...   \n",
       "410723  Doomfist rundown (balance post) This post is g...   \n",
       "410724  Current feelings regarding Doomfist. Hey, seei...   \n",
       "410725  Mercy's res idea. What if Mercy's res outside ...   \n",
       "410726  Question to Widow players. What's the kind of ...   \n",
       "410727  Doomfist Tips Please. I consider myself a Doom...   \n",
       "410728  does anyone think reworked Bastion is worse th...   \n",
       "410729  Long Queue Times For Every Mode. Is there a sp...   \n",
       "410730  There are other games. I just tried to do my p...   \n",
       "...                                                   ...   \n",
       "426033  Moira is what Symmetra should've been. Someone...   \n",
       "426034  Auriel VS Mercy. Interesting tidbit of knowled...   \n",
       "426035  Stop it with the complaining, Jeez it's annoyi...   \n",
       "426036  School girl DVA. I think it could be a nice sk...   \n",
       "426037  Blizz stay quiet pls. Blizz, please to do not ...   \n",
       "426038  separate yourself from the rest of the communi...   \n",
       "426039  My issue with the XQC ban. Why 3 days? Wouldn'...   \n",
       "426040  Future Hero Thought. So...we have lots of ethn...   \n",
       "426041  Mei and Bastion feel outdated. They feel like ...   \n",
       "426042  There is far too much visual clutter in this g...   \n",
       "426043  CHRISTMAS SKIN FOR MOIRA. If Moira doesn't get...   \n",
       "426044  [xQc] \"He shouldn't have done that, the ban is...   \n",
       "426045  new mercy is fine. The ability to just walk by...   \n",
       "426046  Moira, another stupid character from Blizzard....   \n",
       "426047  2 Possible Chinese New Year Skins? Good Aftern...   \n",
       "426048  Balancing support heros :D. STOP BALANCING THE...   \n",
       "426049  Expand Overwatch into other gamemodes. Honestl...   \n",
       "426050  Horrid Server Errors. My ping just had a massi...   \n",
       "426051  Question on Streaming. If, i were to stream, o...   \n",
       "426052  Hire me. I can fix this game. Genji: Reduce th...   \n",
       "426053  Forum Rehaul. The forums, need to be redesigne...   \n",
       "426054  So xQc went and evaded his ban. Isn't that lik...   \n",
       "426055  Reporting literally does nothing. Reported a m...   \n",
       "426056  xQcs ban vs other bans. Would we have known x...   \n",
       "426057  Moira This, Genji that... Bikini Torb this, wi...   \n",
       "426058  The Pro scene is a joke. Over the past two wee...   \n",
       "426059  Why Do We Have To Build Around One-Tricks? ESP...   \n",
       "426060  Thank you CASUALS for your services (and money...   \n",
       "426061  Doomfist rework idea. Probabbly one of DF's wo...   \n",
       "426062                            Moira feels amazing. ;3   \n",
       "\n",
       "                                                    topic  \\\n",
       "410701                            Ana mains private party   \n",
       "410702  I've predicted almost every nerf and buff in t...   \n",
       "410703                         Give the gift of overwatch   \n",
       "410704         WINSTON PANDA SKIN FOR CHINESE NEW YEAR!!!   \n",
       "410705                          BUILD-A-WATCH WORKSHOP!!!   \n",
       "410706         New idea for the Icons for Career Profile!   \n",
       "410707                                       Sombra Tips?   \n",
       "410708       Remove Enemy Health Bars for Damage Numbers?   \n",
       "410709                                           Teamwork   \n",
       "410710                       Mei primary fire needs help!   \n",
       "410711                                            Update?   \n",
       "410712                 No Spray, no portrait in Season 7?   \n",
       "410713                       My first game of season 7 :(   \n",
       "410714                                    Please fix D.va   \n",
       "410715                                  Season 7 Rewards?   \n",
       "410716               Idea One million and 1 for Resurrect   \n",
       "410717                                  Mercy's Ressurect   \n",
       "410718  A small question. What's Mei's role in Overwatch?   \n",
       "410719                  Doomfist, an idea for more combos   \n",
       "410720      Suggestion for upcoming Mercy balance changes   \n",
       "410721  Ask Amazon Alexa what her favorite Overwatch C...   \n",
       "410722                     My thoughts on weak characters   \n",
       "410723                    Doomfist rundown (balance post)   \n",
       "410724                Current feelings regarding Doomfist   \n",
       "410725                                   Mercy's res idea   \n",
       "410726                          Question to Widow players   \n",
       "410727                               Doomfist Tips Please   \n",
       "410728  does anyone think reworked Bastion is worse th...   \n",
       "410729                    Long Queue Times For Every Mode   \n",
       "410730                              There are other games   \n",
       "...                                                   ...   \n",
       "426033              Moira is what Symmetra should've been   \n",
       "426034                                    Auriel VS Mercy   \n",
       "426035   Stop it with the complaining, Jeez it's annoying   \n",
       "426036                                    School girl DVA   \n",
       "426037                              Blizz stay quiet pls.   \n",
       "426038  separate yourself from the rest of the communi...   \n",
       "426039                          My issue with the XQC ban   \n",
       "426040                                Future Hero Thought   \n",
       "426041                     Mei and Bastion feel outdated.   \n",
       "426042  There is far too much visual clutter in this g...   \n",
       "426043                           CHRISTMAS SKIN FOR MOIRA   \n",
       "426044  [xQc] \"He shouldn't have done that, the ban is...   \n",
       "426045                                  new mercy is fine   \n",
       "426046     Moira, another stupid character from Blizzard.   \n",
       "426047                 2 Possible Chinese New Year Skins?   \n",
       "426048                         Balancing support heros :D   \n",
       "426049             Expand Overwatch into other gamemodes.   \n",
       "426050                               Horrid Server Errors   \n",
       "426051                              Question on Streaming   \n",
       "426052                      Hire me. I can fix this game.   \n",
       "426053                                       Forum Rehaul   \n",
       "426054                     So xQc went and evaded his ban   \n",
       "426055                   Reporting literally does nothing   \n",
       "426056                            xQcs ban vs other bans   \n",
       "426057                          Moira This, Genji that...   \n",
       "426058                            The Pro scene is a joke   \n",
       "426059         Why Do We Have To Build Around One-Tricks?   \n",
       "426060  Thank you CASUALS for your services (and money...   \n",
       "426061                              Doomfist rework idea.   \n",
       "426062                                Moira feels amazing   \n",
       "\n",
       "                                                     text  num_replies  \\\n",
       "410701  Welcome fellow Anas, grab your rifles and get ...           78   \n",
       "410702                P.S Steam Punk Tank Girl Zarya Skin            8   \n",
       "410703  Will there be a reduced price for gifting over...            1   \n",
       "410704  Just do it plz. Pandas can't jump but tbh neit...           22   \n",
       "410705  The Ultimate Bear Shop featuring all of your f...            9   \n",
       "410706  Hi Overwatch players, I have an idea to career...            1   \n",
       "410707                  How do I effectively use my hack?            8   \n",
       "410708  I have never enjoyed the idea of being able to...           11   \n",
       "410709  makes the dream work, what happened to people ...            3   \n",
       "410710  Please just make it a hit scan so I can freeze...            4   \n",
       "410711                    Anyone know what the update is?            2   \n",
       "410712  I just started my placement matches and the we...            6   \n",
       "410713  I joined a game the SECOND the season started....            4   \n",
       "410714  Blizzard please make her a tank again, and not...           23   \n",
       "410715  Is there no plan to add a spray or icon for se...            0   \n",
       "410716  TL;DR: Make Mercy's Resurrect a Channeled Abil...           10   \n",
       "410717  Hey, so I was looking through everything about...            0   \n",
       "410718   Anti-flanker? Anti-mobility? Tank? Tank buste...           20   \n",
       "410719  My hope is to give Doomfist players more combo...            5   \n",
       "410720  Hello all Mercy's been in a tough spot recentl...            0   \n",
       "410721  0_o Edit: She says; Its all about Zenyatta.....           26   \n",
       "410722  Here are some characters that are seldom taken...            1   \n",
       "410723  This post is going to rundown his movelist and...            0   \n",
       "410724  Hey, seeing the large thread earlier I wanted ...            1   \n",
       "410725  What if Mercy's res outside of Valkyrie put pe...            3   \n",
       "410726  What's the kind of stuff that makes you annoye...            1   \n",
       "410727  I consider myself a Doomfist enthusiast (I'm n...            4   \n",
       "410728  I don't see the point of keep balancing Mercy,...           14   \n",
       "410729  Is there a specific reason behind this at the ...            3   \n",
       "410730  I just tried to do my placements for the new s...            4   \n",
       "...                                                   ...          ...   \n",
       "426033  Someone who could pester close range enemies w...            4   \n",
       "426034  Interesting tidbit of knowledge. Auriel, our r...            4   \n",
       "426035  Do you know what I hate the most on the forums...            4   \n",
       "426036  I think it could be a nice skin. Blizzard usua...           33   \n",
       "426037  Blizz, please to do not take a stance on the r...            7   \n",
       "426038  the thing i loved about pc is that every tom @...            0   \n",
       "426039              Why 3 days? Wouldn't 1 day be enough?           22   \n",
       "426040  So...we have lots of ethnicities in Overwatch....            3   \n",
       "426041  They feel like that old rug that you had to re...            3   \n",
       "426042  The game is becoming more visually cluttered b...            1   \n",
       "426043  If Moira doesn't get a grinch skin who throws ...            1   \n",
       "426044  I think xQc's ban is not right. It is very eas...            6   \n",
       "426045  The ability to just walk by and revive someone...            3   \n",
       "426046  What the hell is up with that stupid new chara...            9   \n",
       "426047  Good Afternoon fourms These are 2 skins that I...            0   \n",
       "426048  STOP BALANCING THEM BASED OFF OF WHAT DPS MAIN...            3   \n",
       "426049  Honestly, after awhile I'm burnt out of Overwa...            0   \n",
       "426050  My ping just had a massive increase from 60ish...            2   \n",
       "426051  If, i were to stream, on xbox mixer, would..an...           10   \n",
       "426052  Genji: Reduce the forward range of the deflect...            7   \n",
       "426053  The forums, need to be redesigned in order to ...            3   \n",
       "426054      Isn't that like, a KOS level of rulebreaking?            8   \n",
       "426055  Reported a million people for racial slurs in ...            2   \n",
       "426056  Would we have known xQc got banned if he wasn...            4   \n",
       "426057  Bikini Torb this, will you people ever learn! ...            0   \n",
       "426058  Over the past two weeks, I have never seen pro...            5   \n",
       "426059  ESPECIALLY, the off-meta ones, like Sym and To...            0   \n",
       "426060  We needed you. The developers needed you. THE ...            0   \n",
       "426061  Probabbly one of DF's worst downfall is that h...            0   \n",
       "426062                                                 ;3            0   \n",
       "\n",
       "       time_last_reply  \n",
       "410701           Nov 1  \n",
       "410702           Nov 1  \n",
       "410703           Nov 1  \n",
       "410704           Nov 1  \n",
       "410705           Nov 1  \n",
       "410706           Nov 3  \n",
       "410707           Nov 1  \n",
       "410708           Nov 1  \n",
       "410709           Nov 1  \n",
       "410710           Nov 1  \n",
       "410711           Nov 1  \n",
       "410712           Nov 1  \n",
       "410713           Nov 1  \n",
       "410714           Nov 1  \n",
       "410715           Nov 1  \n",
       "410716           Nov 1  \n",
       "410717           Nov 1  \n",
       "410718           Nov 1  \n",
       "410719              2d  \n",
       "410720           Nov 1  \n",
       "410721           Nov 1  \n",
       "410722           Nov 1  \n",
       "410723           Nov 1  \n",
       "410724           Nov 1  \n",
       "410725           Nov 1  \n",
       "410726           Nov 1  \n",
       "410727           Nov 1  \n",
       "410728           Nov 1  \n",
       "410729           Nov 1  \n",
       "410730           Nov 1  \n",
       "...                ...  \n",
       "426033             12m  \n",
       "426034             18m  \n",
       "426035             36m  \n",
       "426036              5m  \n",
       "426037              1m  \n",
       "426038             35m  \n",
       "426039              1m  \n",
       "426040             20m  \n",
       "426041             20m  \n",
       "426042             32m  \n",
       "426043             31m  \n",
       "426044              1m  \n",
       "426045             17m  \n",
       "426046             12m  \n",
       "426047             23m  \n",
       "426048             10m  \n",
       "426049             23m  \n",
       "426050             17m  \n",
       "426051              3m  \n",
       "426052             13m  \n",
       "426053              8m  \n",
       "426054              1m  \n",
       "426055              6m  \n",
       "426056              8m  \n",
       "426057              8m  \n",
       "426058              2m  \n",
       "426059              7m  \n",
       "426060              2m  \n",
       "426061              2m  \n",
       "426062              1m  \n",
       "\n",
       "[15361 rows x 7 columns]"
      ]
     },
     "execution_count": 30,
     "metadata": {},
     "output_type": "execute_result"
    }
   ],
   "source": [
    "# removing the beginning and most current month of the forum to avoid incomplete months\n",
    "df_by_month.pop('df_05_2016')\n",
    "df_by_month.pop('df_11_2017')"
   ]
  },
  {
   "cell_type": "markdown",
   "metadata": {},
   "source": [
    "With the ends trimmed we are confident that every dataframe in our `df_by_month` contains a full month of posts."
   ]
  },
  {
   "cell_type": "markdown",
   "metadata": {},
   "source": [
    "#### b) creating language models for each month"
   ]
  },
  {
   "cell_type": "markdown",
   "metadata": {},
   "source": [
    "All language models will be trigrams for now. Scoring ultimately will use add-k smoothing, but I will improve this in the future with some form of back-off smoothing.\n",
    "\n",
    "We will save a version of the snapshot model that does not have any of the users that were used in making the trigram language model. This version will be used to subsequently analyze the language model. \n",
    "\n",
    "**[Note to myself]**\n",
    "It may be a bit harsh to remove all of a user's posts instead of just the posts that were used to make the training data... I should try it both ways and think more about it.\n",
    "\n",
    "**[Another note to myself]** .. OK I thought about it and decided it's too harsh to throw out a user from analysis just because some of their posts are in the training data, because A) I'm still removing the posts that user contributed to training the LMs and B) I'm only letting a user contribute 2 posts to any given LM (0.2% of training data)."
   ]
  },
  {
   "cell_type": "markdown",
   "metadata": {},
   "source": [
    "(This could take a minute)"
   ]
  },
  {
   "cell_type": "code",
   "execution_count": 34,
   "metadata": {},
   "outputs": [
    {
     "name": "stdout",
     "output_type": "stream",
     "text": [
      "Model for df_06_2016 built successfully\n",
      "Model for df_07_2016 built successfully\n",
      "Model for df_08_2016 built successfully\n",
      "Model for df_09_2016 built successfully\n",
      "Model for df_10_2016 built successfully\n",
      "Model for df_11_2016 built successfully\n",
      "Model for df_12_2016 built successfully\n",
      "Model for df_01_2017 built successfully\n",
      "Model for df_02_2017 built successfully\n",
      "Model for df_03_2017 built successfully\n",
      "Model for df_04_2017 built successfully\n",
      "Model for df_05_2017 built successfully\n",
      "Model for df_06_2017 built successfully\n",
      "Model for df_07_2017 built successfully\n",
      "Model for df_08_2017 built successfully\n",
      "Model for df_09_2017 built successfully\n",
      "Model for df_10_2017 built successfully\n",
      "DONE BUILDING MODELS\n"
     ]
    }
   ],
   "source": [
    "df_no_train, trigram_counts, trigram_context_totals = utils.trigram_models_by_month(df_by_month)"
   ]
  },
  {
   "cell_type": "markdown",
   "metadata": {},
   "source": [
    "#### c) Testing out our new language models (generating sentences for fun)"
   ]
  },
  {
   "cell_type": "code",
   "execution_count": 35,
   "metadata": {},
   "outputs": [
    {
     "name": "stdout",
     "output_type": "stream",
     "text": [
      "Snapshot model from 06/2016\n",
      "Fake/generated sentence:\n",
      "\u001b[1;32mrepresents peoples sympathy level whiny posts favor stop complaining\u001b[0m\n",
      "cross-entropy = 80.54\n",
      "\n",
      "\n",
      "Snapshot model from 07/2016\n",
      "Fake/generated sentence:\n",
      "\u001b[1;32mWe playing attack temple anubis front entrance terrible\u001b[0m\n",
      "cross-entropy = 68.60\n",
      "\n",
      "\n",
      "Snapshot model from 08/2016\n",
      "Fake/generated sentence:\n",
      "\u001b[1;32mImagine tried earn game without spending real money\u001b[0m\n",
      "cross-entropy = 68.79\n",
      "\n",
      "\n",
      "Snapshot model from 09/2016\n",
      "Fake/generated sentence:\n",
      "\u001b[1;32malways like idiot many times drop climbing wall forgot removed triple jump die look like `` duck game '' thought got stuck trying figure characters skills possible 2d make\u001b[0m\n",
      "cross-entropy = 310.12\n",
      "\n",
      "\n",
      "Snapshot model from 10/2016\n",
      "Fake/generated sentence:\n",
      "\u001b[1;32mWhy would add extra mechanic outplaying someone\u001b[0m\n",
      "cross-entropy = 57.27\n",
      "\n",
      "\n",
      "Snapshot model from 11/2016\n",
      "Fake/generated sentence:\n",
      "\u001b[1;32mThere sound indicate started going tank I hooked n't go whole Transforming tank\u001b[0m\n",
      "cross-entropy = 125.53\n",
      "\n",
      "\n",
      "Snapshot model from 12/2016\n",
      "Fake/generated sentence:\n",
      "\u001b[1;32mLucio 's Primary Fire\u001b[0m\n",
      "cross-entropy = 22.85\n",
      "\n",
      "\n",
      "Snapshot model from 01/2017\n",
      "Fake/generated sentence:\n",
      "\u001b[1;32mPhantom New Hero\u001b[0m\n",
      "cross-entropy = 11.43\n",
      "\n",
      "\n",
      "Snapshot model from 02/2017\n",
      "Fake/generated sentence:\n",
      "\u001b[1;32mDC Servers NOT penalize XP gain\u001b[0m\n",
      "cross-entropy = 45.69\n",
      "\n",
      "\n",
      "Snapshot model from 03/2017\n",
      "Fake/generated sentence:\n",
      "\u001b[1;32mSleeping dart skillshot unreliable non tanks\u001b[0m\n",
      "cross-entropy = 45.68\n",
      "\n",
      "\n",
      "Snapshot model from 04/2017\n",
      "Fake/generated sentence:\n",
      "\u001b[1;32mOne good ult team advance significantly\u001b[0m\n",
      "cross-entropy = 45.85\n",
      "\n",
      "\n",
      "Snapshot model from 05/2017\n",
      "Fake/generated sentence:\n",
      "\u001b[1;32mRegarding The Golden Weapons\u001b[0m\n",
      "cross-entropy = 22.83\n",
      "\n",
      "\n",
      "Snapshot model from 06/2017\n",
      "Fake/generated sentence:\n",
      "\u001b[1;32mTried best keep mood motivation\u001b[0m\n",
      "cross-entropy = 34.31\n",
      "\n",
      "\n",
      "Snapshot model from 07/2017\n",
      "Fake/generated sentence:\n",
      "\u001b[1;32mWhile I like 2530 something like SteamApp-Workshop\u001b[0m\n",
      "cross-entropy = 57.11\n",
      "\n",
      "\n",
      "Snapshot model from 08/2017\n",
      "Fake/generated sentence:\n",
      "\u001b[1;32maka let state genjis strong points bullet\u001b[0m\n",
      "cross-entropy = 56.93\n",
      "\n",
      "\n",
      "Snapshot model from 09/2017\n",
      "Fake/generated sentence:\n",
      "\u001b[1;32mplease I rly need song\u001b[0m\n",
      "cross-entropy = 34.29\n",
      "\n",
      "\n",
      "Snapshot model from 10/2017\n",
      "Fake/generated sentence:\n",
      "\u001b[1;32mCan get orisa skins\u001b[0m\n",
      "cross-entropy = 22.88\n",
      "\n",
      "\n"
     ]
    }
   ],
   "source": [
    "for key in df_by_month.keys():\n",
    "    print(\"Snapshot model from {}/{}\".format(key[3:5], key[6:]))\n",
    "    print(\"Fake/generated sentence:\")\n",
    "    utils.print_fake_sentences(trigram_counts[key], trigram_context_totals[key], n=1)"
   ]
  },
  {
   "cell_type": "markdown",
   "metadata": {},
   "source": [
    "The sentences don't make a ton of sense, but they're only using add-k smoothing and the language models have nltk.stop_words filtered out so the language would be somewhat \"caveman\" like.\n",
    "\n",
    "Also, notice that as a sentence becomes longer it naturally has higher cross-entropy. This is a problem with measuring cross-entropy in language models and is why I limited posts to a maximum of 30 words when building language models."
   ]
  },
  {
   "cell_type": "markdown",
   "metadata": {},
   "source": [
    "***"
   ]
  },
  {
   "cell_type": "markdown",
   "metadata": {},
   "source": [
    "<div align=\"right\">\n",
    "    [back to top](#toc)\n",
    "</div>\n",
    "\n",
    "<a id=\"section5\"></a>\n",
    "\n",
    "## 5) Analyzing user life cycle\n"
   ]
  },
  {
   "cell_type": "markdown",
   "metadata": {},
   "source": [
    "#### a) find some candidate users to analyze"
   ]
  },
  {
   "cell_type": "code",
   "execution_count": 36,
   "metadata": {},
   "outputs": [
    {
     "name": "stdout",
     "output_type": "stream",
     "text": [
      "[('Red', 17), ('Rezbit', 17), ('Ahaa', 17), ('Ghost', 17), ('BrokenStylus', 17)]\n"
     ]
    }
   ],
   "source": [
    "user_count = Counter()\n",
    "for key in list(df_no_train.keys()):\n",
    "    user_list = Counter(list(set(df_no_train[key]['user'].tolist())))\n",
    "    user_count += user_list\n",
    "    \n",
    "users = user_count.most_common(5)\n",
    "print(users)\n",
    "active_user_list = []\n",
    "for user in users:\n",
    "    active_user_list.append(user[0])"
   ]
  },
  {
   "cell_type": "markdown",
   "metadata": {},
   "source": [
    "Any users we see above with the value '17' have posted at least once every month from 06/2016 - 10/2017. We'll dive into 5 of the most active users (users that posted consistently)."
   ]
  },
  {
   "cell_type": "code",
   "execution_count": 37,
   "metadata": {},
   "outputs": [
    {
     "name": "stdout",
     "output_type": "stream",
     "text": [
      "Number of Posts by Red\n",
      "df_06_2016: 2 posts\n",
      "df_07_2016: 1 posts\n",
      "df_08_2016: 1 posts\n",
      "df_09_2016: 1 posts\n",
      "df_10_2016: 3 posts\n",
      "df_11_2016: 11 posts\n",
      "df_12_2016: 6 posts\n",
      "df_01_2017: 4 posts\n",
      "df_02_2017: 4 posts\n",
      "df_03_2017: 19 posts\n",
      "df_04_2017: 4 posts\n",
      "df_05_2017: 11 posts\n",
      "df_06_2017: 5 posts\n",
      "df_07_2017: 2 posts\n",
      "df_08_2017: 8 posts\n",
      "df_09_2017: 3 posts\n",
      "df_10_2017: 2 posts\n",
      "\n",
      "\n",
      "Number of Posts by Rezbit\n",
      "df_06_2016: 7 posts\n",
      "df_07_2016: 14 posts\n",
      "df_08_2016: 6 posts\n",
      "df_09_2016: 6 posts\n",
      "df_10_2016: 1 posts\n",
      "df_11_2016: 11 posts\n",
      "df_12_2016: 12 posts\n",
      "df_01_2017: 14 posts\n",
      "df_02_2017: 5 posts\n",
      "df_03_2017: 8 posts\n",
      "df_04_2017: 24 posts\n",
      "df_05_2017: 21 posts\n",
      "df_06_2017: 10 posts\n",
      "df_07_2017: 4 posts\n",
      "df_08_2017: 12 posts\n",
      "df_09_2017: 8 posts\n",
      "df_10_2017: 5 posts\n",
      "\n",
      "\n",
      "Number of Posts by Ahaa\n",
      "df_06_2016: 7 posts\n",
      "df_07_2016: 14 posts\n",
      "df_08_2016: 17 posts\n",
      "df_09_2016: 6 posts\n",
      "df_10_2016: 7 posts\n",
      "df_11_2016: 3 posts\n",
      "df_12_2016: 8 posts\n",
      "df_01_2017: 1 posts\n",
      "df_02_2017: 1 posts\n",
      "df_03_2017: 3 posts\n",
      "df_04_2017: 1 posts\n",
      "df_05_2017: 1 posts\n",
      "df_06_2017: 10 posts\n",
      "df_07_2017: 26 posts\n",
      "df_08_2017: 9 posts\n",
      "df_09_2017: 11 posts\n",
      "df_10_2017: 1 posts\n",
      "\n",
      "\n",
      "Number of Posts by Ghost\n",
      "df_06_2016: 7 posts\n",
      "df_07_2016: 8 posts\n",
      "df_08_2016: 13 posts\n",
      "df_09_2016: 2 posts\n",
      "df_10_2016: 6 posts\n",
      "df_11_2016: 4 posts\n",
      "df_12_2016: 1 posts\n",
      "df_01_2017: 1 posts\n",
      "df_02_2017: 2 posts\n",
      "df_03_2017: 5 posts\n",
      "df_04_2017: 3 posts\n",
      "df_05_2017: 3 posts\n",
      "df_06_2017: 14 posts\n",
      "df_07_2017: 3 posts\n",
      "df_08_2017: 2 posts\n",
      "df_09_2017: 4 posts\n",
      "df_10_2017: 1 posts\n",
      "\n",
      "\n",
      "Number of Posts by BrokenStylus\n",
      "df_06_2016: 11 posts\n",
      "df_07_2016: 18 posts\n",
      "df_08_2016: 12 posts\n",
      "df_09_2016: 13 posts\n",
      "df_10_2016: 3 posts\n",
      "df_11_2016: 7 posts\n",
      "df_12_2016: 15 posts\n",
      "df_01_2017: 17 posts\n",
      "df_02_2017: 9 posts\n",
      "df_03_2017: 15 posts\n",
      "df_04_2017: 3 posts\n",
      "df_05_2017: 16 posts\n",
      "df_06_2017: 14 posts\n",
      "df_07_2017: 12 posts\n",
      "df_08_2017: 14 posts\n",
      "df_09_2017: 22 posts\n",
      "df_10_2017: 14 posts\n",
      "\n",
      "\n"
     ]
    }
   ],
   "source": [
    "for user in active_user_list:\n",
    "    print(\"Number of Posts by {}\".format(user))\n",
    "    for key in list(df_no_train.keys()):\n",
    "        df = df_no_train[key]\n",
    "        rows = df[df['user'] == user].shape[0]\n",
    "        print(\"{0}: {1} posts\".format(key, rows)) \n",
    "    print(\"\\n\")"
   ]
  },
  {
   "cell_type": "markdown",
   "metadata": {},
   "source": [
    "Because the training of the LMs randomly picks which posts to take, the \"top 5\" users may differ from time to time as this notebook is rerun.\n",
    "\n",
    "In this iteration, we see that user 'Alpha' has posted in every month and has many posts in every month. Let's use him as a test case for now."
   ]
  },
  {
   "cell_type": "markdown",
   "metadata": {},
   "source": [
    "#### b) Analyzing change in language over time for candidate users"
   ]
  },
  {
   "cell_type": "code",
   "execution_count": 38,
   "metadata": {
    "scrolled": false
   },
   "outputs": [
    {
     "data": {
      "image/png": "[encoded data removed]",
      "text/plain": [
       "<matplotlib.figure.Figure at 0x1a37d847f0>"
      ]
     },
     "metadata": {},
     "output_type": "display_data"
    },
    {
     "data": {
      "image/png": "[encoded data removed]",
      "text/plain": [
       "<matplotlib.figure.Figure at 0x1a302149e8>"
      ]
     },
     "metadata": {},
     "output_type": "display_data"
    },
    {
     "data": {
      "image/png": "[encoded data removed]",
      "text/plain": [
       "<matplotlib.figure.Figure at 0x1a3ecf0ba8>"
      ]
     },
     "metadata": {},
     "output_type": "display_data"
    },
    {
     "data": {
      "image/png": "[encoded data removed]",
      "text/plain": [
       "<matplotlib.figure.Figure at 0x1a3a814390>"
      ]
     },
     "metadata": {},
     "output_type": "display_data"
    },
    {
     "data": {
      "image/png": "[encoded data removed]",
      "text/plain": [
       "<matplotlib.figure.Figure at 0x1a41024630>"
      ]
     },
     "metadata": {},
     "output_type": "display_data"
    }
   ],
   "source": [
    "for user in active_user_list:\n",
    "    cross_entropy = utils.score_user(user, df_no_train, trigram_counts, trigram_context_totals)\n",
    "    utils.plot_entropy(user, cross_entropy, month_labels)"
   ]
  },
  {
   "cell_type": "markdown",
   "metadata": {},
   "source": [
    "I want to add error bars to the points on these plots so we can better understand how seriously to take these results (basically how many posts the user had each month).\n",
    "\n",
    "Ideally we'd like to see the cross-entropy of the user decrease over time. Or see it decrease, stabalize at some low value, and then start to rise back up. Either trend would suggest that the user is adopting more of the language of the forum as time goes on (evidence in support of the original work by Danescu et al. 2013). Because these are users that have remained active throught the lifespan of the forum we cannot visualize their full user life cycle (i.e. entry to forum -> linguistic maturity -> user churn)."
   ]
  },
  {
   "cell_type": "markdown",
   "metadata": {},
   "source": [
    "#### !! UNDER CONSTRUCTION !!\n",
    "\n",
    "#### c) find users that were initially very active and dropped off toward the end of 2016 or early 2017\n",
    "\n",
    "If we define a time frame of inactivity to declare a user has churned, we can look for candidate users that may display a full life cycle."
   ]
  },
  {
   "cell_type": "code",
   "execution_count": 73,
   "metadata": {
    "collapsed": true
   },
   "outputs": [],
   "source": [
    "# INCOMPLETE!!\n",
    "\n",
    "# code to find users here\n",
    "candidate_users = []"
   ]
  },
  {
   "cell_type": "markdown",
   "metadata": {},
   "source": [
    "#### d) analyze these users to see if they display a full life cycle"
   ]
  },
  {
   "cell_type": "code",
   "execution_count": null,
   "metadata": {
    "collapsed": true
   },
   "outputs": [],
   "source": [
    "for user in candidate_users:\n",
    "    cross_entropy = utils.score_user(user, df_no_train, trigram_counts, trigram_context_totals)\n",
    "    utils.plot_entropy(user, cross_entropy, month_labels)"
   ]
  },
  {
   "cell_type": "markdown",
   "metadata": {},
   "source": [
    "***"
   ]
  },
  {
   "cell_type": "markdown",
   "metadata": {},
   "source": [
    "## !! UNDER CONSTRUCTION!!\n",
    "\n",
    "## Don't go past this point! Dead end!"
   ]
  },
  {
   "cell_type": "markdown",
   "metadata": {
    "nbpresent": {
     "id": "88658b03-2185-4d67-b892-b4442fafc164"
    }
   },
   "source": [
    "<div align=right>\n",
    "    [back to top](#toc)\n",
    "</div>\n",
    "\n",
    "<a id=\"section6\"></a>\n",
    "\n",
    "### Step 6) Creating a classifier for user churn prediction"
   ]
  },
  {
   "cell_type": "code",
   "execution_count": 196,
   "metadata": {
    "collapsed": true
   },
   "outputs": [],
   "source": [
    "# where to start..."
   ]
  },
  {
   "cell_type": "markdown",
   "metadata": {
    "nbpresent": {
     "id": "6a7e11fe-8a10-4b33-9e0b-2d217aee9ef8"
    }
   },
   "source": [
    "***"
   ]
  },
  {
   "cell_type": "markdown",
   "metadata": {},
   "source": [
    "### That's the end!... what more were you hoping to find down here! :("
   ]
  }
 ],
 "metadata": {
  "anaconda-cloud": {},
  "kernelspec": {
   "display_name": "Python 3",
   "language": "python",
   "name": "python3"
  },
  "language_info": {
   "codemirror_mode": {
    "name": "ipython",
    "version": 3
   },
   "file_extension": ".py",
   "mimetype": "text/x-python",
   "name": "python",
   "nbconvert_exporter": "python",
   "pygments_lexer": "ipython3",
   "version": "3.6.3"
  },
  "nbpresent": {
   "slides": {},
   "themes": {
    "default": "0c4c23af-d300-48dd-b943-217cb1bff0da",
    "theme": {}
   }
  }
 },
 "nbformat": 4,
 "nbformat_minor": 2
}
