{
 "cells": [
  {
   "cell_type": "markdown",
   "metadata": {},
   "source": [
    "# Analyzing Overwatch Forum Posts"
   ]
  },
  {
   "cell_type": "markdown",
   "metadata": {},
   "source": [
    "This is an analysis of data I scrapped from Blizzard's official Overwatch general discussion <a href=\"https://us.battle.net/forums/en/overwatch/22813879/\">forum</a>. For more information on how scrapping was performed or about this project in general, visit my repo <a href=\"https://github.com/dskarbrevik/W266_Project_Skarbrevik\">here</a>."
   ]
  },
  {
   "cell_type": "markdown",
   "metadata": {},
   "source": [
    "<a id=\"toc\"></a>\n",
    "\n",
    "## Table of Contents\n",
    "<ol>\n",
    "    <li>[Setup the environment](#section1)</li>\n",
    "    <li>[Preprocess the data](#section2)</li>\n",
    "    <li>[Basic EDA](#section3)</li>\n",
    "    <li>[Exploring \"per month\" slices](#section4)</li>\n",
    "    <li>[Tokenize the text](#section5)</li>\n",
    "</ol>"
   ]
  },
  {
   "cell_type": "markdown",
   "metadata": {},
   "source": [
    "***"
   ]
  },
  {
   "cell_type": "markdown",
   "metadata": {},
   "source": [
    "<a id='section1'></a>\n",
    "\n",
    "## 1) Setup the environment\n",
    "\n"
   ]
  },
  {
   "cell_type": "markdown",
   "metadata": {},
   "source": [
    "#### Import libraries"
   ]
  },
  {
   "cell_type": "code",
   "execution_count": 1,
   "metadata": {
    "collapsed": true
   },
   "outputs": [],
   "source": [
    "import pandas as pd\n",
    "import numpy as np\n",
    "import nltk\n",
    "import re\n",
    "import sys\n",
    "from nltk.corpus import stopwords\n",
    "from nltk import word_tokenize, sent_tokenize\n",
    "from collections import Counter, defaultdict"
   ]
  },
  {
   "cell_type": "markdown",
   "metadata": {},
   "source": [
    "Note: nltk data must be downloaded prior to running cells further in this notebook. Run `nltk.download()` to install necessary data."
   ]
  },
  {
   "cell_type": "markdown",
   "metadata": {},
   "source": [
    "#### Helper functions"
   ]
  },
  {
   "cell_type": "code",
   "execution_count": 2,
   "metadata": {
    "collapsed": true
   },
   "outputs": [],
   "source": [
    "def count_tokens(posts):\n",
    "    #test = defaultdict(lambda:0)\n",
    "    #counts = Counter()\n",
    "    fdist = nltk.FreqDist()\n",
    "    for i in range(len(posts)):\n",
    "        if type(posts[i]) ==  str:\n",
    "            sent = sent_tokenize(posts[i])\n",
    "            for sentences in sent:\n",
    "                text = re.sub(r'^https?:\\/\\/.*[\\r\\n]*', '', sentences) #try to get rid of urls in text\n",
    "                words = word_tokenize(text)\n",
    "                filtered_sentence = [w for w in words if not w in stop_words]\n",
    "                for words in filtered_sentence:\n",
    "                    #counts[words] += 1\n",
    "                    fdist[words] += 1\n",
    "    return fdist #returns a Counter like object\n",
    "\n",
    "\n",
    "# def month_text(db, start_date):\n",
    "#     end_date = \n"
   ]
  },
  {
   "cell_type": "markdown",
   "metadata": {},
   "source": [
    "#### Import data"
   ]
  },
  {
   "cell_type": "code",
   "execution_count": 3,
   "metadata": {
    "collapsed": false
   },
   "outputs": [],
   "source": [
    "ow_db1 = pd.read_csv(\"E:\\\\Data Science Playgrounds\\\\Blizzard Forums Project\\\\Web Scrapes\\\\11-18-17\\\\overwatch_database_1_5248.csv\", encoding = \"ISO-8859-1\")\n",
    "ow_db2 = pd.read_csv(\"E:\\\\Data Science Playgrounds\\\\Blizzard Forums Project\\\\Web Scrapes\\\\11-18-17\\\\overwatch_database_5249_7691.csv\", encoding = \"ISO-8859-1\")\n",
    "ow_db3 = pd.read_csv(\"E:\\\\Data Science Playgrounds\\\\Blizzard Forums Project\\\\Web Scrapes\\\\11-18-17\\\\overwatch_database_7692_8655.csv\", encoding = \"ISO-8859-1\")"
   ]
  },
  {
   "cell_type": "markdown",
   "metadata": {},
   "source": [
    "#### Concatenate data files"
   ]
  },
  {
   "cell_type": "code",
   "execution_count": 4,
   "metadata": {
    "collapsed": true
   },
   "outputs": [],
   "source": [
    "all_db = [ow_db1, ow_db2, ow_db3]\n",
    "master_db = pd.concat(all_db)\n",
    "before_preprocess = master_db.head() # save to compare later for fun"
   ]
  },
  {
   "cell_type": "markdown",
   "metadata": {},
   "source": [
    "***"
   ]
  },
  {
   "cell_type": "markdown",
   "metadata": {},
   "source": [
    "<div align=\"right\">\n",
    "    [back to top](#toc)\n",
    "</div>\n",
    "\n",
    "<a id='section2'></a>\n",
    "\n",
    "## 2) Preprocess the data"
   ]
  },
  {
   "cell_type": "markdown",
   "metadata": {},
   "source": [
    "#### a) Convert 'date' and 'time' columns to datetime objects and combine them\n",
    "\n",
    "(This could take a minute)"
   ]
  },
  {
   "cell_type": "code",
   "execution_count": 6,
   "metadata": {
    "collapsed": false
   },
   "outputs": [],
   "source": [
    "master_db['date'] = pd.to_datetime(master_db['date'])\n",
    "master_db['time'] = pd.to_timedelta(master_db['time'] + ':00', unit='h')"
   ]
  },
  {
   "cell_type": "code",
   "execution_count": 7,
   "metadata": {
    "collapsed": false
   },
   "outputs": [],
   "source": [
    "master_db['date'] = master_db['date'].add(master_db['time']) # combine features into one date/time feature\n",
    "master_db = master_db.drop(['time'], axis=1)"
   ]
  },
  {
   "cell_type": "markdown",
   "metadata": {},
   "source": [
    "#### b) Make the 'date' our new index (and sort it)\n",
    "\n",
    "This makes it easy to separate forum posts into month-long chunks."
   ]
  },
  {
   "cell_type": "code",
   "execution_count": 8,
   "metadata": {
    "collapsed": true
   },
   "outputs": [],
   "source": [
    "master_db = master_db.set_index(['date'])\n",
    "master_db = master_db.sort_index()"
   ]
  },
  {
   "cell_type": "markdown",
   "metadata": {},
   "source": [
    "#### c) Remove any rows with more than 1 NaN value\n",
    "There are a total of 5 columns in the table so tresh=4 only allows 1 NaN per row of table. This way we can allow forums posts where the user entered a topic line but no body text (as this may still be valuable data)."
   ]
  },
  {
   "cell_type": "code",
   "execution_count": 9,
   "metadata": {
    "collapsed": true
   },
   "outputs": [],
   "source": [
    "rows_before = master_db.shape[0]\n",
    "master_db = master_db.dropna(thresh=4)"
   ]
  },
  {
   "cell_type": "markdown",
   "metadata": {},
   "source": [
    "#### d) Rearrange columns for better viewing"
   ]
  },
  {
   "cell_type": "code",
   "execution_count": 12,
   "metadata": {
    "collapsed": false
   },
   "outputs": [
    {
     "name": "stdout",
     "output_type": "stream",
     "text": [
      "['num_replies', 'text', 'time', 'time_last_reply', 'topic', 'user']\n"
     ]
    }
   ],
   "source": [
    "old_cols = master_db.columns.tolist()\n",
    "new_cols = ['user', 'topic', 'text', 'num_replies', 'time_last_reply']\n",
    "\n",
    "print(old_cols)"
   ]
  },
  {
   "cell_type": "code",
   "execution_count": 14,
   "metadata": {
    "collapsed": false
   },
   "outputs": [],
   "source": [
    "old_cols = master_db.columns.tolist()\n",
    "new_cols = ['user', 'topic', 'text', 'num_replies', 'time_last_reply']\n",
    "\n",
    "if set(old_cols) == set(new_cols):\n",
    "    master_db = master_db[new_cols]\n"
   ]
  },
  {
   "cell_type": "markdown",
   "metadata": {},
   "source": [
    "just for fun...\n",
    "\n",
    "### What the data looked like BEFORE pre-processing:"
   ]
  },
  {
   "cell_type": "code",
   "execution_count": null,
   "metadata": {
    "collapsed": true
   },
   "outputs": [],
   "source": [
    "before_preprocessing"
   ]
  },
  {
   "cell_type": "markdown",
   "metadata": {},
   "source": [
    "### What the data looks like AFTER pre-processing:"
   ]
  },
  {
   "cell_type": "code",
   "execution_count": 18,
   "metadata": {
    "collapsed": false
   },
   "outputs": [
    {
     "data": {
      "text/html": [
       "<div>\n",
       "<table border=\"1\" class=\"dataframe\">\n",
       "  <thead>\n",
       "    <tr style=\"text-align: right;\">\n",
       "      <th></th>\n",
       "      <th>user</th>\n",
       "      <th>topic</th>\n",
       "      <th>text</th>\n",
       "      <th>num_replies</th>\n",
       "      <th>time_last_reply</th>\n",
       "    </tr>\n",
       "    <tr>\n",
       "      <th>date</th>\n",
       "      <th></th>\n",
       "      <th></th>\n",
       "      <th></th>\n",
       "      <th></th>\n",
       "      <th></th>\n",
       "    </tr>\n",
       "  </thead>\n",
       "  <tbody>\n",
       "    <tr>\n",
       "      <th>2016-05-23 21:32:00</th>\n",
       "      <td>Lylirra</td>\n",
       "      <td>Welcome to General Discussion - Please Read!</td>\n",
       "      <td>Welcome to the General Discussion forum! We en...</td>\n",
       "      <td>1</td>\n",
       "      <td>May 23, 2016</td>\n",
       "    </tr>\n",
       "    <tr>\n",
       "      <th>2016-05-23 21:36:00</th>\n",
       "      <td>Lylirra</td>\n",
       "      <td>Bug Report and Technical Support Forums</td>\n",
       "      <td>To help us get the most of out of your feedbac...</td>\n",
       "      <td>0</td>\n",
       "      <td>May 23, 2016</td>\n",
       "    </tr>\n",
       "    <tr>\n",
       "      <th>2016-05-23 23:34:00</th>\n",
       "      <td>Ralavik</td>\n",
       "      <td>Could this be...</td>\n",
       "      <td>A new topic?</td>\n",
       "      <td>1</td>\n",
       "      <td>Jun 19, 2016</td>\n",
       "    </tr>\n",
       "    <tr>\n",
       "      <th>2016-05-23 23:37:00</th>\n",
       "      <td>umadbro</td>\n",
       "      <td>Who else dropped Battleborn like a brick</td>\n",
       "      <td>I'm curious what kind of exodus Battleborn wil...</td>\n",
       "      <td>48</td>\n",
       "      <td>Sep 10, 2016</td>\n",
       "    </tr>\n",
       "    <tr>\n",
       "      <th>2016-05-23 23:38:00</th>\n",
       "      <td>Bammer</td>\n",
       "      <td>Looking for skilled players</td>\n",
       "      <td>Want to find a decent team to hang out and put...</td>\n",
       "      <td>1</td>\n",
       "      <td>May 27, 2016</td>\n",
       "    </tr>\n",
       "  </tbody>\n",
       "</table>\n",
       "</div>"
      ],
      "text/plain": [
       "                        user                                         topic  \\\n",
       "date                                                                         \n",
       "2016-05-23 21:32:00  Lylirra  Welcome to General Discussion - Please Read!   \n",
       "2016-05-23 21:36:00  Lylirra       Bug Report and Technical Support Forums   \n",
       "2016-05-23 23:34:00  Ralavik                              Could this be...   \n",
       "2016-05-23 23:37:00  umadbro      Who else dropped Battleborn like a brick   \n",
       "2016-05-23 23:38:00   Bammer                   Looking for skilled players   \n",
       "\n",
       "                                                                  text  \\\n",
       "date                                                                     \n",
       "2016-05-23 21:32:00  Welcome to the General Discussion forum! We en...   \n",
       "2016-05-23 21:36:00  To help us get the most of out of your feedbac...   \n",
       "2016-05-23 23:34:00                                       A new topic?   \n",
       "2016-05-23 23:37:00  I'm curious what kind of exodus Battleborn wil...   \n",
       "2016-05-23 23:38:00  Want to find a decent team to hang out and put...   \n",
       "\n",
       "                     num_replies time_last_reply  \n",
       "date                                              \n",
       "2016-05-23 21:32:00            1    May 23, 2016  \n",
       "2016-05-23 21:36:00            0    May 23, 2016  \n",
       "2016-05-23 23:34:00            1    Jun 19, 2016  \n",
       "2016-05-23 23:37:00           48    Sep 10, 2016  \n",
       "2016-05-23 23:38:00            1    May 27, 2016  "
      ]
     },
     "execution_count": 18,
     "metadata": {},
     "output_type": "execute_result"
    }
   ],
   "source": [
    "master_db.head()"
   ]
  },
  {
   "cell_type": "markdown",
   "metadata": {},
   "source": [
    "***"
   ]
  },
  {
   "cell_type": "markdown",
   "metadata": {},
   "source": [
    "<div align=\"right\">\n",
    "    [back to top](#toc)\n",
    "</div>\n",
    "\n",
    "\n",
    "<a id='section3'></a>\n",
    "\n",
    "## 3) Basic EDA\n",
    "(This may also take a minute)"
   ]
  },
  {
   "cell_type": "code",
   "execution_count": 19,
   "metadata": {
    "collapsed": false,
    "scrolled": false
   },
   "outputs": [
    {
     "name": "stdout",
     "output_type": "stream",
     "text": [
      "Size of dataset = 353.467733 MB\n",
      "Number of forum posts = 425720\n",
      "Number of posts dropped due to NaN: 2440\n",
      "Feature names: ['user', 'topic', 'text', 'num_replies', 'time_last_reply']\n",
      "Most replies a post received: 8749\n",
      "Average number of replies per post: 9.973618810485766\n",
      "Number of unique users: 84977\n",
      "Number of users with over 50 posts: 1362\n",
      "Average number of posts per user: 5.009826188262706\n",
      "Oldest Post in Dataset: 2016-05-23 21:32:00\n",
      "Newest Post in Dataset: 2017-11-18 04:53:00\n",
      "\n",
      "\n",
      "Here's a sample of the data:\n"
     ]
    },
    {
     "data": {
      "text/html": [
       "<div>\n",
       "<table border=\"1\" class=\"dataframe\">\n",
       "  <thead>\n",
       "    <tr style=\"text-align: right;\">\n",
       "      <th></th>\n",
       "      <th>user</th>\n",
       "      <th>topic</th>\n",
       "      <th>text</th>\n",
       "      <th>num_replies</th>\n",
       "      <th>time_last_reply</th>\n",
       "    </tr>\n",
       "    <tr>\n",
       "      <th>date</th>\n",
       "      <th></th>\n",
       "      <th></th>\n",
       "      <th></th>\n",
       "      <th></th>\n",
       "      <th></th>\n",
       "    </tr>\n",
       "  </thead>\n",
       "  <tbody>\n",
       "    <tr>\n",
       "      <th>2016-05-23 21:32:00</th>\n",
       "      <td>Lylirra</td>\n",
       "      <td>Welcome to General Discussion - Please Read!</td>\n",
       "      <td>Welcome to the General Discussion forum! We en...</td>\n",
       "      <td>1</td>\n",
       "      <td>May 23, 2016</td>\n",
       "    </tr>\n",
       "    <tr>\n",
       "      <th>2016-05-23 21:36:00</th>\n",
       "      <td>Lylirra</td>\n",
       "      <td>Bug Report and Technical Support Forums</td>\n",
       "      <td>To help us get the most of out of your feedbac...</td>\n",
       "      <td>0</td>\n",
       "      <td>May 23, 2016</td>\n",
       "    </tr>\n",
       "    <tr>\n",
       "      <th>2016-05-23 23:34:00</th>\n",
       "      <td>Ralavik</td>\n",
       "      <td>Could this be...</td>\n",
       "      <td>A new topic?</td>\n",
       "      <td>1</td>\n",
       "      <td>Jun 19, 2016</td>\n",
       "    </tr>\n",
       "    <tr>\n",
       "      <th>2016-05-23 23:37:00</th>\n",
       "      <td>umadbro</td>\n",
       "      <td>Who else dropped Battleborn like a brick</td>\n",
       "      <td>I'm curious what kind of exodus Battleborn wil...</td>\n",
       "      <td>48</td>\n",
       "      <td>Sep 10, 2016</td>\n",
       "    </tr>\n",
       "    <tr>\n",
       "      <th>2016-05-23 23:38:00</th>\n",
       "      <td>Bammer</td>\n",
       "      <td>Looking for skilled players</td>\n",
       "      <td>Want to find a decent team to hang out and put...</td>\n",
       "      <td>1</td>\n",
       "      <td>May 27, 2016</td>\n",
       "    </tr>\n",
       "  </tbody>\n",
       "</table>\n",
       "</div>"
      ],
      "text/plain": [
       "                        user                                         topic  \\\n",
       "date                                                                         \n",
       "2016-05-23 21:32:00  Lylirra  Welcome to General Discussion - Please Read!   \n",
       "2016-05-23 21:36:00  Lylirra       Bug Report and Technical Support Forums   \n",
       "2016-05-23 23:34:00  Ralavik                              Could this be...   \n",
       "2016-05-23 23:37:00  umadbro      Who else dropped Battleborn like a brick   \n",
       "2016-05-23 23:38:00   Bammer                   Looking for skilled players   \n",
       "\n",
       "                                                                  text  \\\n",
       "date                                                                     \n",
       "2016-05-23 21:32:00  Welcome to the General Discussion forum! We en...   \n",
       "2016-05-23 21:36:00  To help us get the most of out of your feedbac...   \n",
       "2016-05-23 23:34:00                                       A new topic?   \n",
       "2016-05-23 23:37:00  I'm curious what kind of exodus Battleborn wil...   \n",
       "2016-05-23 23:38:00  Want to find a decent team to hang out and put...   \n",
       "\n",
       "                     num_replies time_last_reply  \n",
       "date                                              \n",
       "2016-05-23 21:32:00            1    May 23, 2016  \n",
       "2016-05-23 21:36:00            0    May 23, 2016  \n",
       "2016-05-23 23:34:00            1    Jun 19, 2016  \n",
       "2016-05-23 23:37:00           48    Sep 10, 2016  \n",
       "2016-05-23 23:38:00            1    May 27, 2016  "
      ]
     },
     "execution_count": 19,
     "metadata": {},
     "output_type": "execute_result"
    }
   ],
   "source": [
    "total_posts = master_db.shape[0]\n",
    "total_users = len(set(master_db['user']))\n",
    "avg_post = total_posts/total_users\n",
    "\n",
    "#find number of users with more than 50 posts\n",
    "counter = Counter(master_db['user'])\n",
    "over_50_posts = 0\n",
    "for values in counter.items():\n",
    "    if values[1] >= 50:\n",
    "        over_50_posts += 1\n",
    "\n",
    "print(\"Size of dataset = {} MB\".format(sys.getsizeof(master_db)/1000000))\n",
    "print(\"Number of forum posts = {}\".format(total_posts))\n",
    "print(\"Number of posts dropped due to NaN: {}\".format(rows_before-master_db.shape[0]))\n",
    "print(\"Feature names: {}\".format(list(master_db)))\n",
    "print(\"Most replies a post received: {}\".format(max(master_db['num_replies'])))\n",
    "print(\"Average number of replies per post: {}\".format(np.mean(master_db['num_replies'])))\n",
    "print(\"Number of unique users: {}\".format(len(set(master_db['user']))))\n",
    "print(\"Number of users with over 50 posts: {}\".format(over_50_posts))\n",
    "print(\"Average number of posts per user: {}\".format(avg_post))\n",
    "print(\"Oldest Post in Dataset: {}\".format(master_db.head(n=1).index.tolist()[0]))\n",
    "print(\"Newest Post in Dataset: {}\".format(master_db.tail(n=1).index.tolist()[0]))\n",
    "print(\"\\n\")\n",
    "print(\"Here's a sample of the data:\")\n",
    "master_db.head()"
   ]
  },
  {
   "cell_type": "markdown",
   "metadata": {},
   "source": [
    "**Note on quantity of data:** This dataset does not look at the text in replies to forum post, it only looks at the forum post text itself. However because we see an average of about 10 replies per post, if we assume that the replies to a post have about as much text each as the post itself (actually seems possible for this forum) then gathering this data would increase our dataset by an order of magnitude. Something to keep in mind if \"needing more data\" seems like a problem down the line."
   ]
  },
  {
   "cell_type": "markdown",
   "metadata": {},
   "source": [
    "***"
   ]
  },
  {
   "cell_type": "markdown",
   "metadata": {},
   "source": [
    "<div align=\"right\">\n",
    "    [back to top](#toc)\n",
    "</div>\n",
    "\n",
    "<a id=\"section4\"></a>\n",
    "\n",
    "## 4) Exploring \"per month\" slices\n",
    "\n",
    "Because dates range from 2016-05-23 to 2017-11-18 we will be able to make 17 \"per month slices\" starting with June 2016 and ending with October 2017."
   ]
  },
  {
   "cell_type": "code",
   "execution_count": 23,
   "metadata": {
    "collapsed": false
   },
   "outputs": [],
   "source": [
    "month_1_text = master_db[\"2016-06-01\":\"2016-06-30\"][[\"user\",\"topic\",\"text\"]]\n",
    "month_1_users = len(set(month_1_text['user'])) # num of unique users this month"
   ]
  },
  {
   "cell_type": "code",
   "execution_count": 24,
   "metadata": {
    "collapsed": false
   },
   "outputs": [
    {
     "data": {
      "text/html": [
       "<div>\n",
       "<table border=\"1\" class=\"dataframe\">\n",
       "  <thead>\n",
       "    <tr style=\"text-align: right;\">\n",
       "      <th></th>\n",
       "      <th>user</th>\n",
       "      <th>topic</th>\n",
       "      <th>text</th>\n",
       "    </tr>\n",
       "    <tr>\n",
       "      <th>date</th>\n",
       "      <th></th>\n",
       "      <th></th>\n",
       "      <th></th>\n",
       "    </tr>\n",
       "  </thead>\n",
       "  <tbody>\n",
       "    <tr>\n",
       "      <th>2016-06-01</th>\n",
       "      <td>NigDodge</td>\n",
       "      <td>Losing a game 5 seconds after joining</td>\n",
       "      <td>Happens to me a lot. And I !@#$ing hate it.</td>\n",
       "    </tr>\n",
       "    <tr>\n",
       "      <th>2016-06-01</th>\n",
       "      <td>DragonLight</td>\n",
       "      <td>Why PS4 announcement  appearing on the PC version</td>\n",
       "      <td>Look at the breaking news . says PS4 issues. w...</td>\n",
       "    </tr>\n",
       "    <tr>\n",
       "      <th>2016-06-01</th>\n",
       "      <td>Deus</td>\n",
       "      <td>Why not give \"Fan the Hammer\" a cooldown?</td>\n",
       "      <td>Yeah he can still flash-fan but he won't be th...</td>\n",
       "    </tr>\n",
       "  </tbody>\n",
       "</table>\n",
       "</div>"
      ],
      "text/plain": [
       "                   user                                              topic  \\\n",
       "date                                                                         \n",
       "2016-06-01     NigDodge              Losing a game 5 seconds after joining   \n",
       "2016-06-01  DragonLight  Why PS4 announcement  appearing on the PC version   \n",
       "2016-06-01         Deus          Why not give \"Fan the Hammer\" a cooldown?   \n",
       "\n",
       "                                                         text  \n",
       "date                                                           \n",
       "2016-06-01        Happens to me a lot. And I !@#$ing hate it.  \n",
       "2016-06-01  Look at the breaking news . says PS4 issues. w...  \n",
       "2016-06-01  Yeah he can still flash-fan but he won't be th...  "
      ]
     },
     "execution_count": 24,
     "metadata": {},
     "output_type": "execute_result"
    }
   ],
   "source": [
    "month_1_text.head(n=3)"
   ]
  },
  {
   "cell_type": "code",
   "execution_count": 25,
   "metadata": {
    "collapsed": false
   },
   "outputs": [
    {
     "data": {
      "text/html": [
       "<div>\n",
       "<table border=\"1\" class=\"dataframe\">\n",
       "  <thead>\n",
       "    <tr style=\"text-align: right;\">\n",
       "      <th></th>\n",
       "      <th>user</th>\n",
       "      <th>topic</th>\n",
       "      <th>text</th>\n",
       "    </tr>\n",
       "    <tr>\n",
       "      <th>date</th>\n",
       "      <th></th>\n",
       "      <th></th>\n",
       "      <th></th>\n",
       "    </tr>\n",
       "  </thead>\n",
       "  <tbody>\n",
       "    <tr>\n",
       "      <th>2016-06-30</th>\n",
       "      <td>Neko</td>\n",
       "      <td>why the bug-PTR bug forum rarely got respond</td>\n",
       "      <td>I will post this here. if it seem inappropriat...</td>\n",
       "    </tr>\n",
       "    <tr>\n",
       "      <th>2016-06-30</th>\n",
       "      <td>MackeySackey</td>\n",
       "      <td>Got a loss on a win</td>\n",
       "      <td>I was playing a game of competitive play and m...</td>\n",
       "    </tr>\n",
       "    <tr>\n",
       "      <th>2016-06-30</th>\n",
       "      <td>Paso</td>\n",
       "      <td>Feedback on people leaving during Competitive ...</td>\n",
       "      <td>This post is just some personal experience in ...</td>\n",
       "    </tr>\n",
       "  </tbody>\n",
       "</table>\n",
       "</div>"
      ],
      "text/plain": [
       "                    user                                              topic  \\\n",
       "date                                                                          \n",
       "2016-06-30          Neko       why the bug-PTR bug forum rarely got respond   \n",
       "2016-06-30  MackeySackey                                Got a loss on a win   \n",
       "2016-06-30          Paso  Feedback on people leaving during Competitive ...   \n",
       "\n",
       "                                                         text  \n",
       "date                                                           \n",
       "2016-06-30  I will post this here. if it seem inappropriat...  \n",
       "2016-06-30  I was playing a game of competitive play and m...  \n",
       "2016-06-30  This post is just some personal experience in ...  "
      ]
     },
     "execution_count": 25,
     "metadata": {},
     "output_type": "execute_result"
    }
   ],
   "source": [
    "month_1_text.tail(n=3)"
   ]
  },
  {
   "cell_type": "markdown",
   "metadata": {},
   "source": [
    "So we see that we've isolated one month of posts..."
   ]
  },
  {
   "cell_type": "code",
   "execution_count": 26,
   "metadata": {
    "collapsed": false
   },
   "outputs": [
    {
     "name": "stdout",
     "output_type": "stream",
     "text": [
      "Unique users this month: 8817\n",
      "Average posts per user this month: 2.2253600998071907\n"
     ]
    }
   ],
   "source": [
    "print(\"Unique users this month: {}\".format(month_1_users))\n",
    "print(\"Average posts per user this month: {}\".format(month_1_text.shape[0]/month_1_users))"
   ]
  },
  {
   "cell_type": "code",
   "execution_count": null,
   "metadata": {
    "collapsed": true
   },
   "outputs": [],
   "source": []
  },
  {
   "cell_type": "markdown",
   "metadata": {},
   "source": [
    "<div align=right>\n",
    "    [back to top](#toc)\n",
    "</div>\n",
    "\n",
    "<a id=\"section5\"></a>\n",
    "\n",
    "### Step 5) Tokenize posts"
   ]
  },
  {
   "cell_type": "code",
   "execution_count": 102,
   "metadata": {
    "collapsed": false
   },
   "outputs": [
    {
     "name": "stdout",
     "output_type": "stream",
     "text": [
      "[('.', 107771), (',', 84363), ('I', 54400), ('?', 18793), (\"'s\", 17386), ('game', 16595), (\"n't\", 16186), (')', 11828), ('team', 11460), (':', 11161), ('like', 10567), ('(', 10503), ('would', 9683), ('get', 9163), ('play', 9038), ('people', 7929), ('``', 7250), (\"''\", 7138), ('!', 6882), ('one', 6820), ('time', 6308), (\"'m\", 6248), ('...', 6133), ('players', 6028), ('damage', 5400), ('even', 5355), ('think', 5314), ('It', 5190), ('The', 5123), ('know', 4814), ('games', 4799), ('-', 4729), ('really', 4598), ('see', 4432), ('--', 4407), ('This', 4393), ('could', 4175), ('make', 4152), ('playing', 4066), ('good', 4021), ('want', 3946), ('match', 3830), ('much', 3830), ('way', 3742), ('hero', 3678), ('%', 3659), ('If', 3624), ('So', 3472), ('2', 3446), ('player', 3407)]\n"
     ]
    }
   ],
   "source": [
    "print(counts.most_common(50))"
   ]
  },
  {
   "cell_type": "code",
   "execution_count": 168,
   "metadata": {
    "collapsed": false,
    "scrolled": true
   },
   "outputs": [
    {
     "data": {
      "text/plain": [
       "[('.', 107356),\n",
       " (',', 84073),\n",
       " ('I', 54177),\n",
       " ('?', 18334),\n",
       " (\"'s\", 17340),\n",
       " ('game', 16535),\n",
       " (\"n't\", 16133),\n",
       " (')', 11783),\n",
       " ('team', 11442),\n",
       " ('like', 10533),\n",
       " ('(', 10453),\n",
       " (':', 10052),\n",
       " ('would', 9658),\n",
       " ('get', 9143),\n",
       " ('play', 9011),\n",
       " ('people', 7904),\n",
       " ('``', 7221),\n",
       " (\"''\", 7115),\n",
       " ('!', 6824),\n",
       " ('one', 6799),\n",
       " ('time', 6293),\n",
       " (\"'m\", 6219),\n",
       " ('...', 6096),\n",
       " ('players', 6012),\n",
       " ('damage', 5387),\n",
       " ('even', 5346),\n",
       " ('think', 5287),\n",
       " ('It', 5177),\n",
       " ('The', 5108),\n",
       " ('know', 4791),\n",
       " ('games', 4785),\n",
       " ('-', 4708),\n",
       " ('really', 4582),\n",
       " ('see', 4401),\n",
       " ('--', 4400),\n",
       " ('This', 4362),\n",
       " ('could', 4164),\n",
       " ('make', 4138),\n",
       " ('playing', 4060),\n",
       " ('good', 4006),\n",
       " ('want', 3935),\n",
       " ('much', 3821),\n",
       " ('match', 3819),\n",
       " ('way', 3730),\n",
       " ('hero', 3663),\n",
       " ('%', 3622),\n",
       " ('If', 3609),\n",
       " ('So', 3458),\n",
       " ('2', 3438),\n",
       " ('player', 3399)]"
      ]
     },
     "execution_count": 168,
     "metadata": {},
     "output_type": "execute_result"
    }
   ],
   "source": [
    "freqdist = count_tokens(month_1_text[\"text\"])\n",
    "freqdist.most_common(50)"
   ]
  },
  {
   "cell_type": "code",
   "execution_count": null,
   "metadata": {
    "collapsed": true
   },
   "outputs": [],
   "source": []
  },
  {
   "cell_type": "code",
   "execution_count": null,
   "metadata": {
    "collapsed": true
   },
   "outputs": [],
   "source": []
  },
  {
   "cell_type": "markdown",
   "metadata": {},
   "source": [
    "***"
   ]
  },
  {
   "cell_type": "code",
   "execution_count": 45,
   "metadata": {
    "collapsed": false
   },
   "outputs": [],
   "source": [
    "sc2_db = sc2_db.drop('Unnamed: 0', axis=1)"
   ]
  },
  {
   "cell_type": "code",
   "execution_count": 59,
   "metadata": {
    "collapsed": false
   },
   "outputs": [],
   "source": [
    "test = sc2_db.loc[sc2_db['num_replies'] == 2762][\"text\"]"
   ]
  },
  {
   "cell_type": "code",
   "execution_count": 69,
   "metadata": {
    "collapsed": false
   },
   "outputs": [
    {
     "data": {
      "text/plain": [
       "'Is there anyway to get your online character name changed? The game was set up for me, and they chose the name for me.'"
      ]
     },
     "execution_count": 69,
     "metadata": {},
     "output_type": "execute_result"
    }
   ],
   "source": [
    "test.iloc[0]"
   ]
  },
  {
   "cell_type": "code",
   "execution_count": 72,
   "metadata": {
    "collapsed": true
   },
   "outputs": [],
   "source": [
    "sc2_db_test = sc2_db"
   ]
  },
  {
   "cell_type": "code",
   "execution_count": 73,
   "metadata": {
    "collapsed": true
   },
   "outputs": [],
   "source": [
    "sc2_db_test = sc2_db_test.set_index(['date'])"
   ]
  },
  {
   "cell_type": "code",
   "execution_count": 79,
   "metadata": {
    "collapsed": false
   },
   "outputs": [
    {
     "data": {
      "text/plain": [
       "15.189090946168474"
      ]
     },
     "execution_count": 79,
     "metadata": {},
     "output_type": "execute_result"
    }
   ],
   "source": [
    "sc2_db_test['num_replies'].mean()"
   ]
  },
  {
   "cell_type": "code",
   "execution_count": null,
   "metadata": {
    "collapsed": true
   },
   "outputs": [],
   "source": []
  }
 ],
 "metadata": {
  "anaconda-cloud": {},
  "kernelspec": {
   "display_name": "Python [conda root]",
   "language": "python",
   "name": "conda-root-py"
  },
  "language_info": {
   "codemirror_mode": {
    "name": "ipython",
    "version": 3
   },
   "file_extension": ".py",
   "mimetype": "text/x-python",
   "name": "python",
   "nbconvert_exporter": "python",
   "pygments_lexer": "ipython3",
   "version": "3.5.2"
  }
 },
 "nbformat": 4,
 "nbformat_minor": 2
}
