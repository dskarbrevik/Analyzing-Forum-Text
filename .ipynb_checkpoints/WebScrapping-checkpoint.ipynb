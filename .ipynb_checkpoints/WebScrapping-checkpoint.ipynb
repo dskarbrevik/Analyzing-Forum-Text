{
 "cells": [
  {
   "cell_type": "markdown",
   "metadata": {},
   "source": [
    "# Part 1: Gathering Forum Data"
   ]
  },
  {
   "cell_type": "code",
   "execution_count": null,
   "metadata": {
    "collapsed": true
   },
   "outputs": [],
   "source": [
    "print(\"hi\")"
   ]
  },
  {
   "cell_type": "markdown",
   "metadata": {},
   "source": [
    "Author: David Skarbrevik\n",
    "\n",
    "W266 NLP course \n",
    "\n",
    "Fall 2017\n",
    "\n",
    "Part 1 of Final Project"
   ]
  },
  {
   "cell_type": "markdown",
   "metadata": {},
   "source": [
    "### Make a class to gather our data for us"
   ]
  },
  {
   "cell_type": "code",
   "execution_count": null,
   "metadata": {
    "collapsed": false
   },
   "outputs": [],
   "source": [
    "from bs4 import BeautifulSoup as soup\n",
    "from urllib.request import urlopen\n",
    "import re\n",
    "import os\n",
    "import pandas as pd\n",
    "from collections import defaultdict\n",
    "\n",
    "class Blizzard_Forum_Scraper():\n",
    "    \n",
    "    overwatch_forum_url = \"overwatch/22813879\"\n",
    "    sc2_forum_url = \"sc2/40568\"\n",
    "    \n",
    "    def __init__(self, forum_type):\n",
    "        \n",
    "        if forum_type not in [\"sc2\",\"overwatch\"]:\n",
    "            raise NameError(\"please set 'forum_type' paramater to 'sc2' or 'overwatch'\") \n",
    "        \n",
    "        self.forum_type = forum_type\n",
    "        self.tmp_data = defaultdict(lambda: []) # all data will be stored here and converted to Pandas Dataframe\n",
    "        self.data_pd = pd.DataFrame()\n",
    "\n",
    "    def get_forum_pages(self, initial_page = 1, max_page = 10000, output=True):\n",
    "        \n",
    "        ##########################################\n",
    "        # Step 1) try to catch user input errors #\n",
    "        ##########################################\n",
    "        if type(initial_page) != int:\n",
    "            raise TypeError(\"type(initial_page) was set to a '{}' but must be type 'int'\".format(type(initial_page.__name__)))\n",
    "        elif initial_page <= 0:\n",
    "            raise Exception(\"initial_page must be an 'int' greater than 0\")\n",
    "    \n",
    "        if type(max_page) != int:\n",
    "            raise TypeError(\"type(max_page) was set to a '{}' but must be type 'int'\".format(type(max_page.__name__)))\n",
    "        elif max_page < initial_page:\n",
    "            raise Exception(\"max_page must be greater than or equal to initial_page\")\n",
    "        if output not in (True, False):\n",
    "            raise TypeError(\"output parameter must be a boolean.\")\n",
    "        \n",
    "        if output:\n",
    "            file_name = \"{0}_database.csv\".format(self.forum_type)\n",
    "            save_location = os.getcwd()+\"\\{}\".format(file_name)\n",
    "            if os.path.isfile(file_name):\n",
    "                raise Exception(\"{} already exists. Please remove that file before calling this function.\".format(file_name)) \n",
    "        else:\n",
    "            raise NameError('set output parameter to \"csv\" or \"json\" or False') \n",
    "\n",
    "        \n",
    "        ##########################################################\n",
    "        # Step 2) set up important variables for data collection #\n",
    "        ##########################################################\n",
    "        if self.tmp_data:\n",
    "            self.tmp_data = defaultdict(lambda: [])\n",
    "        \n",
    "        if self.forum_type == \"sc2\":\n",
    "            forum_of_interest = self.sc2_forum_url\n",
    "        elif self.forum_type == \"overwatch\":\n",
    "            forum_of_interest = self.overwatch_forum_url\n",
    "\n",
    "        url_page_num = initial_page\n",
    "        forum_data_class = re.compile(r'^ForumTopic[^(-timestamp*)]*$')\n",
    "        num_page_count = 0 # important for batch saving to disk\n",
    "\n",
    "\n",
    "        ###########################################################\n",
    "        # Step 3) loop over all desired pages to gather html data #\n",
    "        ###########################################################\n",
    "        while True:\n",
    "            num_page_count += 1\n",
    "#             if url_page_num % 10 == 0:\n",
    "#                 print(\"Currently reading page {}\".format(url_page_num))\n",
    "            forum_url = 'https://us.battle.net/forums/en/{specific_forum}/?page={curr_page}'.format(specific_forum = forum_of_interest,                            \n",
    "            print(forum_url)                                                                                      curr_page = url_page_num)\n",
    "            \n",
    "            uClient = urlopen(forum_url)\n",
    "            page_html = uClient.read()\n",
    "            uClient.close()\n",
    "            \n",
    "            # parse the HTML\n",
    "            page_soup = soup(page_html, \"html.parser\")\n",
    "            \n",
    "            # stop if no more posts\n",
    "            if len(page_soup) == 0:\n",
    "                break\n",
    "            \n",
    "            soup_details = page_soup.findAll(\"a\",{\"class\":forum_data_class})\n",
    "\n",
    "            # extract all meaningful data from soup and save in a dictionary\n",
    "            for i in range(len(soup_details)):\n",
    "            \n",
    "                tmp_date = soup_details[i]['data-created-date']\n",
    "                tmp_time = soup_details[i]['data-created-time']\n",
    "                tmp_user = soup_details[i].find('span',{\"ForumTopic-author\"}).text\n",
    "                tmp_replies = soup_details[i].find('span',{\"ForumTopic-replies\"}).text\n",
    "                tmp_last_reply_time = soup_details[i].find('span',{\"ForumTopic-timestamp\"}).text.strip()\n",
    "                tmp_topic = soup_details[i].find('span',{\"ForumTopic-title\"}).text.strip()\n",
    "                tmp_text = soup_details[i].find('span',{\"ForumTopic--preview\"}).text\n",
    "                \n",
    "                tmp_list = [tmp_date, tmp_time, tmp_user, tmp_replies, tmp_last_reply_time, tmp_text]\n",
    "                for val in tmp_list:\n",
    "                    if val is None:\n",
    "                        raise Exception(\"Received None type data\")\n",
    "                \n",
    "                self.tmp_data[\"user\"].append(tmp_user)\n",
    "                self.tmp_data[\"topic\"].append(tmp_topic)\n",
    "                self.tmp_data[\"time\"].append(tmp_time)\n",
    "                self.tmp_data[\"date\"].append(tmp_date)\n",
    "                self.tmp_data[\"text\"].append(tmp_text)\n",
    "                self.tmp_data[\"num_replies\"].append(tmp_replies)\n",
    "                self.tmp_data[\"time_last_reply\"].append(tmp_last_reply_time)\n",
    "                \n",
    "                \n",
    "            # save in batches if parsing a lot of pages\n",
    "            if output is not False and (num_page_count % 100) == 0:\n",
    "                if self.data_pd.empty: # first time saving so include headers\n",
    "                    self.data_pd = pd.DataFrame.from_dict(self.tmp_data)\n",
    "                    self.data_pd.to_csv(file_name, index=False)\n",
    "                else: \n",
    "                    self.data_pd = pd.DataFrame.from_dict(self.tmp_data)\n",
    "                    self.data_pd.to_csv(file_name, mode='a', header=False, index=False)\n",
    "             \n",
    "                self.tmp_data = defaultdict(lambda: [])    \n",
    " \n",
    "            # stop if max page reached\n",
    "            if url_page_num >= max_page:\n",
    "                break\n",
    "             \n",
    "            url_page_num += 1\n",
    "        \n",
    "        #########################################################################\n",
    "        # Step 4) save to disk anything that wasn't already batch saved earlier #\n",
    "        #########################################################################\n",
    "        if output is not False:\n",
    "            if self.data_pd.empty:\n",
    "                self.data_pd = pd.DataFrame.from_dict(self.tmp_data)  \n",
    "                self.data_pd.to_csv(file_name, index=False)\n",
    "            else:\n",
    "                self.data_pd = pd.DataFrame.from_dict(self.tmp_data)\n",
    "                self.data_pd.to_csv(file_name, mode='a', index=False, header=False)\n",
    "        \n",
    "        return \"Web scrape complete! Database was saved to {}\".format(save_location)\n"
   ]
  },
  {
   "cell_type": "markdown",
   "metadata": {},
   "source": [
    "### Using our new scraper class"
   ]
  },
  {
   "cell_type": "code",
   "execution_count": 41,
   "metadata": {
    "collapsed": false
   },
   "outputs": [],
   "source": [
    "WebScraper = Blizzard_Forum_Scraper(forum_type=\"overwatch\")"
   ]
  },
  {
   "cell_type": "code",
   "execution_count": null,
   "metadata": {
    "collapsed": false
   },
   "outputs": [
    {
     "name": "stdout",
     "output_type": "stream",
     "text": [
      "Currently reading page 10\n",
      "Currently reading page 20\n",
      "Currently reading page 30\n",
      "Currently reading page 40\n",
      "Currently reading page 50\n",
      "Currently reading page 60\n",
      "Currently reading page 70\n",
      "Currently reading page 80\n",
      "Currently reading page 90\n",
      "Currently reading page 100\n",
      "Currently reading page 110\n",
      "Currently reading page 120\n",
      "Currently reading page 130\n",
      "Currently reading page 140\n",
      "Currently reading page 150\n",
      "Currently reading page 160\n",
      "Currently reading page 170\n",
      "Currently reading page 180\n",
      "Currently reading page 190\n",
      "Currently reading page 200\n",
      "Currently reading page 210\n",
      "Currently reading page 220\n",
      "Currently reading page 230\n",
      "Currently reading page 240\n",
      "Currently reading page 250\n",
      "Currently reading page 260\n",
      "Currently reading page 270\n",
      "Currently reading page 280\n",
      "Currently reading page 290\n",
      "Currently reading page 300\n",
      "Currently reading page 310\n",
      "Currently reading page 320\n",
      "Currently reading page 330\n",
      "Currently reading page 340\n",
      "Currently reading page 350\n",
      "Currently reading page 360\n",
      "Currently reading page 370\n",
      "Currently reading page 380\n",
      "Currently reading page 390\n",
      "Currently reading page 400\n",
      "Currently reading page 410\n",
      "Currently reading page 420\n",
      "Currently reading page 430\n",
      "Currently reading page 440\n",
      "Currently reading page 450\n",
      "Currently reading page 460\n",
      "Currently reading page 470\n",
      "Currently reading page 480\n",
      "Currently reading page 490\n",
      "Currently reading page 500\n",
      "Currently reading page 510\n",
      "Currently reading page 520\n",
      "Currently reading page 530\n",
      "Currently reading page 540\n",
      "Currently reading page 550\n",
      "Currently reading page 560\n",
      "Currently reading page 570\n",
      "Currently reading page 580\n",
      "Currently reading page 590\n",
      "Currently reading page 600\n",
      "Currently reading page 610\n",
      "Currently reading page 620\n",
      "Currently reading page 630\n",
      "Currently reading page 640\n",
      "Currently reading page 650\n",
      "Currently reading page 660\n",
      "Currently reading page 670\n",
      "Currently reading page 680\n",
      "Currently reading page 690\n",
      "Currently reading page 700\n",
      "Currently reading page 710\n",
      "Currently reading page 720\n",
      "Currently reading page 730\n",
      "Currently reading page 740\n",
      "Currently reading page 750\n",
      "Currently reading page 760\n",
      "Currently reading page 770\n",
      "Currently reading page 780\n",
      "Currently reading page 790\n",
      "Currently reading page 800\n",
      "Currently reading page 810\n",
      "Currently reading page 820\n"
     ]
    }
   ],
   "source": [
    "WebScraper.get_forum_pages(initial_page=1, max_page=8655)"
   ]
  },
  {
   "cell_type": "markdown",
   "metadata": {},
   "source": [
    "***"
   ]
  },
  {
   "cell_type": "markdown",
   "metadata": {},
   "source": [
    "## Testing Playground"
   ]
  },
  {
   "cell_type": "code",
   "execution_count": 167,
   "metadata": {
    "collapsed": false
   },
   "outputs": [
    {
     "data": {
      "text/plain": [
       "['some more text', 'some other text']"
      ]
     },
     "execution_count": 167,
     "metadata": {},
     "output_type": "execute_result"
    }
   ],
   "source": [
    "tester = defaultdict(lambda: defaultdict(lambda: []))\n",
    "\n",
    "tester[\"something\"][\"something_else\"].append(\"some more text\")\n",
    "tester[\"something\"][\"something_else\"].append(\"some other text\")\n",
    "\n",
    "tester[\"something\"][\"something_else\"]"
   ]
  },
  {
   "cell_type": "code",
   "execution_count": 23,
   "metadata": {
    "collapsed": false
   },
   "outputs": [
    {
     "name": "stdout",
     "output_type": "stream",
     "text": [
      "no df\n"
     ]
    }
   ],
   "source": [
    "fake_data =  pd.DataFrame()\n",
    "\n",
    "if fake_data.empty:\n",
    "    print(\"no df\")\n",
    "else:\n",
    "    print(\"there is a df\")"
   ]
  },
  {
   "cell_type": "code",
   "execution_count": 26,
   "metadata": {
    "collapsed": false
   },
   "outputs": [],
   "source": [
    "test = False\n",
    "\n",
    "if test is not False:\n",
    "    print(\"hi\")"
   ]
  },
  {
   "cell_type": "code",
   "execution_count": 97,
   "metadata": {
    "collapsed": false
   },
   "outputs": [
    {
     "ename": "TypeError",
     "evalue": "int() takes at most 2 arguments (3 given)",
     "output_type": "error",
     "traceback": [
      "\u001b[0;31m---------------------------------------------------------------------------\u001b[0m",
      "\u001b[0;31mTypeError\u001b[0m                                 Traceback (most recent call last)",
      "\u001b[0;32m<ipython-input-97-6561e6defd97>\u001b[0m in \u001b[0;36m<module>\u001b[0;34m()\u001b[0m\n\u001b[0;32m----> 1\u001b[0;31m \u001b[1;32mclass\u001b[0m \u001b[0mtest_class\u001b[0m\u001b[1;33m(\u001b[0m\u001b[1;36m0\u001b[0m\u001b[1;33m)\u001b[0m\u001b[1;33m:\u001b[0m\u001b[1;33m\u001b[0m\u001b[0m\n\u001b[0m\u001b[1;32m      2\u001b[0m     \u001b[1;32mdef\u001b[0m \u001b[0m__init__\u001b[0m\u001b[1;33m(\u001b[0m\u001b[0mself\u001b[0m\u001b[1;33m)\u001b[0m\u001b[1;33m:\u001b[0m\u001b[1;33m\u001b[0m\u001b[0m\n\u001b[1;32m      3\u001b[0m         \u001b[0mself\u001b[0m\u001b[1;33m.\u001b[0m\u001b[0mtest_val\u001b[0m \u001b[1;33m=\u001b[0m \u001b[0mtest_val\u001b[0m\u001b[1;33m\u001b[0m\u001b[0m\n\u001b[1;32m      4\u001b[0m \u001b[1;33m\u001b[0m\u001b[0m\n\u001b[1;32m      5\u001b[0m     \u001b[1;32mdef\u001b[0m \u001b[0mchange_val\u001b[0m\u001b[1;33m(\u001b[0m\u001b[0mself\u001b[0m\u001b[1;33m)\u001b[0m\u001b[1;33m:\u001b[0m\u001b[1;33m\u001b[0m\u001b[0m\n",
      "\u001b[0;31mTypeError\u001b[0m: int() takes at most 2 arguments (3 given)"
     ]
    }
   ],
   "source": [
    "class test_class():\n",
    "    def __init__(self):\n",
    "        self.test_val = test_val\n",
    "        \n",
    "    def change_val(self):\n",
    "        self.test_val = 4\n",
    "    \n",
    "    def print_val(self):\n",
    "        print (self.test_val)"
   ]
  },
  {
   "cell_type": "code",
   "execution_count": 27,
   "metadata": {
    "collapsed": false
   },
   "outputs": [
    {
     "ename": "SyntaxError",
     "evalue": "invalid syntax (<ipython-input-27-2ff6dca1a916>, line 9)",
     "output_type": "error",
     "traceback": [
      "\u001b[0;36m  File \u001b[0;32m\"<ipython-input-27-2ff6dca1a916>\"\u001b[0;36m, line \u001b[0;32m9\u001b[0m\n\u001b[0;31m    test_to_pd.\"{}\".format(\"to_csv\")(\"test_file.csv\", index=False)\u001b[0m\n\u001b[0m                  ^\u001b[0m\n\u001b[0;31mSyntaxError\u001b[0m\u001b[0;31m:\u001b[0m invalid syntax\n"
     ]
    }
   ],
   "source": [
    "test = defaultdict(lambda:0)\n",
    "\n",
    "test[\"user\"] = [\"user1\"]\n",
    "test[\"user\"].append(\"user2\")\n",
    "test[\"rating\"] = [\"3.0\"]\n",
    "test[\"rating\"].append(\"2.0\")\n",
    "\n",
    "test_to_pd = pd.DataFrame.from_dict(test)\n",
    "test_to_pd.\"{}\".format(\"to_csv\")(\"test_file.csv\", index=False)"
   ]
  },
  {
   "cell_type": "code",
   "execution_count": 22,
   "metadata": {
    "collapsed": false
   },
   "outputs": [],
   "source": [
    "test = defaultdict(lambda:0)\n",
    "test[\"user\"] = [\"user3\"]\n",
    "test[\"user\"].append(\"user4\")\n",
    "test[\"rating\"] = [\"4.0\"]\n",
    "test[\"rating\"].append(\"2.0\")\n",
    "df = pd.DataFrame.from_dict(test)\n",
    "df.to_csv(\"test_file.csv\", mode='a', header=False, index=False)\n",
    "# with open('test_file.csv', 'a') as file:\n",
    "#     df.to_csv(file, header=False, index=False)"
   ]
  },
  {
   "cell_type": "code",
   "execution_count": 4,
   "metadata": {
    "collapsed": false
   },
   "outputs": [
    {
     "name": "stdout",
     "output_type": "stream",
     "text": [
      " Volume in drive C has no label.\n",
      " Volume Serial Number is 6EC3-2C9D\n",
      "\n",
      " Directory of C:\\Users\\skarb\\Desktop\\GitHub\\Analyzing-Forum-Text\n",
      "\n",
      "11/17/2017  12:24 PM    <DIR>          .\n",
      "11/17/2017  12:24 PM    <DIR>          ..\n",
      "11/16/2017  10:57 AM    <DIR>          .ipynb_checkpoints\n",
      "11/16/2017  04:29 PM            66,757 EDA_on_SC2.ipynb\n",
      "11/15/2017  11:50 AM                53 README.md\n",
      "11/16/2017  10:44 AM       136,349,248 sc2_database.csv\n",
      "11/17/2017  12:24 PM                40 test_file.csv\n",
      "11/17/2017  12:22 PM           314,189 WebScrapping.ipynb\n",
      "               5 File(s)    136,730,287 bytes\n",
      "               3 Dir(s)  15,519,404,032 bytes free\n"
     ]
    }
   ],
   "source": [
    "!dir"
   ]
  },
  {
   "cell_type": "code",
   "execution_count": 95,
   "metadata": {
    "collapsed": false
   },
   "outputs": [
    {
     "name": "stdout",
     "output_type": "stream",
     "text": [
      "3\n",
      "4\n",
      "4\n"
     ]
    }
   ],
   "source": [
    "tester = test_class(3)\n",
    "tester.print_val()\n",
    "tester.change_val()\n",
    "tester.print_val()\n",
    "print(tester.test_val)"
   ]
  },
  {
   "cell_type": "code",
   "execution_count": 119,
   "metadata": {
    "collapsed": true
   },
   "outputs": [],
   "source": [
    "data = {\"user1\":{\"text\":[\"this, is some text they posted\",\"some other post from user1\"],\"time\":[\"11/2/2017\",\"11/3/2017\"]} , \n",
    "        \"user2\":{\"text\":[\"someone else said this thing\"],\"time\":[\"11/3/2017\"]}}\n",
    "\n",
    "#data_pd = pd.DataFrame.from_dict(data, orient=\"index\")"
   ]
  },
  {
   "cell_type": "code",
   "execution_count": 122,
   "metadata": {
    "collapsed": false
   },
   "outputs": [
    {
     "name": "stdout",
     "output_type": "stream",
     "text": [
      "defaultdict(<function <lambda> at 0x000002D21F3EC048>, {'someone else': 'hi again'})\n"
     ]
    }
   ],
   "source": [
    "from collections import defaultdict\n",
    "data = defaultdict(lambda: 0)\n",
    "data[\"someone else\"] = \"hi again\"\n",
    "print(data)"
   ]
  },
  {
   "cell_type": "code",
   "execution_count": 80,
   "metadata": {
    "collapsed": false
   },
   "outputs": [
    {
     "name": "stdout",
     "output_type": "stream",
     "text": [
      "he's there\n"
     ]
    }
   ],
   "source": [
    "new_user = \"user5\"\n",
    "\n",
    "if new_user in data:\n",
    "    print(\"he's there\")\n",
    "else:\n",
    "    print(\"nope\")\n",
    "    \n",
    "data[new_user] = {\"text\":[\"hiiii\"],\"time\":[\"11/24/2017\"]}\n",
    "data_pd_again = pd.DataFrame.from_dict(data, orient=\"index\")"
   ]
  },
  {
   "cell_type": "code",
   "execution_count": 81,
   "metadata": {
    "collapsed": false
   },
   "outputs": [
    {
     "data": {
      "text/html": [
       "<div>\n",
       "<table border=\"1\" class=\"dataframe\">\n",
       "  <thead>\n",
       "    <tr style=\"text-align: right;\">\n",
       "      <th></th>\n",
       "      <th>text</th>\n",
       "      <th>time</th>\n",
       "    </tr>\n",
       "  </thead>\n",
       "  <tbody>\n",
       "    <tr>\n",
       "      <th>user1</th>\n",
       "      <td>[this, is some text they posted, some other po...</td>\n",
       "      <td>[11/2/2017, 11/3/2017]</td>\n",
       "    </tr>\n",
       "    <tr>\n",
       "      <th>user2</th>\n",
       "      <td>[someone else said this thing]</td>\n",
       "      <td>[11/3/2017]</td>\n",
       "    </tr>\n",
       "    <tr>\n",
       "      <th>user5</th>\n",
       "      <td>[hiiii]</td>\n",
       "      <td>[11/24/2017]</td>\n",
       "    </tr>\n",
       "  </tbody>\n",
       "</table>\n",
       "</div>"
      ],
      "text/plain": [
       "                                                    text  \\\n",
       "user1  [this, is some text they posted, some other po...   \n",
       "user2                     [someone else said this thing]   \n",
       "user5                                            [hiiii]   \n",
       "\n",
       "                         time  \n",
       "user1  [11/2/2017, 11/3/2017]  \n",
       "user2             [11/3/2017]  \n",
       "user5            [11/24/2017]  "
      ]
     },
     "execution_count": 81,
     "metadata": {},
     "output_type": "execute_result"
    }
   ],
   "source": [
    "data_pd_again"
   ]
  },
  {
   "cell_type": "code",
   "execution_count": null,
   "metadata": {
    "collapsed": true
   },
   "outputs": [],
   "source": [
    "new_user = "
   ]
  },
  {
   "cell_type": "code",
   "execution_count": 105,
   "metadata": {
    "collapsed": false
   },
   "outputs": [
    {
     "data": {
      "text/html": [
       "<div>\n",
       "<table border=\"1\" class=\"dataframe\">\n",
       "  <thead>\n",
       "    <tr style=\"text-align: right;\">\n",
       "      <th></th>\n",
       "      <th>text</th>\n",
       "      <th>time</th>\n",
       "    </tr>\n",
       "  </thead>\n",
       "  <tbody>\n",
       "    <tr>\n",
       "      <th>user1</th>\n",
       "      <td>[this, is some text they posted, some other po...</td>\n",
       "      <td>[11/2/2017, 11/3/2017]</td>\n",
       "    </tr>\n",
       "    <tr>\n",
       "      <th>user2</th>\n",
       "      <td>[someone else said this thing]</td>\n",
       "      <td>[11/3/2017]</td>\n",
       "    </tr>\n",
       "  </tbody>\n",
       "</table>\n",
       "</div>"
      ],
      "text/plain": [
       "                                                    text  \\\n",
       "user1  [this, is some text they posted, some other po...   \n",
       "user2                     [someone else said this thing]   \n",
       "\n",
       "                         time  \n",
       "user1  [11/2/2017, 11/3/2017]  \n",
       "user2             [11/3/2017]  "
      ]
     },
     "execution_count": 105,
     "metadata": {},
     "output_type": "execute_result"
    }
   ],
   "source": [
    "new_data_pd = pd.DataFrame.from_dict(data, orient=\"index\")\n",
    "new_data_pd"
   ]
  },
  {
   "cell_type": "code",
   "execution_count": 106,
   "metadata": {
    "collapsed": false
   },
   "outputs": [],
   "source": [
    "new_data_pd.to_json(\"test_file.json\")"
   ]
  },
  {
   "cell_type": "code",
   "execution_count": 99,
   "metadata": {
    "collapsed": false
   },
   "outputs": [
    {
     "data": {
      "text/html": [
       "<div>\n",
       "<table border=\"1\" class=\"dataframe\">\n",
       "  <thead>\n",
       "    <tr style=\"text-align: right;\">\n",
       "      <th></th>\n",
       "      <th>text</th>\n",
       "      <th>time</th>\n",
       "    </tr>\n",
       "  </thead>\n",
       "  <tbody>\n",
       "    <tr>\n",
       "      <th>user1</th>\n",
       "      <td>[this, is some text they posted, some other po...</td>\n",
       "      <td>[11/2/2017, 11/3/2017]</td>\n",
       "    </tr>\n",
       "    <tr>\n",
       "      <th>user2</th>\n",
       "      <td>[someone else said this thing, some good ol text]</td>\n",
       "      <td>[11/3/2017, 11/4/2017]</td>\n",
       "    </tr>\n",
       "  </tbody>\n",
       "</table>\n",
       "</div>"
      ],
      "text/plain": [
       "                                                    text  \\\n",
       "user1  [this, is some text they posted, some other po...   \n",
       "user2  [someone else said this thing, some good ol text]   \n",
       "\n",
       "                         time  \n",
       "user1  [11/2/2017, 11/3/2017]  \n",
       "user2  [11/3/2017, 11/4/2017]  "
      ]
     },
     "execution_count": 99,
     "metadata": {},
     "output_type": "execute_result"
    }
   ],
   "source": [
    "new_data_pd"
   ]
  },
  {
   "cell_type": "code",
   "execution_count": 24,
   "metadata": {
    "collapsed": false
   },
   "outputs": [
    {
     "data": {
      "text/html": [
       "<div>\n",
       "<table border=\"1\" class=\"dataframe\">\n",
       "  <thead>\n",
       "    <tr style=\"text-align: right;\">\n",
       "      <th></th>\n",
       "      <th>text</th>\n",
       "      <th>time</th>\n",
       "    </tr>\n",
       "  </thead>\n",
       "  <tbody>\n",
       "    <tr>\n",
       "      <th>user1</th>\n",
       "      <td>[this, is some text they posted, some other po...</td>\n",
       "      <td>[11/2/2017, 11/3/2017]</td>\n",
       "    </tr>\n",
       "    <tr>\n",
       "      <th>user2</th>\n",
       "      <td>someone else said this thing</td>\n",
       "      <td>11/3/2017</td>\n",
       "    </tr>\n",
       "  </tbody>\n",
       "</table>\n",
       "</div>"
      ],
      "text/plain": [
       "                                                    text  \\\n",
       "user1  [this, is some text they posted, some other po...   \n",
       "user2                       someone else said this thing   \n",
       "\n",
       "                         time  \n",
       "user1  [11/2/2017, 11/3/2017]  \n",
       "user2               11/3/2017  "
      ]
     },
     "execution_count": 24,
     "metadata": {},
     "output_type": "execute_result"
    }
   ],
   "source": [
    "data_pd.head()"
   ]
  },
  {
   "cell_type": "code",
   "execution_count": 26,
   "metadata": {
    "collapsed": false
   },
   "outputs": [
    {
     "data": {
      "text/plain": [
       "Index(['user1', 'user2'], dtype='object')"
      ]
     },
     "execution_count": 26,
     "metadata": {},
     "output_type": "execute_result"
    }
   ],
   "source": [
    "data_pd.index"
   ]
  },
  {
   "cell_type": "code",
   "execution_count": 50,
   "metadata": {
    "collapsed": false
   },
   "outputs": [
    {
     "data": {
      "text/html": [
       "<div>\n",
       "<table border=\"1\" class=\"dataframe\">\n",
       "  <thead>\n",
       "    <tr style=\"text-align: right;\">\n",
       "      <th></th>\n",
       "      <th>text</th>\n",
       "      <th>time</th>\n",
       "    </tr>\n",
       "  </thead>\n",
       "  <tbody>\n",
       "    <tr>\n",
       "      <th>user1</th>\n",
       "      <td>[this, is some text they posted, some other po...</td>\n",
       "      <td>[11/2/2017, 11/3/2017]</td>\n",
       "    </tr>\n",
       "    <tr>\n",
       "      <th>user2</th>\n",
       "      <td>[someone else said this thing]</td>\n",
       "      <td>[11/3/2017]</td>\n",
       "    </tr>\n",
       "    <tr>\n",
       "      <th>user3</th>\n",
       "      <td>[making a new forum post]</td>\n",
       "      <td>[11/4/2017]</td>\n",
       "    </tr>\n",
       "  </tbody>\n",
       "</table>\n",
       "</div>"
      ],
      "text/plain": [
       "                                                    text  \\\n",
       "user1  [this, is some text they posted, some other po...   \n",
       "user2                     [someone else said this thing]   \n",
       "user3                          [making a new forum post]   \n",
       "\n",
       "                         time  \n",
       "user1  [11/2/2017, 11/3/2017]  \n",
       "user2             [11/3/2017]  \n",
       "user3             [11/4/2017]  "
      ]
     },
     "execution_count": 50,
     "metadata": {},
     "output_type": "execute_result"
    }
   ],
   "source": [
    "new_data = {\"user3\":{\"text\":[\"making a new forum post\"],\"time\":[\"11/4/2017\"]}}\n",
    "new_data_pd = pd.DataFrame.from_dict(new_data, orient=\"index\")\n",
    "data_pd = data_pd.append(new_data_pd)\n",
    "\n",
    "data_pd"
   ]
  },
  {
   "cell_type": "code",
   "execution_count": 45,
   "metadata": {
    "collapsed": false
   },
   "outputs": [
    {
     "data": {
      "text/html": [
       "<div>\n",
       "<table border=\"1\" class=\"dataframe\">\n",
       "  <thead>\n",
       "    <tr style=\"text-align: right;\">\n",
       "      <th></th>\n",
       "      <th>text</th>\n",
       "      <th>time</th>\n",
       "    </tr>\n",
       "  </thead>\n",
       "  <tbody>\n",
       "    <tr>\n",
       "      <th>user1</th>\n",
       "      <td>[this, is some text they posted, some other po...</td>\n",
       "      <td>[11/2/2017, 11/3/2017]</td>\n",
       "    </tr>\n",
       "    <tr>\n",
       "      <th>user2</th>\n",
       "      <td>someone else said this thing</td>\n",
       "      <td>11/3/2017</td>\n",
       "    </tr>\n",
       "  </tbody>\n",
       "</table>\n",
       "</div>"
      ],
      "text/plain": [
       "                                                    text  \\\n",
       "user1  [this, is some text they posted, some other po...   \n",
       "user2                       someone else said this thing   \n",
       "\n",
       "                         time  \n",
       "user1  [11/2/2017, 11/3/2017]  \n",
       "user2               11/3/2017  "
      ]
     },
     "execution_count": 45,
     "metadata": {},
     "output_type": "execute_result"
    }
   ],
   "source": [
    "data_pd"
   ]
  },
  {
   "cell_type": "code",
   "execution_count": null,
   "metadata": {
    "collapsed": true
   },
   "outputs": [],
   "source": []
  }
 ],
 "metadata": {
  "anaconda-cloud": {},
  "kernelspec": {
   "display_name": "Python [conda root]",
   "language": "python",
   "name": "conda-root-py"
  },
  "language_info": {
   "codemirror_mode": {
    "name": "ipython",
    "version": 3
   },
   "file_extension": ".py",
   "mimetype": "text/x-python",
   "name": "python",
   "nbconvert_exporter": "python",
   "pygments_lexer": "ipython3",
   "version": "3.5.2"
  }
 },
 "nbformat": 4,
 "nbformat_minor": 2
}
