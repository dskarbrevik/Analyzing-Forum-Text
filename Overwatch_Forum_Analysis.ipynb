{
 "cells": [
  {
   "cell_type": "markdown",
   "metadata": {
    "nbpresent": {
     "id": "828b046a-94e2-4c1b-974c-779f7ee8d981"
    }
   },
   "source": [
    "# Analyzing Overwatch Forum Posts"
   ]
  },
  {
   "cell_type": "markdown",
   "metadata": {
    "nbpresent": {
     "id": "c8faf55b-7972-4455-82ec-de8ab9e04d5c"
    }
   },
   "source": [
    "This is an analysis of data I scrapped from Blizzard's official Overwatch general discussion <a href=\"https://us.battle.net/forums/en/overwatch/22813879/\">forum</a>. For more information on how scrapping was performed or about this project in general, visit my repo <a href=\"https://github.com/dskarbrevik/W266_Project_Skarbrevik\">here</a>."
   ]
  },
  {
   "cell_type": "markdown",
   "metadata": {
    "nbpresent": {
     "id": "94ca5e9a-814a-479f-aa3f-400558a69e1d"
    }
   },
   "source": [
    "<a id=\"toc\"></a>\n",
    "\n",
    "## Table of Contents\n",
    "<ol>\n",
    "    <li>[Setting up the environment](#section1)</li>\n",
    "    <br>\n",
    "    <li>[Preprocessing the data](#section2)</li>\n",
    "    <br>\n",
    "    <li>[Exploratory Data Analysis](#section3)</li>\n",
    "    <br>\n",
    "    <li>[Creating \"per month\" slices](#section4)</li>\n",
    "    <br>\n",
    "    <li>[Creating bigram language models](#section5)</li>\n",
    "    <br>\n",
    "    <li>[Creating trigram language models](#section6)</li>\n",
    "</ol>"
   ]
  },
  {
   "cell_type": "markdown",
   "metadata": {
    "nbpresent": {
     "id": "7d992b0e-bd2d-4723-8437-8f88685b6af7"
    }
   },
   "source": [
    "***"
   ]
  },
  {
   "cell_type": "markdown",
   "metadata": {
    "nbpresent": {
     "id": "95841148-b7bb-4b07-b7dc-c9354715d165"
    }
   },
   "source": [
    "<a id='section1'></a>\n",
    "\n",
    "## 1) Setting up the environment\n",
    "\n"
   ]
  },
  {
   "cell_type": "markdown",
   "metadata": {
    "nbpresent": {
     "id": "286a04c4-7825-4d5a-8a6a-04a08783b514"
    }
   },
   "source": [
    "#### Import libraries"
   ]
  },
  {
   "cell_type": "code",
   "execution_count": 2,
   "metadata": {
    "collapsed": false,
    "nbpresent": {
     "id": "2d90d852-57de-4ea3-89ff-5ef03ba524a2"
    }
   },
   "outputs": [],
   "source": [
    "import pandas as pd\n",
    "import numpy as np\n",
    "import utils # utils.py can be found in repo; contains helper functions used in this notebook\n",
    "import nltk\n",
    "import re\n",
    "import sys\n",
    "import string\n",
    "import random\n",
    "from nltk.corpus import stopwords\n",
    "from nltk import word_tokenize, sent_tokenize\n",
    "from collections import Counter, defaultdict"
   ]
  },
  {
   "cell_type": "code",
   "execution_count": 73,
   "metadata": {
    "collapsed": false
   },
   "outputs": [
    {
     "data": {
      "text/plain": [
       "<module 'utils' from 'C:\\\\Users\\\\skarb\\\\Desktop\\\\GitHub\\\\Analyzing-Forum-Text\\\\utils.py'>"
      ]
     },
     "execution_count": 73,
     "metadata": {},
     "output_type": "execute_result"
    }
   ],
   "source": [
    "# in case I need to reload utils after editing it...\n",
    "\n",
    "import importlib\n",
    "importlib.reload(utils)"
   ]
  },
  {
   "cell_type": "markdown",
   "metadata": {
    "nbpresent": {
     "id": "4ea31050-e26d-456e-a9b3-46a502210758"
    }
   },
   "source": [
    "Note: nltk data must be downloaded prior to running cells further in this notebook. Run `nltk.download()` to install necessary data."
   ]
  },
  {
   "cell_type": "markdown",
   "metadata": {
    "nbpresent": {
     "id": "2c590bb8-e974-4ba9-bce1-947cf4c16b8e"
    }
   },
   "source": [
    "#### Import data"
   ]
  },
  {
   "cell_type": "code",
   "execution_count": 3,
   "metadata": {
    "collapsed": true,
    "nbpresent": {
     "id": "e9d0ac73-b857-47b9-a481-890870197764"
    }
   },
   "outputs": [],
   "source": [
    "ow_db1 = pd.read_csv(\"E:\\\\Data Science Playgrounds\\\\Blizzard Forums Project\\\\Web Scrapes\\\\11-18-17\\\\overwatch_database_1_5248.csv\", encoding = \"ISO-8859-1\")\n",
    "ow_db2 = pd.read_csv(\"E:\\\\Data Science Playgrounds\\\\Blizzard Forums Project\\\\Web Scrapes\\\\11-18-17\\\\overwatch_database_5249_7691.csv\", encoding = \"ISO-8859-1\")\n",
    "ow_db3 = pd.read_csv(\"E:\\\\Data Science Playgrounds\\\\Blizzard Forums Project\\\\Web Scrapes\\\\11-18-17\\\\overwatch_database_7692_8655.csv\", encoding = \"ISO-8859-1\")"
   ]
  },
  {
   "cell_type": "markdown",
   "metadata": {
    "nbpresent": {
     "id": "882cf1bc-cfaf-4942-9e2e-a2b29ad42261"
    }
   },
   "source": [
    "#### Concatenate data files"
   ]
  },
  {
   "cell_type": "code",
   "execution_count": 4,
   "metadata": {
    "collapsed": false,
    "nbpresent": {
     "id": "dc2d4af4-58ec-4996-919f-ea8f34b716b4"
    }
   },
   "outputs": [],
   "source": [
    "all_db = [ow_db1, ow_db2, ow_db3]\n",
    "master_db = pd.concat(all_db)\n",
    "before_preprocess = master_db.head() # save to compare later for fun"
   ]
  },
  {
   "cell_type": "markdown",
   "metadata": {
    "nbpresent": {
     "id": "61332c64-fbef-41db-a8e9-b4097e94d413"
    }
   },
   "source": [
    "***"
   ]
  },
  {
   "cell_type": "markdown",
   "metadata": {
    "nbpresent": {
     "id": "ae7bf158-e52c-4f86-b0a3-b8f663b91b87"
    }
   },
   "source": [
    "<div align=\"right\">\n",
    "    [back to top](#toc)\n",
    "</div>\n",
    "\n",
    "<a id='section2'></a>\n",
    "\n",
    "## 2) Preprocessing the data"
   ]
  },
  {
   "cell_type": "markdown",
   "metadata": {},
   "source": [
    "#### a) Remove duplicate posts: both exact duplicates and situations where a user just reposted the exact same topic text and post text\n",
    "\n",
    "Only after much anguish while troubleshooting the creation of my language models... I realized for some strange reason there are duplicate rows in this dataset. It's probably something you should always check for right away, but in my mind it seemed pretty silly to think that the Blizzard forum would have the exact same post displayed twice on their website... anyway now it's the first step in this notebook... \n",
    "\n",
    "[UPDATE!]\n",
    "\n",
    "After thinking I had solved my issue, it turns out that while the vanilla \"drop_duplicates()\" Pandas function did get rid of all exact copies of posts in the dataset, it didn't get rid of rows where just the \"user\" and \"text\" were identical. After debating whether these rows should be removed, I have decided to remove them as such posts are not in line with the idea of tracking changes in the user over time.\n",
    "\n",
    "[UPDATE... again]\n",
    "\n",
    "I have a function that creates a unified \"all_text\" column in the dataframe that is simply \"topic\" + \" \" + \"text\" OR if \"topic\" doesn't end in punctuation \"topic\" + \". \" + \"text\" (I add a period to separate the topic and text). Ultimately there isn't much reason for me to do it, but it revealed to me that some forum users made a post where the topic ended without punctuation and then made a new post that's exactly the same except now the topic has a \".\" at the end... I'm choosing to label these as duplicate posts as well and delete them but it makes me question how many other \"soft duplicates\" (just made that up) exist in the dataset. Intuitively there probably aren't that many since other users and moderators would certainly discourage such behavior from a given user. Also, the case I described about a user posting once without punctuation and again with punctuation occured only 16 times in over 400,000 posts, so again probably not a huge deal, but an interesting problem to consider.\n",
    "\n",
    "**... tl;dr this step is very important!**"
   ]
  },
  {
   "cell_type": "code",
   "execution_count": 5,
   "metadata": {
    "collapsed": false
   },
   "outputs": [
    {
     "name": "stdout",
     "output_type": "stream",
     "text": [
      "You dropped 2029 duplicate rows.\n"
     ]
    }
   ],
   "source": [
    "before_size = master_db.shape[0]\n",
    "master_db = master_db.drop_duplicates(subset=[\"topic\",\"text\",\"user\"])\n",
    "after_size = master_db.shape[0]\n",
    "\n",
    "print(\"You dropped {} duplicate rows.\".format(before_size - after_size))"
   ]
  },
  {
   "cell_type": "markdown",
   "metadata": {
    "nbpresent": {
     "id": "a8f2570d-132c-4c55-acdc-8cc1a486c244"
    }
   },
   "source": [
    "#### b) Remove any rows with more than 1 NaN value\n",
    "Setting \"thresh\" the way I do here allows 1 NaN per row of table. This way we can allow forum posts where the user entered a topic line but no body text (as this may still be valuable data)."
   ]
  },
  {
   "cell_type": "code",
   "execution_count": 6,
   "metadata": {
    "collapsed": false,
    "nbpresent": {
     "id": "4c86c9c6-6e38-488c-b15d-32c749f9d7f2"
    }
   },
   "outputs": [],
   "source": [
    "rows_before = master_db.shape[0]\n",
    "master_db = master_db.dropna(thresh=len(master_db.columns.tolist())-1)"
   ]
  },
  {
   "cell_type": "markdown",
   "metadata": {
    "nbpresent": {
     "id": "6336c526-44a0-4953-a10c-fade69f1fd13"
    }
   },
   "source": [
    "#### c) Remove users that are \"community managers\" (i.e. employees)\n",
    "\n",
    "This will remove all forum posts from users that are employees of Blizzard. Because these posts are not representative of the thoughts/motivation/language of a non-affiliated forum user, I believe removing these posts is a necessary step. I formed the list of employee users by hand so it is possible that it is not complete, but to the best of my knowledge it is. Ultimately, this removes a very small number of rows from the dataset, so not likely consequential either way."
   ]
  },
  {
   "cell_type": "code",
   "execution_count": 7,
   "metadata": {
    "collapsed": false,
    "nbpresent": {
     "id": "d58bd987-c871-4ae4-ac37-50b32d5e6395"
    }
   },
   "outputs": [
    {
     "name": "stdout",
     "output_type": "stream",
     "text": [
      "There were admins in the dataframe.\n",
      "Found 5 admins in the dataframe. Removing those users dropped 59 rows from the dataframe.\n"
     ]
    }
   ],
   "source": [
    "admin_list = [\"Lylirra\", \"Tom Powers\", \"Josh Engen\", \"Jeff Kaplan\", \"Scott Mercer\", \"Michael Chu\", \"Geoff Goodman\", \"Zoevia\"]\n",
    "\n",
    "admins_in_df = utils.check_for_admins(master_db, \"user\", admin_list)\n",
    "\n",
    "master_db = utils.remove_admins(master_db, \"user\", admins_in_df)"
   ]
  },
  {
   "cell_type": "markdown",
   "metadata": {
    "nbpresent": {
     "id": "466a61ad-1f17-403f-8d26-12f79d8fc334"
    }
   },
   "source": [
    "#### d) Convert 'date' and 'time' columns to datetime objects and combine them\n",
    "\n",
    "(This could take a minute)"
   ]
  },
  {
   "cell_type": "code",
   "execution_count": 8,
   "metadata": {
    "collapsed": true,
    "nbpresent": {
     "id": "402c1660-48e9-4eaf-bfdc-8a685a121e4f"
    }
   },
   "outputs": [],
   "source": [
    "master_db['date'] = pd.to_datetime(master_db['date'])\n",
    "master_db['time'] = pd.to_timedelta(master_db['time'] + ':00', unit='h')"
   ]
  },
  {
   "cell_type": "code",
   "execution_count": 12,
   "metadata": {
    "collapsed": true,
    "nbpresent": {
     "id": "7b8a2c89-9a86-49f3-aca7-3f4130a14cd1"
    }
   },
   "outputs": [],
   "source": [
    "master_db['date'] = master_db['date'].add(master_db['time']) # combine features into one date/time feature\n",
    "master_db = master_db.drop(['time'], axis=1)"
   ]
  },
  {
   "cell_type": "markdown",
   "metadata": {
    "nbpresent": {
     "id": "749202c7-46f2-414f-bff4-018711e35397"
    }
   },
   "source": [
    "#### e) Sort dataframe by date"
   ]
  },
  {
   "cell_type": "code",
   "execution_count": 13,
   "metadata": {
    "collapsed": false
   },
   "outputs": [],
   "source": [
    "master_db = master_db.sort_values(by='date')\n",
    "master_db = master_db.reset_index(drop=True)"
   ]
  },
  {
   "cell_type": "markdown",
   "metadata": {},
   "source": [
    "#### f) Combine \"topic\" and \"text\" features\n",
    "\n",
    "(This could take a minute)\n",
    "\n",
    "To create one unified chunk of text for each post without sacrificing data, I am going to make a new feature in the dataframe that treats the \"topic\" of a post as the first sentence of a post. From my experience of the significance of topic lines in posts of this forum, this seems like a reasonable assumption."
   ]
  },
  {
   "cell_type": "code",
   "execution_count": 14,
   "metadata": {
    "collapsed": false
   },
   "outputs": [],
   "source": [
    "master_db = utils.combine_text_cols(master_db)"
   ]
  },
  {
   "cell_type": "markdown",
   "metadata": {},
   "source": [
    "#### g) Another row drop for \"soft duplicates\" (read blurb above in section 2a. for more info)"
   ]
  },
  {
   "cell_type": "code",
   "execution_count": 15,
   "metadata": {
    "collapsed": false
   },
   "outputs": [
    {
     "name": "stdout",
     "output_type": "stream",
     "text": [
      "You dropped 16 duplicate rows.\n"
     ]
    }
   ],
   "source": [
    "before_size = master_db.shape[0]\n",
    "master_db = master_db.drop_duplicates(subset=[\"user\", \"all_text\"])\n",
    "after_size = master_db.shape[0]\n",
    "\n",
    "print(\"You dropped {} duplicate rows.\".format(before_size - after_size))"
   ]
  },
  {
   "cell_type": "markdown",
   "metadata": {
    "nbpresent": {
     "id": "05b4bb39-02c7-4470-9c33-d3d0bcfed1f8"
    }
   },
   "source": [
    "#### h) Rearrange columns for better viewing"
   ]
  },
  {
   "cell_type": "code",
   "execution_count": 16,
   "metadata": {
    "collapsed": true,
    "nbpresent": {
     "id": "b3b7e384-314c-4216-8a39-8ae049f2bf9f"
    }
   },
   "outputs": [],
   "source": [
    "old_cols = master_db.columns.tolist()\n",
    "new_cols = ['date', 'user', 'all_text', 'topic', 'text', 'num_replies', 'time_last_reply']\n",
    "\n",
    "if set(old_cols) == set(new_cols):\n",
    "    master_db = master_db[new_cols]\n"
   ]
  },
  {
   "cell_type": "markdown",
   "metadata": {
    "nbpresent": {
     "id": "d009243d-f116-4995-a702-ba23ad90b5b6"
    }
   },
   "source": [
    "### What the data looked like BEFORE pre-processing:"
   ]
  },
  {
   "cell_type": "code",
   "execution_count": 17,
   "metadata": {
    "collapsed": false,
    "nbpresent": {
     "id": "498e4844-73db-4f79-ab13-ae6d9817d95e"
    }
   },
   "outputs": [
    {
     "data": {
      "text/html": [
       "<div>\n",
       "<table border=\"1\" class=\"dataframe\">\n",
       "  <thead>\n",
       "    <tr style=\"text-align: right;\">\n",
       "      <th></th>\n",
       "      <th>date</th>\n",
       "      <th>num_replies</th>\n",
       "      <th>text</th>\n",
       "      <th>time</th>\n",
       "      <th>time_last_reply</th>\n",
       "      <th>topic</th>\n",
       "      <th>user</th>\n",
       "    </tr>\n",
       "  </thead>\n",
       "  <tbody>\n",
       "    <tr>\n",
       "      <th>0</th>\n",
       "      <td>5/23/16</td>\n",
       "      <td>1</td>\n",
       "      <td>Welcome to the General Discussion forum! We en...</td>\n",
       "      <td>21:32</td>\n",
       "      <td>May 23, 2016</td>\n",
       "      <td>Welcome to General Discussion - Please Read!</td>\n",
       "      <td>Lylirra</td>\n",
       "    </tr>\n",
       "    <tr>\n",
       "      <th>1</th>\n",
       "      <td>5/23/16</td>\n",
       "      <td>0</td>\n",
       "      <td>To help us get the most of out of your feedbac...</td>\n",
       "      <td>21:36</td>\n",
       "      <td>May 23, 2016</td>\n",
       "      <td>Bug Report and Technical Support Forums</td>\n",
       "      <td>Lylirra</td>\n",
       "    </tr>\n",
       "    <tr>\n",
       "      <th>2</th>\n",
       "      <td>11/16/17</td>\n",
       "      <td>817</td>\n",
       "      <td>Hi everyone, We've seen a heavy influx of conv...</td>\n",
       "      <td>22:34</td>\n",
       "      <td>5m</td>\n",
       "      <td>[Feedback Thread] Mercy Updates - Nov 16, 2017</td>\n",
       "      <td>Tom Powers</td>\n",
       "    </tr>\n",
       "    <tr>\n",
       "      <th>3</th>\n",
       "      <td>11/18/17</td>\n",
       "      <td>22</td>\n",
       "      <td>Why 3 days? Wouldn't 1 day be enough?</td>\n",
       "      <td>04:20</td>\n",
       "      <td>1m</td>\n",
       "      <td>My issue with the XQC ban</td>\n",
       "      <td>Aldwyn</td>\n",
       "    </tr>\n",
       "    <tr>\n",
       "      <th>4</th>\n",
       "      <td>11/18/17</td>\n",
       "      <td>25</td>\n",
       "      <td>You should not leave voice chat just cause 1 g...</td>\n",
       "      <td>03:04</td>\n",
       "      <td>1m</td>\n",
       "      <td>I will report if you leave voice chat</td>\n",
       "      <td>Budda?</td>\n",
       "    </tr>\n",
       "  </tbody>\n",
       "</table>\n",
       "</div>"
      ],
      "text/plain": [
       "       date  num_replies                                               text  \\\n",
       "0   5/23/16            1  Welcome to the General Discussion forum! We en...   \n",
       "1   5/23/16            0  To help us get the most of out of your feedbac...   \n",
       "2  11/16/17          817  Hi everyone, We've seen a heavy influx of conv...   \n",
       "3  11/18/17           22              Why 3 days? Wouldn't 1 day be enough?   \n",
       "4  11/18/17           25  You should not leave voice chat just cause 1 g...   \n",
       "\n",
       "    time time_last_reply                                           topic  \\\n",
       "0  21:32    May 23, 2016    Welcome to General Discussion - Please Read!   \n",
       "1  21:36    May 23, 2016         Bug Report and Technical Support Forums   \n",
       "2  22:34              5m  [Feedback Thread] Mercy Updates - Nov 16, 2017   \n",
       "3  04:20              1m                       My issue with the XQC ban   \n",
       "4  03:04              1m           I will report if you leave voice chat   \n",
       "\n",
       "         user  \n",
       "0     Lylirra  \n",
       "1     Lylirra  \n",
       "2  Tom Powers  \n",
       "3      Aldwyn  \n",
       "4      Budda?  "
      ]
     },
     "execution_count": 17,
     "metadata": {},
     "output_type": "execute_result"
    }
   ],
   "source": [
    "before_preprocess"
   ]
  },
  {
   "cell_type": "markdown",
   "metadata": {
    "nbpresent": {
     "id": "5f73781e-5bee-4683-914e-c66b46022b63"
    }
   },
   "source": [
    "### What the data looks like AFTER pre-processing:"
   ]
  },
  {
   "cell_type": "code",
   "execution_count": 18,
   "metadata": {
    "collapsed": false,
    "nbpresent": {
     "id": "6f8b1009-5e4e-4e1d-ac3b-c2521740b33a"
    }
   },
   "outputs": [
    {
     "data": {
      "text/html": [
       "<div>\n",
       "<table border=\"1\" class=\"dataframe\">\n",
       "  <thead>\n",
       "    <tr style=\"text-align: right;\">\n",
       "      <th></th>\n",
       "      <th>date</th>\n",
       "      <th>user</th>\n",
       "      <th>all_text</th>\n",
       "      <th>topic</th>\n",
       "      <th>text</th>\n",
       "      <th>num_replies</th>\n",
       "      <th>time_last_reply</th>\n",
       "    </tr>\n",
       "  </thead>\n",
       "  <tbody>\n",
       "    <tr>\n",
       "      <th>0</th>\n",
       "      <td>2016-05-23 23:34:00</td>\n",
       "      <td>Ralavik</td>\n",
       "      <td>Could this be... A new topic?</td>\n",
       "      <td>Could this be...</td>\n",
       "      <td>A new topic?</td>\n",
       "      <td>1</td>\n",
       "      <td>Jun 19, 2016</td>\n",
       "    </tr>\n",
       "    <tr>\n",
       "      <th>1</th>\n",
       "      <td>2016-05-23 23:37:00</td>\n",
       "      <td>umadbro</td>\n",
       "      <td>Who else dropped Battleborn like a brick. I'm ...</td>\n",
       "      <td>Who else dropped Battleborn like a brick</td>\n",
       "      <td>I'm curious what kind of exodus Battleborn wil...</td>\n",
       "      <td>48</td>\n",
       "      <td>Sep 10, 2016</td>\n",
       "    </tr>\n",
       "    <tr>\n",
       "      <th>2</th>\n",
       "      <td>2016-05-23 23:38:00</td>\n",
       "      <td>Bammer</td>\n",
       "      <td>Looking for skilled players. Want to find a de...</td>\n",
       "      <td>Looking for skilled players</td>\n",
       "      <td>Want to find a decent team to hang out and put...</td>\n",
       "      <td>1</td>\n",
       "      <td>May 27, 2016</td>\n",
       "    </tr>\n",
       "    <tr>\n",
       "      <th>3</th>\n",
       "      <td>2016-05-23 23:40:00</td>\n",
       "      <td>Omni</td>\n",
       "      <td>Game is live... Best Monday of the year</td>\n",
       "      <td>Game is live...</td>\n",
       "      <td>Best Monday of the year</td>\n",
       "      <td>4</td>\n",
       "      <td>Aug 15, 2016</td>\n",
       "    </tr>\n",
       "    <tr>\n",
       "      <th>4</th>\n",
       "      <td>2016-05-23 23:41:00</td>\n",
       "      <td>SandyCheeks</td>\n",
       "      <td>Free Battletag Change? Apparently all of us we...</td>\n",
       "      <td>Free Battletag Change?</td>\n",
       "      <td>Apparently all of us were supposed to receive ...</td>\n",
       "      <td>3</td>\n",
       "      <td>Dec 11</td>\n",
       "    </tr>\n",
       "  </tbody>\n",
       "</table>\n",
       "</div>"
      ],
      "text/plain": [
       "                 date         user  \\\n",
       "0 2016-05-23 23:34:00      Ralavik   \n",
       "1 2016-05-23 23:37:00      umadbro   \n",
       "2 2016-05-23 23:38:00       Bammer   \n",
       "3 2016-05-23 23:40:00         Omni   \n",
       "4 2016-05-23 23:41:00  SandyCheeks   \n",
       "\n",
       "                                            all_text  \\\n",
       "0                      Could this be... A new topic?   \n",
       "1  Who else dropped Battleborn like a brick. I'm ...   \n",
       "2  Looking for skilled players. Want to find a de...   \n",
       "3            Game is live... Best Monday of the year   \n",
       "4  Free Battletag Change? Apparently all of us we...   \n",
       "\n",
       "                                      topic  \\\n",
       "0                          Could this be...   \n",
       "1  Who else dropped Battleborn like a brick   \n",
       "2               Looking for skilled players   \n",
       "3                           Game is live...   \n",
       "4                    Free Battletag Change?   \n",
       "\n",
       "                                                text  num_replies  \\\n",
       "0                                       A new topic?            1   \n",
       "1  I'm curious what kind of exodus Battleborn wil...           48   \n",
       "2  Want to find a decent team to hang out and put...            1   \n",
       "3                            Best Monday of the year            4   \n",
       "4  Apparently all of us were supposed to receive ...            3   \n",
       "\n",
       "  time_last_reply  \n",
       "0    Jun 19, 2016  \n",
       "1    Sep 10, 2016  \n",
       "2    May 27, 2016  \n",
       "3    Aug 15, 2016  \n",
       "4          Dec 11  "
      ]
     },
     "execution_count": 18,
     "metadata": {},
     "output_type": "execute_result"
    }
   ],
   "source": [
    "master_db.head()"
   ]
  },
  {
   "cell_type": "markdown",
   "metadata": {},
   "source": [
    "**Note on final features:** Some features (i.e. \"num_replies\" and \"time_last_reply\") will not be used in subsequent analysis and modeling. However, these features are included because they may be useful for future work."
   ]
  },
  {
   "cell_type": "markdown",
   "metadata": {
    "nbpresent": {
     "id": "7be7ce35-ed30-4cb6-9553-8c41535b7817"
    }
   },
   "source": [
    "***"
   ]
  },
  {
   "cell_type": "markdown",
   "metadata": {},
   "source": [
    "## !! UNDER CONSTRUCTION !!\n",
    "\n",
    "** [Ideas for more analysis] **\n",
    "\n",
    "* some visual analysis...\n",
    "    * histogram of number of words per post\n",
    "    * histogram of number of posts per user"
   ]
  },
  {
   "cell_type": "markdown",
   "metadata": {
    "nbpresent": {
     "id": "1fb7055f-f43f-4597-a67c-154f7bed2930"
    }
   },
   "source": [
    "<div align=\"right\">\n",
    "    [back to top](#toc)\n",
    "</div>\n",
    "\n",
    "\n",
    "<a id='section3'></a>\n",
    "\n",
    "## 3) Exploratory Data Analysis"
   ]
  },
  {
   "cell_type": "code",
   "execution_count": 19,
   "metadata": {
    "collapsed": false,
    "nbpresent": {
     "id": "665a4b84-de1f-44da-9c7d-dad362351850"
    }
   },
   "outputs": [
    {
     "name": "stdout",
     "output_type": "stream",
     "text": [
      "Size of dataset = 622.67 MB\n",
      "Number of forum posts = 426047\n",
      "Number of posts dropped due to NaN: 84\n",
      "Feature names: ['date', 'user', 'all_text', 'topic', 'text', 'num_replies', 'time_last_reply']\n",
      "Most replies a post received: 8749\n",
      "Average number of replies per post: 9.97\n",
      "Number of unique users: 85308\n",
      "Number of users with over 50 posts: 1364\n",
      "Average number of posts per user: 4.99\n",
      "Oldest Post in Dataset: 0\n",
      "Newest Post in Dataset: 426062\n"
     ]
    }
   ],
   "source": [
    "total_posts = master_db.shape[0]\n",
    "total_users = len(set(master_db['user']))\n",
    "avg_post = total_posts/total_users\n",
    "\n",
    "print(\"Size of dataset = {0:.2f} MB\".format(sys.getsizeof(master_db)/1000000))\n",
    "print(\"Number of forum posts = {}\".format(total_posts))\n",
    "print(\"Number of posts dropped due to NaN: {}\".format(rows_before-master_db.shape[0]))\n",
    "print(\"Feature names: {}\".format(list(master_db)))\n",
    "print(\"Most replies a post received: {}\".format(max(master_db['num_replies'])))\n",
    "print(\"Average number of replies per post: {0:.2f}\".format(np.mean(master_db['num_replies'])))\n",
    "print(\"Number of unique users: {}\".format(len(set(master_db['user']))))\n",
    "print(\"Number of users with over 50 posts: {}\".format(len(utils.users_with_n_posts(master_db, 50))))\n",
    "print(\"Average number of posts per user: {0:.2f}\".format(avg_post))\n",
    "print(\"Oldest Post in Dataset: {}\".format(master_db.head(n=1).index.tolist()[0]))\n",
    "print(\"Newest Post in Dataset: {}\".format(master_db.tail(n=1).index.tolist()[0]))"
   ]
  },
  {
   "cell_type": "markdown",
   "metadata": {
    "nbpresent": {
     "id": "70c1eea4-c26b-4ed0-8568-824e58717255"
    }
   },
   "source": [
    "**Note on quantity of data:** This dataset does not look at the text in replies to forum post, it only looks at the forum post text itself. However because we see an average of about 10 replies per post, if we assume that the replies to a post have about as much text each as the post itself (actually seems possible for this forum) then gathering this data would increase our dataset by an order of magnitude. Something to keep in mind if \"needing more data\" seems like a problem down the line."
   ]
  },
  {
   "cell_type": "markdown",
   "metadata": {
    "nbpresent": {
     "id": "4e79ac1b-d044-4224-a412-cf6a4bd6ad12"
    }
   },
   "source": [
    "***"
   ]
  },
  {
   "cell_type": "markdown",
   "metadata": {
    "nbpresent": {
     "id": "37683bb9-dbc2-4a2e-a1d5-0a8c2c5860ba"
    }
   },
   "source": [
    "<div align=\"right\">\n",
    "    [back to top](#toc)\n",
    "</div>\n",
    "\n",
    "<a id=\"section4\"></a>\n",
    "\n",
    "## 4) Creating \"per month\" slices\n",
    "\n",
    "Because dates range from 2016-05-23 to 2017-11-18 we will be able to make 17 \"per month slices\" starting with June 2016 and ending with October 2017.\n",
    "\n",
    "Let's create separate dataframes for each FULL month of posts. This includes the timespan of 06/2016 to 10/2017. A total of 17 months. Just short of a year and a half! Compared to the RateBeer/BeerReview datasets (around 10 years) this will be a very small time frame. However the density of posts in this short time is very high so we're hopeful that something may come of this :)"
   ]
  },
  {
   "cell_type": "code",
   "execution_count": 215,
   "metadata": {
    "collapsed": false
   },
   "outputs": [],
   "source": [
    "df_by_month = utils.make_all_months(master_db)\n",
    "\n",
    "# make dict for more sensible accessing of individual months\n",
    "month_keys = {\"06_2016\":0, \"07_2016\":1, \"08_2016\":2, \"09_2016\":3, \n",
    "              \"10_2016\":4, \"11_2016\":5, \"12_2016\":6, \"01_2017\":7, \n",
    "              \"02_2017\":8, \"03_2017\":9, \"04_2017\":10, \"05_2017\":11,\n",
    "              \"06_2017\":12, \"07_2017\":13, \"08_2017\":14, \"09_2017\":15, \n",
    "              \"10_2017\":16}"
   ]
  },
  {
   "cell_type": "markdown",
   "metadata": {},
   "source": [
    "With all months created, we can pull out a specific month like this..."
   ]
  },
  {
   "cell_type": "code",
   "execution_count": 216,
   "metadata": {
    "collapsed": true
   },
   "outputs": [],
   "source": [
    "df_06_2016 = df_by_month[0]\n",
    "df_07_2016 = df_by_month[1]\n",
    "df_08_2016 = df_by_month[2]\n",
    "df_09_2016 = df_by_month[3]\n",
    "df_10_2016 = df_by_month[4]\n",
    "df_11_2016 = df_by_month[5]\n",
    "df_12_2016 = df_by_month[6]\n",
    "df_01_2017 = df_by_month[7]\n",
    "df_02_2017 = df_by_month[8]\n",
    "df_03_2017 = df_by_month[9]\n",
    "df_04_2017 = df_by_month[10]\n",
    "df_05_2017 = df_by_month[11]\n",
    "df_06_2017 = df_by_month[12]\n",
    "df_07_2017 = df_by_month[13]\n",
    "df_08_2017 = df_by_month[14]\n",
    "df_09_2017 = df_by_month[15]\n",
    "df_10_2017 = df_by_month[16]"
   ]
  },
  {
   "cell_type": "code",
   "execution_count": 186,
   "metadata": {
    "collapsed": false
   },
   "outputs": [
    {
     "name": "stdout",
     "output_type": "stream",
     "text": [
      "In June 2016, there were 19632 posts.\n"
     ]
    }
   ],
   "source": [
    "print(\"In June 2016, there were {} posts.\".format(df_06_2016.shape[0]))"
   ]
  },
  {
   "cell_type": "markdown",
   "metadata": {},
   "source": [
    "***"
   ]
  },
  {
   "cell_type": "markdown",
   "metadata": {},
   "source": [
    "<div align=\"right\">\n",
    "    [back to top](#toc)\n",
    "</div>\n",
    "\n",
    "<a id=\"section5\"></a>\n",
    "\n",
    "## 5) Experimenting with ngram language models\n",
    "\n",
    "See the utils.py file for details on how I am implementing this language model."
   ]
  },
  {
   "cell_type": "markdown",
   "metadata": {},
   "source": [
    "#### a) Creating a trigram \"snapshot\" model"
   ]
  },
  {
   "cell_type": "code",
   "execution_count": 244,
   "metadata": {
    "collapsed": false
   },
   "outputs": [
    {
     "data": {
      "text/plain": [
       "<module 'utils' from 'C:\\\\Users\\\\skarb\\\\Desktop\\\\GitHub\\\\Analyzing-Forum-Text\\\\utils.py'>"
      ]
     },
     "execution_count": 244,
     "metadata": {},
     "output_type": "execute_result"
    }
   ],
   "source": [
    "import importlib\n",
    "importlib.reload(utils)"
   ]
  },
  {
   "cell_type": "markdown",
   "metadata": {},
   "source": [
    "We will save a version of the snapshot model that does not have any of the 'users' that were used in making the trigram language model. This version will be used to subsequently analyze the language model."
   ]
  },
  {
   "cell_type": "markdown",
   "metadata": {},
   "source": [
    "(This will take a minute)"
   ]
  },
  {
   "cell_type": "code",
   "execution_count": 217,
   "metadata": {
    "collapsed": false
   },
   "outputs": [
    {
     "name": "stdout",
     "output_type": "stream",
     "text": [
      "There are 2863 users with at least 2 posts from the df provided.\n",
      "LM training data created successfully with 1000 posts total.\n",
      "Tokenizing training data\n",
      "Building counts for LM\n",
      "Building context totals dict\n",
      "Models successfully built\n",
      "There are 2730 users with at least 2 posts from the df provided.\n",
      "LM training data created successfully with 1000 posts total.\n",
      "Tokenizing training data\n",
      "Building counts for LM\n",
      "Building context totals dict\n",
      "Models successfully built\n",
      "There are 2714 users with at least 2 posts from the df provided.\n",
      "LM training data created successfully with 1000 posts total.\n",
      "Tokenizing training data\n",
      "Building counts for LM\n",
      "Building context totals dict\n",
      "Models successfully built\n",
      "There are 1928 users with at least 2 posts from the df provided.\n",
      "LM training data created successfully with 1000 posts total.\n",
      "Tokenizing training data\n",
      "Building counts for LM\n",
      "Building context totals dict\n",
      "Models successfully built\n",
      "There are 2423 users with at least 2 posts from the df provided.\n",
      "LM training data created successfully with 1000 posts total.\n",
      "Tokenizing training data\n",
      "Building counts for LM\n",
      "Building context totals dict\n",
      "Models successfully built\n",
      "There are 2860 users with at least 2 posts from the df provided.\n",
      "LM training data created successfully with 1000 posts total.\n",
      "Tokenizing training data\n",
      "Building counts for LM\n",
      "Building context totals dict\n",
      "Models successfully built\n",
      "There are 2862 users with at least 2 posts from the df provided.\n",
      "LM training data created successfully with 1000 posts total.\n",
      "Tokenizing training data\n",
      "Building counts for LM\n",
      "Building context totals dict\n",
      "Models successfully built\n",
      "There are 3255 users with at least 2 posts from the df provided.\n",
      "LM training data created successfully with 1000 posts total.\n",
      "Tokenizing training data\n",
      "Building counts for LM\n",
      "Building context totals dict\n",
      "Models successfully built\n",
      "There are 2862 users with at least 2 posts from the df provided.\n",
      "LM training data created successfully with 1000 posts total.\n",
      "Tokenizing training data\n",
      "Building counts for LM\n",
      "Building context totals dict\n",
      "Models successfully built\n",
      "There are 4026 users with at least 2 posts from the df provided.\n",
      "LM training data created successfully with 1000 posts total.\n",
      "Tokenizing training data\n",
      "Building counts for LM\n",
      "Building context totals dict\n",
      "Models successfully built\n",
      "There are 3621 users with at least 2 posts from the df provided.\n",
      "LM training data created successfully with 1000 posts total.\n",
      "Tokenizing training data\n",
      "Building counts for LM\n",
      "Building context totals dict\n",
      "Models successfully built\n",
      "There are 3969 users with at least 2 posts from the df provided.\n",
      "LM training data created successfully with 1000 posts total.\n",
      "Tokenizing training data\n",
      "Building counts for LM\n",
      "Building context totals dict\n",
      "Models successfully built\n",
      "There are 3993 users with at least 2 posts from the df provided.\n",
      "LM training data created successfully with 1000 posts total.\n",
      "Tokenizing training data\n",
      "Building counts for LM\n",
      "Building context totals dict\n",
      "Models successfully built\n",
      "There are 3615 users with at least 2 posts from the df provided.\n",
      "LM training data created successfully with 1000 posts total.\n",
      "Tokenizing training data\n",
      "Building counts for LM\n",
      "Building context totals dict\n",
      "Models successfully built\n",
      "There are 4378 users with at least 2 posts from the df provided.\n",
      "LM training data created successfully with 1000 posts total.\n",
      "Tokenizing training data\n",
      "Building counts for LM\n",
      "Building context totals dict\n",
      "Models successfully built\n",
      "There are 3014 users with at least 2 posts from the df provided.\n",
      "LM training data created successfully with 1000 posts total.\n",
      "Tokenizing training data\n",
      "Building counts for LM\n",
      "Building context totals dict\n",
      "Models successfully built\n",
      "There are 2978 users with at least 2 posts from the df provided.\n",
      "LM training data created successfully with 1000 posts total.\n",
      "Tokenizing training data\n",
      "Building counts for LM\n",
      "Building context totals dict\n",
      "Models successfully built\n"
     ]
    }
   ],
   "source": [
    "df_no_train_06_16, trigram_counts_06_16, trigram_context_total_06_16 = utils.make_trigram_model(df_06_2016, smooth=\"AddK\")\n",
    "df_no_train_07_16, trigram_counts_07_16, trigram_context_total_07_16 = utils.make_trigram_model(df_07_2016, smooth=\"AddK\")\n",
    "df_no_train_08_16, trigram_counts_08_16, trigram_context_total_08_16 = utils.make_trigram_model(df_08_2016, smooth=\"AddK\")\n",
    "df_no_train_09_16, trigram_counts_09_16, trigram_context_total_09_16 = utils.make_trigram_model(df_09_2016, smooth=\"AddK\")\n",
    "df_no_train_10_16, trigram_counts_10_16, trigram_context_total_10_16 = utils.make_trigram_model(df_10_2016, smooth=\"AddK\")\n",
    "df_no_train_11_16, trigram_counts_11_16, trigram_context_total_11_16 = utils.make_trigram_model(df_11_2016, smooth=\"AddK\")\n",
    "df_no_train_12_16, trigram_counts_12_16, trigram_context_total_12_16 = utils.make_trigram_model(df_12_2016, smooth=\"AddK\")\n",
    "df_no_train_01_17, trigram_counts_01_17, trigram_context_total_01_17 = utils.make_trigram_model(df_01_2017, smooth=\"AddK\")\n",
    "df_no_train_02_17, trigram_counts_02_17, trigram_context_total_02_17 = utils.make_trigram_model(df_02_2017, smooth=\"AddK\")\n",
    "df_no_train_03_17, trigram_counts_03_17, trigram_context_total_03_17 = utils.make_trigram_model(df_03_2017, smooth=\"AddK\")\n",
    "df_no_train_04_17, trigram_counts_04_17, trigram_context_total_04_17 = utils.make_trigram_model(df_04_2017, smooth=\"AddK\")\n",
    "df_no_train_05_17, trigram_counts_05_17, trigram_context_total_05_17 = utils.make_trigram_model(df_05_2017, smooth=\"AddK\")\n",
    "df_no_train_06_17, trigram_counts_06_17, trigram_context_total_06_17 = utils.make_trigram_model(df_06_2017, smooth=\"AddK\")\n",
    "df_no_train_07_17, trigram_counts_07_17, trigram_context_total_07_17 = utils.make_trigram_model(df_07_2017, smooth=\"AddK\")\n",
    "df_no_train_08_17, trigram_counts_08_17, trigram_context_total_08_17 = utils.make_trigram_model(df_08_2017, smooth=\"AddK\")\n",
    "df_no_train_09_17, trigram_counts_09_17, trigram_context_total_09_17 = utils.make_trigram_model(df_09_2017, smooth=\"AddK\")\n",
    "df_no_train_10_17, trigram_counts_10_17, trigram_context_total_10_17 = utils.make_trigram_model(df_10_2017, smooth=\"AddK\")"
   ]
  },
  {
   "cell_type": "code",
   "execution_count": 180,
   "metadata": {
    "collapsed": false
   },
   "outputs": [
    {
     "name": "stdout",
     "output_type": "stream",
     "text": [
      "df with training data rows = 19632\n",
      "df without training data rows = 17186\n"
     ]
    }
   ],
   "source": [
    "print(\"df with training data rows = {}\".format(df_06_2016.shape[0]))\n",
    "print(\"df without training data rows = {}\".format(df_no_train_06_16.shape[0]))"
   ]
  },
  {
   "cell_type": "code",
   "execution_count": 183,
   "metadata": {
    "collapsed": false
   },
   "outputs": [
    {
     "name": "stdout",
     "output_type": "stream",
     "text": [
      "8840\n",
      "8340\n"
     ]
    }
   ],
   "source": [
    "print(len(set(df_06_2016['user'].tolist())))\n",
    "print(len(set(df_no_train_06_16['user'].tolist())))"
   ]
  },
  {
   "cell_type": "markdown",
   "metadata": {},
   "source": [
    "We see our analysis df has exactly 500 users less than the original snapshot model df."
   ]
  },
  {
   "cell_type": "markdown",
   "metadata": {},
   "source": [
    "#### b) Text generation from the snapshot model:"
   ]
  },
  {
   "cell_type": "code",
   "execution_count": 165,
   "metadata": {
    "collapsed": false
   },
   "outputs": [
    {
     "name": "stdout",
     "output_type": "stream",
     "text": [
      "\n",
      "Oh Go Team Mei\n",
      "cross-entropy = 22.96511178309794\n",
      "\n",
      "Still hard counters Still escape/fight caught Still way get shes protected\n",
      "cross-entropy = 103.34350711026343\n",
      "\n",
      "Who looks team without support decides Reaper\n",
      "cross-entropy = 57.41277945774485\n",
      "\n",
      "Like Hearthstone 's Ranked play goes hit least Rank 20 get unique card back game\n",
      "cross-entropy = 149.2732265901366\n",
      "\n",
      "Troll picking bannable/reportable\n",
      "cross-entropy = 11.48255589154897\n",
      "\n",
      "This 3rd time tonight past hour I game randomly disconnect I unable get back minutes\n",
      "cross-entropy = 149.273730720492\n",
      "\n",
      "Change Skins Character Select Screen\n",
      "cross-entropy = 34.44766767464691\n",
      "\n",
      "Talespin best pharah far pharah meta 2\n",
      "cross-entropy = 57.413031522922545\n",
      "\n",
      "Reinhardts ult make fall mid air lay floor\n",
      "cross-entropy = 68.89533534929382\n",
      "\n",
      "Knockback effect Rein\n",
      "cross-entropy = 11.48255589154897\n"
     ]
    }
   ],
   "source": [
    "utils.print_fake_sentences(trigram_counts_06_16, trigram_context_total_06_16, n=10)"
   ]
  },
  {
   "cell_type": "markdown",
   "metadata": {},
   "source": [
    "Notice that as a sentence becomes longer it naturally has higher cross-entropy."
   ]
  },
  {
   "cell_type": "markdown",
   "metadata": {},
   "source": [
    "#### c) Analyzing change in language over time for one user"
   ]
  },
  {
   "cell_type": "code",
   "execution_count": 184,
   "metadata": {
    "collapsed": false
   },
   "outputs": [
    {
     "data": {
      "text/plain": [
       "4146       Kissker\n",
       "4147       Requiem\n",
       "4148    DeminRamst\n",
       "4149         Zeriu\n",
       "4150         HaPpY\n",
       "Name: user, dtype: object"
      ]
     },
     "execution_count": 184,
     "metadata": {},
     "output_type": "execute_result"
    }
   ],
   "source": [
    "df_no_train_06_16['user'].head()"
   ]
  },
  {
   "cell_type": "code",
   "execution_count": null,
   "metadata": {
    "collapsed": true
   },
   "outputs": [],
   "source": []
  },
  {
   "cell_type": "code",
   "execution_count": null,
   "metadata": {
    "collapsed": true
   },
   "outputs": [],
   "source": []
  },
  {
   "cell_type": "code",
   "execution_count": null,
   "metadata": {
    "collapsed": true
   },
   "outputs": [],
   "source": [
    "user = utils.users_with_n_posts(somedf, n=10)"
   ]
  },
  {
   "cell_type": "code",
   "execution_count": null,
   "metadata": {
    "collapsed": true
   },
   "outputs": [],
   "source": []
  },
  {
   "cell_type": "markdown",
   "metadata": {},
   "source": [
    "***"
   ]
  },
  {
   "cell_type": "markdown",
   "metadata": {},
   "source": [
    "## !! UNDER CONSTRUCTION!!\n",
    "\n",
    "## Don't go past this point! Dead end!"
   ]
  },
  {
   "cell_type": "markdown",
   "metadata": {
    "nbpresent": {
     "id": "88658b03-2185-4d67-b892-b4442fafc164"
    }
   },
   "source": [
    "<div align=right>\n",
    "    [back to top](#toc)\n",
    "</div>\n",
    "\n",
    "<a id=\"section5\"></a>\n",
    "\n",
    "### Step 5) Tokenize posts"
   ]
  },
  {
   "cell_type": "code",
   "execution_count": 25,
   "metadata": {
    "collapsed": true,
    "nbpresent": {
     "id": "25727e7f-e942-4351-a4aa-535d332e80b0"
    }
   },
   "outputs": [
    {
     "data": {
      "text/plain": [
       "[('.', 101440),\n",
       " (',', 79464),\n",
       " ('I', 50959),\n",
       " ('?', 17133),\n",
       " (\"'s\", 16519),\n",
       " ('game', 15562),\n",
       " (\"n't\", 15179),\n",
       " (')', 11164),\n",
       " ('team', 10580),\n",
       " ('like', 9973),\n",
       " ('(', 9892),\n",
       " (':', 9578),\n",
       " ('would', 9233),\n",
       " ('get', 8516),\n",
       " ('play', 8397),\n",
       " ('people', 7414),\n",
       " ('``', 6844),\n",
       " (\"''\", 6746),\n",
       " ('!', 6381),\n",
       " ('one', 6375),\n",
       " ('time', 5937),\n",
       " (\"'m\", 5853),\n",
       " ('...', 5611),\n",
       " ('players', 5607),\n",
       " ('damage', 5210),\n",
       " ('even', 5032),\n",
       " ('think', 5022),\n",
       " ('It', 4894),\n",
       " ('The', 4817),\n",
       " ('know', 4497),\n",
       " ('-', 4468),\n",
       " ('games', 4436),\n",
       " ('--', 4362),\n",
       " ('really', 4333),\n",
       " ('see', 4213),\n",
       " ('This', 4121),\n",
       " ('could', 3977),\n",
       " ('make', 3918),\n",
       " ('playing', 3832),\n",
       " ('good', 3799),\n",
       " ('want', 3702),\n",
       " ('much', 3617),\n",
       " ('hero', 3535),\n",
       " ('way', 3533),\n",
       " ('match', 3401),\n",
       " ('%', 3393),\n",
       " ('If', 3378),\n",
       " ('So', 3245),\n",
       " ('2', 3181),\n",
       " (\"'ve\", 3167)]"
      ]
     },
     "execution_count": 25,
     "metadata": {},
     "output_type": "execute_result"
    }
   ],
   "source": [
    "freqdist = count_tokens(month_1_text[\"text\"])\n",
    "freqdist.most_common(50)"
   ]
  },
  {
   "cell_type": "code",
   "execution_count": 195,
   "metadata": {
    "collapsed": false
   },
   "outputs": [
    {
     "data": {
      "text/plain": [
       "8340"
      ]
     },
     "execution_count": 195,
     "metadata": {},
     "output_type": "execute_result"
    }
   ],
   "source": [
    "len(list(set(df_no_train_06_16['user'].tolist())))"
   ]
  },
  {
   "cell_type": "code",
   "execution_count": 196,
   "metadata": {
    "collapsed": false,
    "nbpresent": {
     "id": "3fd1e0f0-cb78-48b3-bf10-3dd6a805794a"
    }
   },
   "outputs": [
    {
     "name": "stdout",
     "output_type": "stream",
     "text": [
      "[('darkdill', 17), ('threatprince', 17), ('Daddy', 16), ('?????', 16), ('Nick', 16)]\n"
     ]
    }
   ],
   "source": [
    "no_train_data = [df_no_train_06_16, df_no_train_07_16, df_no_train_08_16, \n",
    "                 df_no_train_09_16, df_no_train_10_16, df_no_train_11_16, \n",
    "                 df_no_train_12_16, df_no_train_01_17, df_no_train_02_17,\n",
    "                 df_no_train_03_17, df_no_train_04_17, df_no_train_05_17, \n",
    "                 df_no_train_06_17, df_no_train_07_17, df_no_train_08_17,\n",
    "                 df_no_train_09_17, df_no_train_10_17]\n",
    "\n",
    "\n",
    "\n",
    "user_count = Counter()\n",
    "for model in no_train_data:\n",
    "    user_list = Counter(list(set(model['user'].tolist())))\n",
    "    user_count += user_list\n",
    "print(user_count.most_common(5))\n",
    "    \n"
   ]
  },
  {
   "cell_type": "code",
   "execution_count": null,
   "metadata": {
    "collapsed": false,
    "nbpresent": {
     "id": "80194498-fcdb-494b-a441-1ab4b7bda067"
    }
   },
   "outputs": [],
   "source": [
    "lm_model_counts = [trigram_counts_06_16, trigram_counts_07_16 ]\n",
    "\n",
    "lm_model_contexts = [trigram_context_total_06_16, ]\n"
   ]
  },
  {
   "cell_type": "code",
   "execution_count": 197,
   "metadata": {
    "collapsed": false
   },
   "outputs": [
    {
     "name": "stdout",
     "output_type": "stream",
     "text": [
      "(822, 7)\n"
     ]
    }
   ],
   "source": [
    "threatprince_df = master_db[master_db['user'] == 'threatprince']\n",
    "\n",
    "print(threatprince_df.shape)"
   ]
  },
  {
   "cell_type": "code",
   "execution_count": 209,
   "metadata": {
    "collapsed": false
   },
   "outputs": [
    {
     "data": {
      "text/plain": [
       "19"
      ]
     },
     "execution_count": 209,
     "metadata": {},
     "output_type": "execute_result"
    }
   ],
   "source": [
    "len(threatprince_posts)"
   ]
  },
  {
   "cell_type": "code",
   "execution_count": 219,
   "metadata": {
    "collapsed": false
   },
   "outputs": [
    {
     "name": "stdout",
     "output_type": "stream",
     "text": [
      "17\n"
     ]
    }
   ],
   "source": [
    "threatprince_posts = []\n",
    "\n",
    "for df in df_by_month:\n",
    "    threatprince_posts.append(df[df['user'] == 'threatprince']['all_text'].tolist())\n",
    "\n",
    "print(len(threatprince_posts))"
   ]
  },
  {
   "cell_type": "code",
   "execution_count": 238,
   "metadata": {
    "collapsed": true
   },
   "outputs": [],
   "source": [
    "lm_model_counts = [trigram_counts_06_16, trigram_counts_07_16, trigram_counts_08_16, trigram_counts_09_16, \n",
    "                   trigram_counts_10_16, trigram_counts_11_16, trigram_counts_12_16, trigram_counts_01_17,\n",
    "                   trigram_counts_02_17, trigram_counts_03_17, trigram_counts_04_17, trigram_counts_05_17,\n",
    "                   trigram_counts_06_17, trigram_counts_07_17, trigram_counts_08_17, trigram_counts_09_17,\n",
    "                   trigram_counts_10_17]\n",
    "\n",
    "lm_model_contexts = [trigram_context_total_06_16, trigram_context_total_07_16, trigram_context_total_08_16,\n",
    "                     trigram_context_total_09_16, trigram_context_total_10_16, trigram_context_total_11_16,\n",
    "                     trigram_context_total_12_16, trigram_context_total_01_17, trigram_context_total_02_17,\n",
    "                     trigram_context_total_03_17, trigram_context_total_04_17, trigram_context_total_05_17,\n",
    "                     trigram_context_total_06_17, trigram_context_total_07_17, trigram_context_total_08_17,\n",
    "                     trigram_context_total_09_17, trigram_context_total_10_17]"
   ]
  },
  {
   "cell_type": "code",
   "execution_count": 222,
   "metadata": {
    "collapsed": true
   },
   "outputs": [],
   "source": [
    "threatprince_posts = []\n",
    "for df in df_by_month:\n",
    "    threatprince_posts.append(df[df['user'] == 'threatprince']['all_text'].tolist())"
   ]
  },
  {
   "cell_type": "code",
   "execution_count": 227,
   "metadata": {
    "collapsed": false
   },
   "outputs": [
    {
     "data": {
      "text/plain": [
       "55"
      ]
     },
     "execution_count": 227,
     "metadata": {},
     "output_type": "execute_result"
    }
   ],
   "source": [
    "len(threatprince_posts[0])"
   ]
  },
  {
   "cell_type": "code",
   "execution_count": 228,
   "metadata": {
    "collapsed": false
   },
   "outputs": [
    {
     "name": "stdout",
     "output_type": "stream",
     "text": [
      "2.0\n"
     ]
    }
   ],
   "source": [
    "num = [1,2,3]\n",
    "print(np.average(num))"
   ]
  },
  {
   "cell_type": "code",
   "execution_count": 267,
   "metadata": {
    "collapsed": false
   },
   "outputs": [],
   "source": [
    "all_avg_entropy = []\n",
    "\n",
    "i = 0 \n",
    "for month_post in threatprince_posts:\n",
    "\n",
    "    cross_entropy_all = []\n",
    "    for post in month_post:\n",
    "        entropy_single = utils.score_sentence(lm_model_counts[i], post, k=1, smoothing=\"AddK\", model_context_totals=lm_model_contexts[i])\n",
    "        if type(entropy_single) == str:\n",
    "            pass\n",
    "        else:\n",
    "            cross_entropy_all.append(entropy_single)\n",
    "\n",
    "    all_avg_entropy.append(float(np.mean(cross_entropy_all)))\n",
    "    i += 1\n"
   ]
  },
  {
   "cell_type": "code",
   "execution_count": 268,
   "metadata": {
    "collapsed": false
   },
   "outputs": [
    {
     "name": "stdout",
     "output_type": "stream",
     "text": [
      "[267.3848340283818, 381.7722012702704, 412.64648635502056, 320.42410066762653, 398.86524179505466, 442.81203477440783, 374.2561532668071, 337.62095029874877, 292.36295733939215, 476.5605805445042, 419.805772959067, 480.6059721507738, 395.4600161765557, 468.3777846291662, 351.47684678749766, 230.4369663511592, 677.4759778526089]\n"
     ]
    }
   ],
   "source": [
    "print(all_avg_entropy)"
   ]
  },
  {
   "cell_type": "code",
   "execution_count": 251,
   "metadata": {
    "collapsed": false
   },
   "outputs": [
    {
     "data": {
      "text/plain": [
       "[<matplotlib.text.Text at 0x1c221b22908>,\n",
       " <matplotlib.text.Text at 0x1c222d6a5c0>,\n",
       " <matplotlib.text.Text at 0x1c221b46048>,\n",
       " <matplotlib.text.Text at 0x1c211969080>]"
      ]
     },
     "execution_count": 251,
     "metadata": {},
     "output_type": "execute_result"
    },
    {
     "data": {
      "image/png": "[encoded data removed]",
      "text/plain": [
       "<matplotlib.figure.Figure at 0x1c222cc9da0>"
      ]
     },
     "metadata": {},
     "output_type": "display_data"
    }
   ],
   "source": [
    "x = np.arange(2,10,2)\n",
    "y = x.copy()\n",
    "x_ticks_labels = ['jan','feb','mar','apr','may']\n",
    "\n",
    "fig, ax = plt.subplots(1,1) \n",
    "ax.plot(x,y)\n",
    "\n",
    "# Set number of ticks for x-axis\n",
    "ax.set_xticks(x)\n",
    "# Set ticks labels for x-axis\n",
    "ax.set_xticklabels(x_ticks_labels, rotation='vertical', fontsize=18)"
   ]
  },
  {
   "cell_type": "code",
   "execution_count": 269,
   "metadata": {
    "collapsed": false
   },
   "outputs": [
    {
     "data": {
      "image/png": "[encoded data removed]",
      "text/plain": [
       "<matplotlib.figure.Figure at 0x1c222f10b38>"
      ]
     },
     "metadata": {},
     "output_type": "display_data"
    }
   ],
   "source": [
    "import matplotlib.pyplot as plt\n",
    "%matplotlib inline\n",
    "\n",
    "\n",
    "x_ticks_labels = [\"June 2016\", \"July 2016\", \"August 2016\", \"September 2016\", \"October 2016\", \"November 2016\", \n",
    "     \"December 2016\", \"January 2017\", \"February 2017\", \"March 2017\", \"April 2017\", \"May 2017\", \n",
    "     \"June 2017\", \"July 2017\", \"August 2017\", \"Septepmber 2017\", \"October 2017\"]\n",
    "\n",
    "x = [1,2,3,4,5,6,7,8,9,10,11,12,13,14,15,16,17]\n",
    "y = all_avg_entropy\n",
    "\n",
    "fig, ax = plt.subplots(1,1) \n",
    "ax.plot(x,y)\n",
    "# Set number of ticks for x-axis\n",
    "ax.tick_params(colors='white')\n",
    "ax.set_xticks(x)\n",
    "ax.set_ylabel(\"Cross-entropy\", fontsize=14, color=\"white\")\n",
    "#ax.set_yticklabels(color=\"white\")\n",
    "# Set ticks labels for x-axis\n",
    "ax.set_xticklabels(x_ticks_labels, rotation='vertical', fontsize=14, color=\"white\")\n",
    "plt.tight_layout()\n",
    "plt.savefig('demo7.png', transparent=True, dpi=1000)"
   ]
  },
  {
   "cell_type": "markdown",
   "metadata": {
    "nbpresent": {
     "id": "6a7e11fe-8a10-4b33-9e0b-2d217aee9ef8"
    }
   },
   "source": [
    "***"
   ]
  },
  {
   "cell_type": "markdown",
   "metadata": {},
   "source": [
    "### That's the end!... what more do you want from me! :("
   ]
  }
 ],
 "metadata": {
  "anaconda-cloud": {},
  "kernelspec": {
   "display_name": "Python [conda root]",
   "language": "python",
   "name": "conda-root-py"
  },
  "nbpresent": {
   "slides": {},
   "themes": {
    "default": "0c4c23af-d300-48dd-b943-217cb1bff0da",
    "theme": {}
   }
  }
 },
 "nbformat": 4,
 "nbformat_minor": 2
}
