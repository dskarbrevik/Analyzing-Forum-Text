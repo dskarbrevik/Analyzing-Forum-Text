{
 "cells": [
  {
   "cell_type": "markdown",
   "metadata": {
    "nbpresent": {
     "id": "828b046a-94e2-4c1b-974c-779f7ee8d981"
    }
   },
   "source": [
    "# Analyzing Overwatch Forum Posts"
   ]
  },
  {
   "cell_type": "markdown",
   "metadata": {
    "nbpresent": {
     "id": "c8faf55b-7972-4455-82ec-de8ab9e04d5c"
    }
   },
   "source": [
    "This is an analysis of data I scrapped from Blizzard's official Overwatch general discussion <a href=\"https://us.battle.net/forums/en/overwatch/22813879/\">forum</a>. For more information on how scrapping was performed or about this project in general, visit my repo <a href=\"https://github.com/dskarbrevik/W266_Project_Skarbrevik\">here</a>."
   ]
  },
  {
   "cell_type": "markdown",
   "metadata": {
    "nbpresent": {
     "id": "94ca5e9a-814a-479f-aa3f-400558a69e1d"
    }
   },
   "source": [
    "<a id=\"toc\"></a>\n",
    "\n",
    "## Table of Contents\n",
    "<ol>\n",
    "    <li>[Setup the environment](#section1)</li>\n",
    "    <li>[Preprocess the data](#section2)</li>\n",
    "    <li>[Basic EDA](#section3)</li>\n",
    "    <li>[Exploring \"per month\" slices](#section4)</li>\n",
    "    <li>[Tokenize the text](#section5)</li>\n",
    "</ol>"
   ]
  },
  {
   "cell_type": "markdown",
   "metadata": {
    "nbpresent": {
     "id": "7d992b0e-bd2d-4723-8437-8f88685b6af7"
    }
   },
   "source": [
    "***"
   ]
  },
  {
   "cell_type": "markdown",
   "metadata": {
    "nbpresent": {
     "id": "95841148-b7bb-4b07-b7dc-c9354715d165"
    }
   },
   "source": [
    "<a id='section1'></a>\n",
    "\n",
    "## 1) Setup the environment\n",
    "\n"
   ]
  },
  {
   "cell_type": "markdown",
   "metadata": {
    "nbpresent": {
     "id": "286a04c4-7825-4d5a-8a6a-04a08783b514"
    }
   },
   "source": [
    "#### Import libraries"
   ]
  },
  {
   "cell_type": "code",
   "execution_count": 1,
   "metadata": {
    "collapsed": false,
    "nbpresent": {
     "id": "2d90d852-57de-4ea3-89ff-5ef03ba524a2"
    }
   },
   "outputs": [],
   "source": [
    "import pandas as pd\n",
    "import numpy as np\n",
    "import utils # utils.py can be found in repo; contains helper functions used in this notebook\n",
    "import nltk\n",
    "import re\n",
    "import sys\n",
    "import string\n",
    "from nltk.corpus import stopwords\n",
    "from nltk import word_tokenize, sent_tokenize\n",
    "from collections import Counter, defaultdict"
   ]
  },
  {
   "cell_type": "code",
   "execution_count": 37,
   "metadata": {
    "collapsed": false
   },
   "outputs": [
    {
     "data": {
      "text/plain": [
       "<module 'utils' from 'C:\\\\Users\\\\skarb\\\\Desktop\\\\GitHub\\\\Analyzing-Forum-Text\\\\utils.py'>"
      ]
     },
     "execution_count": 37,
     "metadata": {},
     "output_type": "execute_result"
    }
   ],
   "source": [
    "# in case I need to reload utils after editing it...\n",
    "\n",
    "#import importlib\n",
    "#importlib.reload(utils)"
   ]
  },
  {
   "cell_type": "markdown",
   "metadata": {
    "nbpresent": {
     "id": "4ea31050-e26d-456e-a9b3-46a502210758"
    }
   },
   "source": [
    "Note: nltk data must be downloaded prior to running cells further in this notebook. Run `nltk.download()` to install necessary data."
   ]
  },
  {
   "cell_type": "markdown",
   "metadata": {
    "nbpresent": {
     "id": "2c590bb8-e974-4ba9-bce1-947cf4c16b8e"
    }
   },
   "source": [
    "#### Import data"
   ]
  },
  {
   "cell_type": "code",
   "execution_count": 2,
   "metadata": {
    "collapsed": true,
    "nbpresent": {
     "id": "e9d0ac73-b857-47b9-a481-890870197764"
    }
   },
   "outputs": [],
   "source": [
    "ow_db1 = pd.read_csv(\"E:\\\\Data Science Playgrounds\\\\Blizzard Forums Project\\\\Web Scrapes\\\\11-18-17\\\\overwatch_database_1_5248.csv\", encoding = \"ISO-8859-1\")\n",
    "ow_db2 = pd.read_csv(\"E:\\\\Data Science Playgrounds\\\\Blizzard Forums Project\\\\Web Scrapes\\\\11-18-17\\\\overwatch_database_5249_7691.csv\", encoding = \"ISO-8859-1\")\n",
    "ow_db3 = pd.read_csv(\"E:\\\\Data Science Playgrounds\\\\Blizzard Forums Project\\\\Web Scrapes\\\\11-18-17\\\\overwatch_database_7692_8655.csv\", encoding = \"ISO-8859-1\")"
   ]
  },
  {
   "cell_type": "markdown",
   "metadata": {
    "nbpresent": {
     "id": "882cf1bc-cfaf-4942-9e2e-a2b29ad42261"
    }
   },
   "source": [
    "#### Concatenate data files"
   ]
  },
  {
   "cell_type": "code",
   "execution_count": 3,
   "metadata": {
    "collapsed": false,
    "nbpresent": {
     "id": "dc2d4af4-58ec-4996-919f-ea8f34b716b4"
    }
   },
   "outputs": [],
   "source": [
    "all_db = [ow_db1, ow_db2, ow_db3]\n",
    "master_db = pd.concat(all_db)\n",
    "before_preprocess = master_db.head() # save to compare later for fun"
   ]
  },
  {
   "cell_type": "markdown",
   "metadata": {
    "nbpresent": {
     "id": "61332c64-fbef-41db-a8e9-b4097e94d413"
    }
   },
   "source": [
    "***"
   ]
  },
  {
   "cell_type": "markdown",
   "metadata": {
    "nbpresent": {
     "id": "ae7bf158-e52c-4f86-b0a3-b8f663b91b87"
    }
   },
   "source": [
    "<div align=\"right\">\n",
    "    [back to top](#toc)\n",
    "</div>\n",
    "\n",
    "<a id='section2'></a>\n",
    "\n",
    "## 2) Preprocess the data"
   ]
  },
  {
   "cell_type": "markdown",
   "metadata": {
    "nbpresent": {
     "id": "a8f2570d-132c-4c55-acdc-8cc1a486c244"
    }
   },
   "source": [
    "#### a) Remove any rows with more than 1 NaN value\n",
    "Setting \"thresh\" the way I do here allows 1 NaN per row of table. This way we can allow forum posts where the user entered a topic line but no body text (as this may still be valuable data)."
   ]
  },
  {
   "cell_type": "code",
   "execution_count": 4,
   "metadata": {
    "collapsed": false,
    "nbpresent": {
     "id": "4c86c9c6-6e38-488c-b15d-32c749f9d7f2"
    }
   },
   "outputs": [],
   "source": [
    "rows_before = master_db.shape[0]\n",
    "master_db = master_db.dropna(thresh=len(master_db.columns.tolist())-1)"
   ]
  },
  {
   "cell_type": "markdown",
   "metadata": {
    "nbpresent": {
     "id": "6336c526-44a0-4953-a10c-fade69f1fd13"
    }
   },
   "source": [
    "#### b) Remove users that are \"community managers\" (i.e. employees)\n",
    "\n",
    "This will remove all forum posts from users that are employees of Blizzard. Because these posts are not representative of the thoughts/motivation/language of a non-affiliated forum user, I believe removing these posts is a necessary step. I formed the list of employee users by hand so it is possible that it is not complete, but to the best of my knowledge it is. Ultimately, this removes a very small number of rows from the dataset, so not likely consequential either way."
   ]
  },
  {
   "cell_type": "code",
   "execution_count": 5,
   "metadata": {
    "collapsed": false,
    "nbpresent": {
     "id": "d58bd987-c871-4ae4-ac37-50b32d5e6395"
    }
   },
   "outputs": [
    {
     "name": "stdout",
     "output_type": "stream",
     "text": [
      "There were admins in the dataframe.\n",
      "Found 5 admins in the dataframe. Removing those users dropped 59 rows from the dataframe.\n"
     ]
    }
   ],
   "source": [
    "admin_list = [\"Lylirra\", \"Tom Powers\", \"Josh Engen\", \"Jeff Kaplan\", \"Scott Mercer\", \"Michael Chu\", \"Geoff Goodman\", \"Zoevia\"]\n",
    "\n",
    "admins_in_df = utils.check_for_admins(master_db, \"user\", admin_list)\n",
    "\n",
    "master_db = utils.remove_admins(master_db, \"user\", admins_in_df)"
   ]
  },
  {
   "cell_type": "markdown",
   "metadata": {
    "nbpresent": {
     "id": "466a61ad-1f17-403f-8d26-12f79d8fc334"
    }
   },
   "source": [
    "#### c) Convert 'date' and 'time' columns to datetime objects and combine them\n",
    "\n",
    "(This could take a minute)"
   ]
  },
  {
   "cell_type": "code",
   "execution_count": 6,
   "metadata": {
    "collapsed": true,
    "nbpresent": {
     "id": "402c1660-48e9-4eaf-bfdc-8a685a121e4f"
    }
   },
   "outputs": [],
   "source": [
    "master_db['date'] = pd.to_datetime(master_db['date'])\n",
    "master_db['time'] = pd.to_timedelta(master_db['time'] + ':00', unit='h')"
   ]
  },
  {
   "cell_type": "code",
   "execution_count": 7,
   "metadata": {
    "collapsed": true,
    "nbpresent": {
     "id": "7b8a2c89-9a86-49f3-aca7-3f4130a14cd1"
    }
   },
   "outputs": [],
   "source": [
    "master_db['date'] = master_db['date'].add(master_db['time']) # combine features into one date/time feature\n",
    "master_db = master_db.drop(['time'], axis=1)"
   ]
  },
  {
   "cell_type": "markdown",
   "metadata": {
    "nbpresent": {
     "id": "749202c7-46f2-414f-bff4-018711e35397"
    }
   },
   "source": [
    "#### d) Sort dataframe by date"
   ]
  },
  {
   "cell_type": "code",
   "execution_count": 8,
   "metadata": {
    "collapsed": false
   },
   "outputs": [
    {
     "data": {
      "text/html": [
       "<div>\n",
       "<table border=\"1\" class=\"dataframe\">\n",
       "  <thead>\n",
       "    <tr style=\"text-align: right;\">\n",
       "      <th></th>\n",
       "      <th>date</th>\n",
       "      <th>num_replies</th>\n",
       "      <th>text</th>\n",
       "      <th>time_last_reply</th>\n",
       "      <th>topic</th>\n",
       "      <th>user</th>\n",
       "    </tr>\n",
       "  </thead>\n",
       "  <tbody>\n",
       "    <tr>\n",
       "      <th>0</th>\n",
       "      <td>2016-05-23 23:34:00</td>\n",
       "      <td>1</td>\n",
       "      <td>A new topic?</td>\n",
       "      <td>Jun 19, 2016</td>\n",
       "      <td>Could this be...</td>\n",
       "      <td>Ralavik</td>\n",
       "    </tr>\n",
       "    <tr>\n",
       "      <th>1</th>\n",
       "      <td>2016-05-23 23:37:00</td>\n",
       "      <td>48</td>\n",
       "      <td>I'm curious what kind of exodus Battleborn wil...</td>\n",
       "      <td>Sep 10, 2016</td>\n",
       "      <td>Who else dropped Battleborn like a brick</td>\n",
       "      <td>umadbro</td>\n",
       "    </tr>\n",
       "    <tr>\n",
       "      <th>2</th>\n",
       "      <td>2016-05-23 23:38:00</td>\n",
       "      <td>1</td>\n",
       "      <td>Want to find a decent team to hang out and put...</td>\n",
       "      <td>May 27, 2016</td>\n",
       "      <td>Looking for skilled players</td>\n",
       "      <td>Bammer</td>\n",
       "    </tr>\n",
       "    <tr>\n",
       "      <th>3</th>\n",
       "      <td>2016-05-23 23:40:00</td>\n",
       "      <td>4</td>\n",
       "      <td>Best Monday of the year</td>\n",
       "      <td>Aug 15, 2016</td>\n",
       "      <td>Game is live...</td>\n",
       "      <td>Omni</td>\n",
       "    </tr>\n",
       "    <tr>\n",
       "      <th>4</th>\n",
       "      <td>2016-05-23 23:41:00</td>\n",
       "      <td>3</td>\n",
       "      <td>Apparently all of us were supposed to receive ...</td>\n",
       "      <td>Dec 11</td>\n",
       "      <td>Free Battletag Change?</td>\n",
       "      <td>SandyCheeks</td>\n",
       "    </tr>\n",
       "  </tbody>\n",
       "</table>\n",
       "</div>"
      ],
      "text/plain": [
       "                 date  num_replies  \\\n",
       "0 2016-05-23 23:34:00            1   \n",
       "1 2016-05-23 23:37:00           48   \n",
       "2 2016-05-23 23:38:00            1   \n",
       "3 2016-05-23 23:40:00            4   \n",
       "4 2016-05-23 23:41:00            3   \n",
       "\n",
       "                                                text time_last_reply  \\\n",
       "0                                       A new topic?    Jun 19, 2016   \n",
       "1  I'm curious what kind of exodus Battleborn wil...    Sep 10, 2016   \n",
       "2  Want to find a decent team to hang out and put...    May 27, 2016   \n",
       "3                            Best Monday of the year    Aug 15, 2016   \n",
       "4  Apparently all of us were supposed to receive ...          Dec 11   \n",
       "\n",
       "                                      topic         user  \n",
       "0                          Could this be...      Ralavik  \n",
       "1  Who else dropped Battleborn like a brick      umadbro  \n",
       "2               Looking for skilled players       Bammer  \n",
       "3                           Game is live...         Omni  \n",
       "4                    Free Battletag Change?  SandyCheeks  "
      ]
     },
     "execution_count": 8,
     "metadata": {},
     "output_type": "execute_result"
    }
   ],
   "source": [
    "master_db = master_db.sort_values(by='date')\n",
    "master_db = master_db.reset_index(drop=True)"
   ]
  },
  {
   "cell_type": "markdown",
   "metadata": {},
   "source": [
    "#### e) Combine \"topic\" and \"text\" features\n",
    "\n",
    "(This could take a minute)\n",
    "\n",
    "To create one unified chunk of text for each post without sacrificing data, I am going to make a new feature in the dataframe that treats the \"topic\" of a post as the first sentence of a post. From my experience of the significance of topic lines in posts of this forum, this seems like a reasonable assumption."
   ]
  },
  {
   "cell_type": "code",
   "execution_count": 9,
   "metadata": {
    "collapsed": false
   },
   "outputs": [],
   "source": [
    "master_db = utils.combine_text_cols(master_db)"
   ]
  },
  {
   "cell_type": "markdown",
   "metadata": {
    "nbpresent": {
     "id": "05b4bb39-02c7-4470-9c33-d3d0bcfed1f8"
    }
   },
   "source": [
    "#### f) Rearrange columns for better viewing"
   ]
  },
  {
   "cell_type": "code",
   "execution_count": 10,
   "metadata": {
    "collapsed": true,
    "nbpresent": {
     "id": "b3b7e384-314c-4216-8a39-8ae049f2bf9f"
    }
   },
   "outputs": [],
   "source": [
    "old_cols = master_db.columns.tolist()\n",
    "new_cols = ['date', 'user', 'all_text', 'topic', 'text', 'num_replies', 'time_last_reply']\n",
    "\n",
    "if set(old_cols) == set(new_cols):\n",
    "    master_db = master_db[new_cols]\n"
   ]
  },
  {
   "cell_type": "markdown",
   "metadata": {
    "nbpresent": {
     "id": "d009243d-f116-4995-a702-ba23ad90b5b6"
    }
   },
   "source": [
    "### What the data looked like BEFORE pre-processing:"
   ]
  },
  {
   "cell_type": "code",
   "execution_count": 11,
   "metadata": {
    "collapsed": false,
    "nbpresent": {
     "id": "498e4844-73db-4f79-ab13-ae6d9817d95e"
    }
   },
   "outputs": [
    {
     "data": {
      "text/html": [
       "<div>\n",
       "<table border=\"1\" class=\"dataframe\">\n",
       "  <thead>\n",
       "    <tr style=\"text-align: right;\">\n",
       "      <th></th>\n",
       "      <th>date</th>\n",
       "      <th>num_replies</th>\n",
       "      <th>text</th>\n",
       "      <th>time</th>\n",
       "      <th>time_last_reply</th>\n",
       "      <th>topic</th>\n",
       "      <th>user</th>\n",
       "    </tr>\n",
       "  </thead>\n",
       "  <tbody>\n",
       "    <tr>\n",
       "      <th>0</th>\n",
       "      <td>5/23/16</td>\n",
       "      <td>1</td>\n",
       "      <td>Welcome to the General Discussion forum! We en...</td>\n",
       "      <td>21:32</td>\n",
       "      <td>May 23, 2016</td>\n",
       "      <td>Welcome to General Discussion - Please Read!</td>\n",
       "      <td>Lylirra</td>\n",
       "    </tr>\n",
       "    <tr>\n",
       "      <th>1</th>\n",
       "      <td>5/23/16</td>\n",
       "      <td>0</td>\n",
       "      <td>To help us get the most of out of your feedbac...</td>\n",
       "      <td>21:36</td>\n",
       "      <td>May 23, 2016</td>\n",
       "      <td>Bug Report and Technical Support Forums</td>\n",
       "      <td>Lylirra</td>\n",
       "    </tr>\n",
       "    <tr>\n",
       "      <th>2</th>\n",
       "      <td>11/16/17</td>\n",
       "      <td>817</td>\n",
       "      <td>Hi everyone, We've seen a heavy influx of conv...</td>\n",
       "      <td>22:34</td>\n",
       "      <td>5m</td>\n",
       "      <td>[Feedback Thread] Mercy Updates - Nov 16, 2017</td>\n",
       "      <td>Tom Powers</td>\n",
       "    </tr>\n",
       "    <tr>\n",
       "      <th>3</th>\n",
       "      <td>11/18/17</td>\n",
       "      <td>22</td>\n",
       "      <td>Why 3 days? Wouldn't 1 day be enough?</td>\n",
       "      <td>04:20</td>\n",
       "      <td>1m</td>\n",
       "      <td>My issue with the XQC ban</td>\n",
       "      <td>Aldwyn</td>\n",
       "    </tr>\n",
       "    <tr>\n",
       "      <th>4</th>\n",
       "      <td>11/18/17</td>\n",
       "      <td>25</td>\n",
       "      <td>You should not leave voice chat just cause 1 g...</td>\n",
       "      <td>03:04</td>\n",
       "      <td>1m</td>\n",
       "      <td>I will report if you leave voice chat</td>\n",
       "      <td>Budda?</td>\n",
       "    </tr>\n",
       "  </tbody>\n",
       "</table>\n",
       "</div>"
      ],
      "text/plain": [
       "       date  num_replies                                               text  \\\n",
       "0   5/23/16            1  Welcome to the General Discussion forum! We en...   \n",
       "1   5/23/16            0  To help us get the most of out of your feedbac...   \n",
       "2  11/16/17          817  Hi everyone, We've seen a heavy influx of conv...   \n",
       "3  11/18/17           22              Why 3 days? Wouldn't 1 day be enough?   \n",
       "4  11/18/17           25  You should not leave voice chat just cause 1 g...   \n",
       "\n",
       "    time time_last_reply                                           topic  \\\n",
       "0  21:32    May 23, 2016    Welcome to General Discussion - Please Read!   \n",
       "1  21:36    May 23, 2016         Bug Report and Technical Support Forums   \n",
       "2  22:34              5m  [Feedback Thread] Mercy Updates - Nov 16, 2017   \n",
       "3  04:20              1m                       My issue with the XQC ban   \n",
       "4  03:04              1m           I will report if you leave voice chat   \n",
       "\n",
       "         user  \n",
       "0     Lylirra  \n",
       "1     Lylirra  \n",
       "2  Tom Powers  \n",
       "3      Aldwyn  \n",
       "4      Budda?  "
      ]
     },
     "execution_count": 11,
     "metadata": {},
     "output_type": "execute_result"
    }
   ],
   "source": [
    "before_preprocess"
   ]
  },
  {
   "cell_type": "markdown",
   "metadata": {
    "nbpresent": {
     "id": "5f73781e-5bee-4683-914e-c66b46022b63"
    }
   },
   "source": [
    "### What the data looks like AFTER pre-processing:"
   ]
  },
  {
   "cell_type": "code",
   "execution_count": 12,
   "metadata": {
    "collapsed": false,
    "nbpresent": {
     "id": "6f8b1009-5e4e-4e1d-ac3b-c2521740b33a"
    }
   },
   "outputs": [
    {
     "data": {
      "text/html": [
       "<div>\n",
       "<table border=\"1\" class=\"dataframe\">\n",
       "  <thead>\n",
       "    <tr style=\"text-align: right;\">\n",
       "      <th></th>\n",
       "      <th>date</th>\n",
       "      <th>user</th>\n",
       "      <th>all_text</th>\n",
       "      <th>topic</th>\n",
       "      <th>text</th>\n",
       "      <th>num_replies</th>\n",
       "      <th>time_last_reply</th>\n",
       "    </tr>\n",
       "  </thead>\n",
       "  <tbody>\n",
       "    <tr>\n",
       "      <th>0</th>\n",
       "      <td>2016-05-23 23:34:00</td>\n",
       "      <td>Ralavik</td>\n",
       "      <td>Could this be... A new topic?</td>\n",
       "      <td>Could this be...</td>\n",
       "      <td>A new topic?</td>\n",
       "      <td>1</td>\n",
       "      <td>Jun 19, 2016</td>\n",
       "    </tr>\n",
       "    <tr>\n",
       "      <th>1</th>\n",
       "      <td>2016-05-23 23:37:00</td>\n",
       "      <td>umadbro</td>\n",
       "      <td>Who else dropped Battleborn like a brick. I'm ...</td>\n",
       "      <td>Who else dropped Battleborn like a brick</td>\n",
       "      <td>I'm curious what kind of exodus Battleborn wil...</td>\n",
       "      <td>48</td>\n",
       "      <td>Sep 10, 2016</td>\n",
       "    </tr>\n",
       "    <tr>\n",
       "      <th>2</th>\n",
       "      <td>2016-05-23 23:38:00</td>\n",
       "      <td>Bammer</td>\n",
       "      <td>Looking for skilled players. Want to find a de...</td>\n",
       "      <td>Looking for skilled players</td>\n",
       "      <td>Want to find a decent team to hang out and put...</td>\n",
       "      <td>1</td>\n",
       "      <td>May 27, 2016</td>\n",
       "    </tr>\n",
       "    <tr>\n",
       "      <th>3</th>\n",
       "      <td>2016-05-23 23:40:00</td>\n",
       "      <td>Omni</td>\n",
       "      <td>Game is live... Best Monday of the year</td>\n",
       "      <td>Game is live...</td>\n",
       "      <td>Best Monday of the year</td>\n",
       "      <td>4</td>\n",
       "      <td>Aug 15, 2016</td>\n",
       "    </tr>\n",
       "    <tr>\n",
       "      <th>4</th>\n",
       "      <td>2016-05-23 23:41:00</td>\n",
       "      <td>SandyCheeks</td>\n",
       "      <td>Free Battletag Change? Apparently all of us we...</td>\n",
       "      <td>Free Battletag Change?</td>\n",
       "      <td>Apparently all of us were supposed to receive ...</td>\n",
       "      <td>3</td>\n",
       "      <td>Dec 11</td>\n",
       "    </tr>\n",
       "  </tbody>\n",
       "</table>\n",
       "</div>"
      ],
      "text/plain": [
       "                 date         user  \\\n",
       "0 2016-05-23 23:34:00      Ralavik   \n",
       "1 2016-05-23 23:37:00      umadbro   \n",
       "2 2016-05-23 23:38:00       Bammer   \n",
       "3 2016-05-23 23:40:00         Omni   \n",
       "4 2016-05-23 23:41:00  SandyCheeks   \n",
       "\n",
       "                                            all_text  \\\n",
       "0                      Could this be... A new topic?   \n",
       "1  Who else dropped Battleborn like a brick. I'm ...   \n",
       "2  Looking for skilled players. Want to find a de...   \n",
       "3            Game is live... Best Monday of the year   \n",
       "4  Free Battletag Change? Apparently all of us we...   \n",
       "\n",
       "                                      topic  \\\n",
       "0                          Could this be...   \n",
       "1  Who else dropped Battleborn like a brick   \n",
       "2               Looking for skilled players   \n",
       "3                           Game is live...   \n",
       "4                    Free Battletag Change?   \n",
       "\n",
       "                                                text  num_replies  \\\n",
       "0                                       A new topic?            1   \n",
       "1  I'm curious what kind of exodus Battleborn wil...           48   \n",
       "2  Want to find a decent team to hang out and put...            1   \n",
       "3                            Best Monday of the year            4   \n",
       "4  Apparently all of us were supposed to receive ...            3   \n",
       "\n",
       "  time_last_reply  \n",
       "0    Jun 19, 2016  \n",
       "1    Sep 10, 2016  \n",
       "2    May 27, 2016  \n",
       "3    Aug 15, 2016  \n",
       "4          Dec 11  "
      ]
     },
     "execution_count": 12,
     "metadata": {},
     "output_type": "execute_result"
    }
   ],
   "source": [
    "master_db.head()"
   ]
  },
  {
   "cell_type": "markdown",
   "metadata": {},
   "source": [
    "**Note on final features:** Some features (i.e. \"num_replies\" and \"time_last_reply\") will not be used in subsequent analysis and modeling. However, these features are included because they may be useful for future work."
   ]
  },
  {
   "cell_type": "markdown",
   "metadata": {
    "nbpresent": {
     "id": "7be7ce35-ed30-4cb6-9553-8c41535b7817"
    }
   },
   "source": [
    "***"
   ]
  },
  {
   "cell_type": "markdown",
   "metadata": {
    "nbpresent": {
     "id": "1fb7055f-f43f-4597-a67c-154f7bed2930"
    }
   },
   "source": [
    "<div align=\"right\">\n",
    "    [back to top](#toc)\n",
    "</div>\n",
    "\n",
    "\n",
    "<a id='section3'></a>\n",
    "\n",
    "## 3) Basic EDA\n",
    "(This may also take a minute)"
   ]
  },
  {
   "cell_type": "code",
   "execution_count": 14,
   "metadata": {
    "collapsed": false,
    "nbpresent": {
     "id": "665a4b84-de1f-44da-9c7d-dad362351850"
    }
   },
   "outputs": [
    {
     "name": "stdout",
     "output_type": "stream",
     "text": [
      "Size of dataset = 622.17 MB\n",
      "Number of forum posts = 428092\n",
      "Number of posts dropped due to NaN: 68\n",
      "Feature names: ['date', 'user', 'all_text', 'topic', 'text', 'num_replies', 'time_last_reply']\n",
      "Most replies a post received: 8749\n",
      "Average number of replies per post: 9.95\n",
      "Number of unique users: 85308\n",
      "Number of users with over 50 posts: 1370\n",
      "Average number of posts per user: 5.02\n",
      "Oldest Post in Dataset: 0\n",
      "Newest Post in Dataset: 428091\n"
     ]
    }
   ],
   "source": [
    "total_posts = master_db.shape[0]\n",
    "total_users = len(set(master_db['user']))\n",
    "avg_post = total_posts/total_users\n",
    "\n",
    "#find number of users with more than 50 posts\n",
    "counter = Counter(master_db['user'])\n",
    "over_50_posts = 0\n",
    "for values in counter.items():\n",
    "    if values[1] >= 50:\n",
    "        over_50_posts += 1\n",
    "\n",
    "print(\"Size of dataset = {0:.2f} MB\".format(sys.getsizeof(master_db)/1000000))\n",
    "print(\"Number of forum posts = {}\".format(total_posts))\n",
    "print(\"Number of posts dropped due to NaN: {}\".format(rows_before-master_db.shape[0]))\n",
    "print(\"Feature names: {}\".format(list(master_db)))\n",
    "print(\"Most replies a post received: {}\".format(max(master_db['num_replies'])))\n",
    "print(\"Average number of replies per post: {0:.2f}\".format(np.mean(master_db['num_replies'])))\n",
    "print(\"Number of unique users: {}\".format(len(set(master_db['user']))))\n",
    "print(\"Number of users with over 50 posts: {}\".format(over_50_posts))\n",
    "print(\"Average number of posts per user: {0:.2f}\".format(avg_post))\n",
    "print(\"Oldest Post in Dataset: {}\".format(master_db.head(n=1).index.tolist()[0]))\n",
    "print(\"Newest Post in Dataset: {}\".format(master_db.tail(n=1).index.tolist()[0]))"
   ]
  },
  {
   "cell_type": "markdown",
   "metadata": {
    "nbpresent": {
     "id": "70c1eea4-c26b-4ed0-8568-824e58717255"
    }
   },
   "source": [
    "**Note on quantity of data:** This dataset does not look at the text in replies to forum post, it only looks at the forum post text itself. However because we see an average of about 10 replies per post, if we assume that the replies to a post have about as much text each as the post itself (actually seems possible for this forum) then gathering this data would increase our dataset by an order of magnitude. Something to keep in mind if \"needing more data\" seems like a problem down the line."
   ]
  },
  {
   "cell_type": "markdown",
   "metadata": {
    "nbpresent": {
     "id": "4e79ac1b-d044-4224-a412-cf6a4bd6ad12"
    }
   },
   "source": [
    "***"
   ]
  },
  {
   "cell_type": "markdown",
   "metadata": {
    "nbpresent": {
     "id": "37683bb9-dbc2-4a2e-a1d5-0a8c2c5860ba"
    }
   },
   "source": [
    "<div align=\"right\">\n",
    "    [back to top](#toc)\n",
    "</div>\n",
    "\n",
    "<a id=\"section4\"></a>\n",
    "\n",
    "## 4) Exploring \"per month\" slices\n",
    "\n",
    "Because dates range from 2016-05-23 to 2017-11-18 we will be able to make 17 \"per month slices\" starting with June 2016 and ending with October 2017."
   ]
  },
  {
   "cell_type": "code",
   "execution_count": 34,
   "metadata": {
    "collapsed": false,
    "nbpresent": {
     "id": "d1f160f5-fc3d-4352-a6a9-294b2373ad0e"
    }
   },
   "outputs": [],
   "source": [
    "month_1_df = utils.df_for_month(master_db, 6, 2016)\n",
    "month_1_users = len(set(month_1_df['user'])) # num of unique users this month"
   ]
  },
  {
   "cell_type": "code",
   "execution_count": 29,
   "metadata": {
    "collapsed": false,
    "nbpresent": {
     "id": "63dab328-0fb5-4a28-a414-277a52236c66"
    }
   },
   "outputs": [
    {
     "data": {
      "text/html": [
       "<div>\n",
       "<table border=\"1\" class=\"dataframe\">\n",
       "  <thead>\n",
       "    <tr style=\"text-align: right;\">\n",
       "      <th></th>\n",
       "      <th>date</th>\n",
       "      <th>user</th>\n",
       "      <th>all_text</th>\n",
       "      <th>topic</th>\n",
       "      <th>text</th>\n",
       "      <th>num_replies</th>\n",
       "      <th>time_last_reply</th>\n",
       "    </tr>\n",
       "  </thead>\n",
       "  <tbody>\n",
       "    <tr>\n",
       "      <th>4157</th>\n",
       "      <td>2016-06-01 00:00:00</td>\n",
       "      <td>Kissker</td>\n",
       "      <td>When did they vanish? (velvet ropes) Did the v...</td>\n",
       "      <td>When did they vanish? (velvet ropes)</td>\n",
       "      <td>Did the velvet ropes do something wrong? I don...</td>\n",
       "      <td>3</td>\n",
       "      <td>Jun 1, 2016</td>\n",
       "    </tr>\n",
       "    <tr>\n",
       "      <th>4158</th>\n",
       "      <td>2016-06-01 00:02:00</td>\n",
       "      <td>Requiem</td>\n",
       "      <td>Consecutive Match Bonus is Unhealthy. There is...</td>\n",
       "      <td>Consecutive Match Bonus is Unhealthy</td>\n",
       "      <td>There is one thing that I have noticed since s...</td>\n",
       "      <td>10</td>\n",
       "      <td>Apr 30</td>\n",
       "    </tr>\n",
       "    <tr>\n",
       "      <th>4159</th>\n",
       "      <td>2016-06-01 00:02:00</td>\n",
       "      <td>DeminRamst</td>\n",
       "      <td>What's your patch note dream? I think it's typ...</td>\n",
       "      <td>What's your patch note dream?</td>\n",
       "      <td>I think it's typical of any game, you get hook...</td>\n",
       "      <td>117</td>\n",
       "      <td>Oct 18, 2016</td>\n",
       "    </tr>\n",
       "  </tbody>\n",
       "</table>\n",
       "</div>"
      ],
      "text/plain": [
       "                    date        user  \\\n",
       "4157 2016-06-01 00:00:00     Kissker   \n",
       "4158 2016-06-01 00:02:00     Requiem   \n",
       "4159 2016-06-01 00:02:00  DeminRamst   \n",
       "\n",
       "                                               all_text  \\\n",
       "4157  When did they vanish? (velvet ropes) Did the v...   \n",
       "4158  Consecutive Match Bonus is Unhealthy. There is...   \n",
       "4159  What's your patch note dream? I think it's typ...   \n",
       "\n",
       "                                     topic  \\\n",
       "4157  When did they vanish? (velvet ropes)   \n",
       "4158  Consecutive Match Bonus is Unhealthy   \n",
       "4159         What's your patch note dream?   \n",
       "\n",
       "                                                   text  num_replies  \\\n",
       "4157  Did the velvet ropes do something wrong? I don...            3   \n",
       "4158  There is one thing that I have noticed since s...           10   \n",
       "4159  I think it's typical of any game, you get hook...          117   \n",
       "\n",
       "     time_last_reply  \n",
       "4157     Jun 1, 2016  \n",
       "4158          Apr 30  \n",
       "4159    Oct 18, 2016  "
      ]
     },
     "execution_count": 29,
     "metadata": {},
     "output_type": "execute_result"
    }
   ],
   "source": [
    "month_1_df.head(n=3)"
   ]
  },
  {
   "cell_type": "code",
   "execution_count": 30,
   "metadata": {
    "collapsed": false,
    "nbpresent": {
     "id": "cd358264-46c6-4593-bb83-55055e4c4da9"
    }
   },
   "outputs": [
    {
     "data": {
      "text/html": [
       "<div>\n",
       "<table border=\"1\" class=\"dataframe\">\n",
       "  <thead>\n",
       "    <tr style=\"text-align: right;\">\n",
       "      <th></th>\n",
       "      <th>date</th>\n",
       "      <th>user</th>\n",
       "      <th>all_text</th>\n",
       "      <th>topic</th>\n",
       "      <th>text</th>\n",
       "      <th>num_replies</th>\n",
       "      <th>time_last_reply</th>\n",
       "    </tr>\n",
       "  </thead>\n",
       "  <tbody>\n",
       "    <tr>\n",
       "      <th>23857</th>\n",
       "      <td>2016-06-30 23:57:00</td>\n",
       "      <td>Cabskee</td>\n",
       "      <td>\"View Career Profile\" should change based on g...</td>\n",
       "      <td>\"View Career Profile\" should change based on g...</td>\n",
       "      <td>In a Ranked game, when you click \"View Career ...</td>\n",
       "      <td>0</td>\n",
       "      <td>Jun 30, 2016</td>\n",
       "    </tr>\n",
       "    <tr>\n",
       "      <th>23858</th>\n",
       "      <td>2016-06-30 23:58:00</td>\n",
       "      <td>TravokWolf</td>\n",
       "      <td>Competitive Reward. Easy fix to allow people t...</td>\n",
       "      <td>Competitive Reward</td>\n",
       "      <td>Easy fix to allow people to feel progression (...</td>\n",
       "      <td>2</td>\n",
       "      <td>Jul 1, 2016</td>\n",
       "    </tr>\n",
       "    <tr>\n",
       "      <th>23859</th>\n",
       "      <td>2016-06-30 23:59:00</td>\n",
       "      <td>MoonPunisher</td>\n",
       "      <td>Your ranked system is unbearable. The amount o...</td>\n",
       "      <td>Your ranked system is unbearable.</td>\n",
       "      <td>The amount of matches with leavers is ridiculo...</td>\n",
       "      <td>0</td>\n",
       "      <td>Jun 30, 2016</td>\n",
       "    </tr>\n",
       "  </tbody>\n",
       "</table>\n",
       "</div>"
      ],
      "text/plain": [
       "                     date          user  \\\n",
       "23857 2016-06-30 23:57:00       Cabskee   \n",
       "23858 2016-06-30 23:58:00    TravokWolf   \n",
       "23859 2016-06-30 23:59:00  MoonPunisher   \n",
       "\n",
       "                                                all_text  \\\n",
       "23857  \"View Career Profile\" should change based on g...   \n",
       "23858  Competitive Reward. Easy fix to allow people t...   \n",
       "23859  Your ranked system is unbearable. The amount o...   \n",
       "\n",
       "                                                   topic  \\\n",
       "23857  \"View Career Profile\" should change based on g...   \n",
       "23858                                 Competitive Reward   \n",
       "23859                  Your ranked system is unbearable.   \n",
       "\n",
       "                                                    text  num_replies  \\\n",
       "23857  In a Ranked game, when you click \"View Career ...            0   \n",
       "23858  Easy fix to allow people to feel progression (...            2   \n",
       "23859  The amount of matches with leavers is ridiculo...            0   \n",
       "\n",
       "      time_last_reply  \n",
       "23857    Jun 30, 2016  \n",
       "23858     Jul 1, 2016  \n",
       "23859    Jun 30, 2016  "
      ]
     },
     "execution_count": 30,
     "metadata": {},
     "output_type": "execute_result"
    }
   ],
   "source": [
    "month_1_df.tail(n=3)"
   ]
  },
  {
   "cell_type": "markdown",
   "metadata": {
    "nbpresent": {
     "id": "b75f7f1b-f661-4497-8636-59e84da9392a"
    }
   },
   "source": [
    "So we see that we've isolated one month of posts..."
   ]
  },
  {
   "cell_type": "code",
   "execution_count": 31,
   "metadata": {
    "collapsed": false,
    "nbpresent": {
     "id": "317a56c2-7d9a-430b-939f-1095e29b8c0d"
    }
   },
   "outputs": [
    {
     "name": "stdout",
     "output_type": "stream",
     "text": [
      "Unique users this month: 8843\n",
      "Average posts per user this month: 2.23\n"
     ]
    }
   ],
   "source": [
    "print(\"Unique users this month: {}\".format(month_1_users))\n",
    "print(\"Average posts per user this month: {:.2f}\".format(month_1_df.shape[0]/month_1_users))"
   ]
  },
  {
   "cell_type": "markdown",
   "metadata": {},
   "source": [
    "#### Separating ALL months\n",
    "\n",
    "Now that we see how splitting one month looks. Let's create separate dataframes for each FULL month of posts. This includes the timespan of 06/2016 to 10/2017. A total of 17 months. Just short of a year and a half! Compared to the RateBeer/BeerReview datasets (around 10 years) this will be a very small time frame. However the density of posts in this short time is very high so we're hopeful that something may come of this :)"
   ]
  },
  {
   "cell_type": "code",
   "execution_count": 42,
   "metadata": {
    "collapsed": false
   },
   "outputs": [],
   "source": [
    "df_by_month = utils.make_all_months(master_db)\n",
    "month_keys = {\"06_2016\":0, \"07_2016\":1, \"08_2016\":2, \"09_2016\":3, \n",
    "              \"10_2016\":4, \"11_2016\":5, \"12_2016\":6, \"01_2017\":7, \n",
    "              \"02_2017\":8, \"03_2017\":9, \"04_2017\":10, \"05_2017\":11,\n",
    "              \"06_2017\":12, \"07_2017\":13, \"08_2017\":14, \"09_2017\":15, \"10_2017\":16}"
   ]
  },
  {
   "cell_type": "code",
   "execution_count": 43,
   "metadata": {
    "collapsed": false
   },
   "outputs": [
    {
     "data": {
      "text/html": [
       "<div>\n",
       "<table border=\"1\" class=\"dataframe\">\n",
       "  <thead>\n",
       "    <tr style=\"text-align: right;\">\n",
       "      <th></th>\n",
       "      <th>date</th>\n",
       "      <th>user</th>\n",
       "      <th>all_text</th>\n",
       "      <th>topic</th>\n",
       "      <th>text</th>\n",
       "      <th>num_replies</th>\n",
       "      <th>time_last_reply</th>\n",
       "    </tr>\n",
       "  </thead>\n",
       "  <tbody>\n",
       "    <tr>\n",
       "      <th>4157</th>\n",
       "      <td>2016-06-01 00:00:00</td>\n",
       "      <td>Kissker</td>\n",
       "      <td>When did they vanish? (velvet ropes) Did the v...</td>\n",
       "      <td>When did they vanish? (velvet ropes)</td>\n",
       "      <td>Did the velvet ropes do something wrong? I don...</td>\n",
       "      <td>3</td>\n",
       "      <td>Jun 1, 2016</td>\n",
       "    </tr>\n",
       "    <tr>\n",
       "      <th>4158</th>\n",
       "      <td>2016-06-01 00:02:00</td>\n",
       "      <td>Requiem</td>\n",
       "      <td>Consecutive Match Bonus is Unhealthy. There is...</td>\n",
       "      <td>Consecutive Match Bonus is Unhealthy</td>\n",
       "      <td>There is one thing that I have noticed since s...</td>\n",
       "      <td>10</td>\n",
       "      <td>Apr 30</td>\n",
       "    </tr>\n",
       "    <tr>\n",
       "      <th>4159</th>\n",
       "      <td>2016-06-01 00:02:00</td>\n",
       "      <td>DeminRamst</td>\n",
       "      <td>What's your patch note dream? I think it's typ...</td>\n",
       "      <td>What's your patch note dream?</td>\n",
       "      <td>I think it's typical of any game, you get hook...</td>\n",
       "      <td>117</td>\n",
       "      <td>Oct 18, 2016</td>\n",
       "    </tr>\n",
       "    <tr>\n",
       "      <th>4160</th>\n",
       "      <td>2016-06-01 00:03:00</td>\n",
       "      <td>HaPpY</td>\n",
       "      <td>Ranked MM Algorithm Proposal. TLDR: soloing vs...</td>\n",
       "      <td>Ranked MM Algorithm Proposal</td>\n",
       "      <td>TLDR: soloing vs groups frustrating... MM twea...</td>\n",
       "      <td>2</td>\n",
       "      <td>Jun 1, 2016</td>\n",
       "    </tr>\n",
       "    <tr>\n",
       "      <th>4161</th>\n",
       "      <td>2016-06-01 00:03:00</td>\n",
       "      <td>Zeriu</td>\n",
       "      <td>Deflecting Hanzos Ult back? I had no idea you ...</td>\n",
       "      <td>Deflecting Hanzos Ult back?</td>\n",
       "      <td>I had no idea you could deflect Hanzos ult dir...</td>\n",
       "      <td>0</td>\n",
       "      <td>Jun 1, 2016</td>\n",
       "    </tr>\n",
       "  </tbody>\n",
       "</table>\n",
       "</div>"
      ],
      "text/plain": [
       "                    date        user  \\\n",
       "4157 2016-06-01 00:00:00     Kissker   \n",
       "4158 2016-06-01 00:02:00     Requiem   \n",
       "4159 2016-06-01 00:02:00  DeminRamst   \n",
       "4160 2016-06-01 00:03:00       HaPpY   \n",
       "4161 2016-06-01 00:03:00       Zeriu   \n",
       "\n",
       "                                               all_text  \\\n",
       "4157  When did they vanish? (velvet ropes) Did the v...   \n",
       "4158  Consecutive Match Bonus is Unhealthy. There is...   \n",
       "4159  What's your patch note dream? I think it's typ...   \n",
       "4160  Ranked MM Algorithm Proposal. TLDR: soloing vs...   \n",
       "4161  Deflecting Hanzos Ult back? I had no idea you ...   \n",
       "\n",
       "                                     topic  \\\n",
       "4157  When did they vanish? (velvet ropes)   \n",
       "4158  Consecutive Match Bonus is Unhealthy   \n",
       "4159         What's your patch note dream?   \n",
       "4160          Ranked MM Algorithm Proposal   \n",
       "4161           Deflecting Hanzos Ult back?   \n",
       "\n",
       "                                                   text  num_replies  \\\n",
       "4157  Did the velvet ropes do something wrong? I don...            3   \n",
       "4158  There is one thing that I have noticed since s...           10   \n",
       "4159  I think it's typical of any game, you get hook...          117   \n",
       "4160  TLDR: soloing vs groups frustrating... MM twea...            2   \n",
       "4161  I had no idea you could deflect Hanzos ult dir...            0   \n",
       "\n",
       "     time_last_reply  \n",
       "4157     Jun 1, 2016  \n",
       "4158          Apr 30  \n",
       "4159    Oct 18, 2016  \n",
       "4160     Jun 1, 2016  \n",
       "4161     Jun 1, 2016  "
      ]
     },
     "execution_count": 43,
     "metadata": {},
     "output_type": "execute_result"
    }
   ],
   "source": [
    "df_by_month[month_keys[\"06_2016\"]].head()"
   ]
  },
  {
   "cell_type": "markdown",
   "metadata": {
    "nbpresent": {
     "id": "88658b03-2185-4d67-b892-b4442fafc164"
    }
   },
   "source": [
    "<div align=right>\n",
    "    [back to top](#toc)\n",
    "</div>\n",
    "\n",
    "<a id=\"section5\"></a>\n",
    "\n",
    "### Step 5) Tokenize posts"
   ]
  },
  {
   "cell_type": "code",
   "execution_count": 19,
   "metadata": {
    "collapsed": true,
    "nbpresent": {
     "id": "dbf4596f-5384-41d9-b8d5-4fa70224876d"
    }
   },
   "outputs": [
    {
     "ename": "NameError",
     "evalue": "name 'counts' is not defined",
     "output_type": "error",
     "traceback": [
      "\u001b[0;31m---------------------------------------------------------------------------\u001b[0m",
      "\u001b[0;31mNameError\u001b[0m                                 Traceback (most recent call last)",
      "\u001b[0;32m<ipython-input-19-2f998b1e613d>\u001b[0m in \u001b[0;36m<module>\u001b[0;34m()\u001b[0m\n\u001b[0;32m----> 1\u001b[0;31m \u001b[0mprint\u001b[0m\u001b[1;33m(\u001b[0m\u001b[0mcounts\u001b[0m\u001b[1;33m.\u001b[0m\u001b[0mmost_common\u001b[0m\u001b[1;33m(\u001b[0m\u001b[1;36m50\u001b[0m\u001b[1;33m)\u001b[0m\u001b[1;33m)\u001b[0m\u001b[1;33m\u001b[0m\u001b[0m\n\u001b[0m",
      "\u001b[0;31mNameError\u001b[0m: name 'counts' is not defined"
     ]
    }
   ],
   "source": [
    "print(counts.most_common(50))"
   ]
  },
  {
   "cell_type": "code",
   "execution_count": 25,
   "metadata": {
    "collapsed": true,
    "nbpresent": {
     "id": "25727e7f-e942-4351-a4aa-535d332e80b0"
    }
   },
   "outputs": [
    {
     "data": {
      "text/plain": [
       "[('.', 101440),\n",
       " (',', 79464),\n",
       " ('I', 50959),\n",
       " ('?', 17133),\n",
       " (\"'s\", 16519),\n",
       " ('game', 15562),\n",
       " (\"n't\", 15179),\n",
       " (')', 11164),\n",
       " ('team', 10580),\n",
       " ('like', 9973),\n",
       " ('(', 9892),\n",
       " (':', 9578),\n",
       " ('would', 9233),\n",
       " ('get', 8516),\n",
       " ('play', 8397),\n",
       " ('people', 7414),\n",
       " ('``', 6844),\n",
       " (\"''\", 6746),\n",
       " ('!', 6381),\n",
       " ('one', 6375),\n",
       " ('time', 5937),\n",
       " (\"'m\", 5853),\n",
       " ('...', 5611),\n",
       " ('players', 5607),\n",
       " ('damage', 5210),\n",
       " ('even', 5032),\n",
       " ('think', 5022),\n",
       " ('It', 4894),\n",
       " ('The', 4817),\n",
       " ('know', 4497),\n",
       " ('-', 4468),\n",
       " ('games', 4436),\n",
       " ('--', 4362),\n",
       " ('really', 4333),\n",
       " ('see', 4213),\n",
       " ('This', 4121),\n",
       " ('could', 3977),\n",
       " ('make', 3918),\n",
       " ('playing', 3832),\n",
       " ('good', 3799),\n",
       " ('want', 3702),\n",
       " ('much', 3617),\n",
       " ('hero', 3535),\n",
       " ('way', 3533),\n",
       " ('match', 3401),\n",
       " ('%', 3393),\n",
       " ('If', 3378),\n",
       " ('So', 3245),\n",
       " ('2', 3181),\n",
       " (\"'ve\", 3167)]"
      ]
     },
     "execution_count": 25,
     "metadata": {},
     "output_type": "execute_result"
    }
   ],
   "source": [
    "freqdist = count_tokens(month_1_text[\"text\"])\n",
    "freqdist.most_common(50)"
   ]
  },
  {
   "cell_type": "code",
   "execution_count": null,
   "metadata": {
    "collapsed": false,
    "nbpresent": {
     "id": "3fd1e0f0-cb78-48b3-bf10-3dd6a805794a"
    }
   },
   "outputs": [],
   "source": []
  },
  {
   "cell_type": "code",
   "execution_count": null,
   "metadata": {
    "collapsed": false,
    "nbpresent": {
     "id": "80194498-fcdb-494b-a441-1ab4b7bda067"
    }
   },
   "outputs": [],
   "source": []
  },
  {
   "cell_type": "markdown",
   "metadata": {
    "nbpresent": {
     "id": "6a7e11fe-8a10-4b33-9e0b-2d217aee9ef8"
    }
   },
   "source": [
    "***"
   ]
  },
  {
   "cell_type": "code",
   "execution_count": 45,
   "metadata": {
    "collapsed": true,
    "nbpresent": {
     "id": "1dc563f5-51c9-43fc-b0c0-925f288cb436"
    }
   },
   "outputs": [],
   "source": [
    "sc2_db = sc2_db.drop('Unnamed: 0', axis=1)"
   ]
  },
  {
   "cell_type": "code",
   "execution_count": 59,
   "metadata": {
    "collapsed": true,
    "nbpresent": {
     "id": "db35ab87-a0a0-4725-af27-2b560a900cc2"
    }
   },
   "outputs": [],
   "source": [
    "test = sc2_db.loc[sc2_db['num_replies'] == 2762][\"text\"]"
   ]
  },
  {
   "cell_type": "code",
   "execution_count": 69,
   "metadata": {
    "collapsed": true,
    "nbpresent": {
     "id": "3954a1a6-9c34-44fb-8c37-257b636634d0"
    }
   },
   "outputs": [
    {
     "data": {
      "text/plain": [
       "'Is there anyway to get your online character name changed? The game was set up for me, and they chose the name for me.'"
      ]
     },
     "execution_count": 69,
     "metadata": {},
     "output_type": "execute_result"
    }
   ],
   "source": [
    "test.iloc[0]"
   ]
  },
  {
   "cell_type": "code",
   "execution_count": 72,
   "metadata": {
    "collapsed": false,
    "nbpresent": {
     "id": "452d5304-b042-43f2-ac81-768d53026832"
    }
   },
   "outputs": [],
   "source": [
    "sc2_db_test = sc2_db"
   ]
  },
  {
   "cell_type": "code",
   "execution_count": 73,
   "metadata": {
    "collapsed": false,
    "nbpresent": {
     "id": "942e4435-79b1-4b47-af7d-50a27566bab5"
    }
   },
   "outputs": [],
   "source": [
    "sc2_db_test = sc2_db_test.set_index(['date'])"
   ]
  },
  {
   "cell_type": "code",
   "execution_count": 79,
   "metadata": {
    "collapsed": true,
    "nbpresent": {
     "id": "d1466431-d562-4997-9658-48d320aa259f"
    }
   },
   "outputs": [
    {
     "data": {
      "text/plain": [
       "15.189090946168474"
      ]
     },
     "execution_count": 79,
     "metadata": {},
     "output_type": "execute_result"
    }
   ],
   "source": [
    "sc2_db_test['num_replies'].mean()"
   ]
  },
  {
   "cell_type": "code",
   "execution_count": null,
   "metadata": {
    "collapsed": false,
    "nbpresent": {
     "id": "23b8404d-f0b0-4014-84bf-6d4a3b83ea76"
    }
   },
   "outputs": [],
   "source": []
  }
 ],
 "metadata": {
  "anaconda-cloud": {},
  "kernelspec": {
   "display_name": "Python [conda root]",
   "language": "python",
   "name": "conda-root-py"
  },
  "language_info": {
   "codemirror_mode": {
    "name": "ipython",
    "version": 3
   },
   "file_extension": ".py",
   "mimetype": "text/x-python",
   "name": "python",
   "nbconvert_exporter": "python",
   "pygments_lexer": "ipython3",
   "version": "3.5.2"
  },
  "nbpresent": {
   "slides": {},
   "themes": {
    "default": "0c4c23af-d300-48dd-b943-217cb1bff0da",
    "theme": {}
   }
  }
 },
 "nbformat": 4,
 "nbformat_minor": 2
}
